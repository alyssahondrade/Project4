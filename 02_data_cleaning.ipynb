{
 "cells": [
  {
   "cell_type": "markdown",
   "id": "b85a2817-86f6-48f9-bf4d-4c2082b8e50e",
   "metadata": {},
   "source": [
    "# Data Cleaning"
   ]
  },
  {
   "cell_type": "code",
   "execution_count": 1,
   "id": "e14cb3a8-dd1d-4806-8c0a-915c99a4ceb4",
   "metadata": {},
   "outputs": [],
   "source": [
    "# Import dependencies\n",
    "import os\n",
    "import pandas as pd\n",
    "import numpy as np\n",
    "from scipy.stats import skew\n",
    "from statistics import mean\n",
    "import matplotlib.pyplot as plt\n",
    "\n",
    "%run functions.ipynb"
   ]
  },
  {
   "cell_type": "markdown",
   "id": "efff1f30-4805-457f-91a9-fc020c4ac655",
   "metadata": {
    "tags": []
   },
   "source": [
    "## Read in Files"
   ]
  },
  {
   "cell_type": "code",
   "execution_count": 2,
   "id": "82963998-93f2-4c22-a1ab-a708c7d18dd1",
   "metadata": {},
   "outputs": [],
   "source": [
    "# Raw dataset file path\n",
    "rawdata_path = \"resources/voiced_dataset/\"\n",
    "\n",
    "# Get all the files in the directory\n",
    "files = os.listdir(rawdata_path)"
   ]
  },
  {
   "cell_type": "code",
   "execution_count": 3,
   "id": "240940ae-3aa7-4c8c-b444-6211248d8c55",
   "metadata": {},
   "outputs": [
    {
     "data": {
      "text/html": [
       "<div>\n",
       "<style scoped>\n",
       "    .dataframe tbody tr th:only-of-type {\n",
       "        vertical-align: middle;\n",
       "    }\n",
       "\n",
       "    .dataframe tbody tr th {\n",
       "        vertical-align: top;\n",
       "    }\n",
       "\n",
       "    .dataframe thead th {\n",
       "        text-align: right;\n",
       "    }\n",
       "</style>\n",
       "<table border=\"1\" class=\"dataframe\">\n",
       "  <thead>\n",
       "    <tr style=\"text-align: right;\">\n",
       "      <th></th>\n",
       "      <th>ID</th>\n",
       "      <th>Age</th>\n",
       "      <th>Gender</th>\n",
       "      <th>Diagnosis</th>\n",
       "      <th>Occupation status</th>\n",
       "      <th>Voice Handicap Index (VHI) Score</th>\n",
       "      <th>Reflux Symptom Index (RSI) Score</th>\n",
       "      <th>Smoker</th>\n",
       "      <th>Number of cigarettes smoked per day</th>\n",
       "      <th>Alcohol consumption</th>\n",
       "      <th>...</th>\n",
       "      <th>Amount of glasses drinked in a day</th>\n",
       "      <th>Tomatoes</th>\n",
       "      <th>Coffee</th>\n",
       "      <th>Number of cups of coffee drinked in a day</th>\n",
       "      <th>Chocolate</th>\n",
       "      <th>Gramme of chocolate eaten in  a day</th>\n",
       "      <th>Soft cheese</th>\n",
       "      <th>Gramme of soft cheese eaten in a day</th>\n",
       "      <th>Citrus fruits</th>\n",
       "      <th>Number of citrus fruits eaten in a day</th>\n",
       "    </tr>\n",
       "  </thead>\n",
       "  <tbody>\n",
       "    <tr>\n",
       "      <th>0</th>\n",
       "      <td>voice100</td>\n",
       "      <td>24</td>\n",
       "      <td>m</td>\n",
       "      <td>healthy</td>\n",
       "      <td>NU</td>\n",
       "      <td>0</td>\n",
       "      <td>5</td>\n",
       "      <td>no</td>\n",
       "      <td>NU</td>\n",
       "      <td>casual drinker</td>\n",
       "      <td>...</td>\n",
       "      <td>NU</td>\n",
       "      <td>never</td>\n",
       "      <td>always</td>\n",
       "      <td>3</td>\n",
       "      <td>sometimes</td>\n",
       "      <td>NU</td>\n",
       "      <td>almost always</td>\n",
       "      <td>NU</td>\n",
       "      <td>never</td>\n",
       "      <td>NU</td>\n",
       "    </tr>\n",
       "    <tr>\n",
       "      <th>1</th>\n",
       "      <td>voice101</td>\n",
       "      <td>60</td>\n",
       "      <td>m</td>\n",
       "      <td>healthy</td>\n",
       "      <td>NU</td>\n",
       "      <td>80</td>\n",
       "      <td>10</td>\n",
       "      <td>no</td>\n",
       "      <td>NU</td>\n",
       "      <td>nondrinker</td>\n",
       "      <td>...</td>\n",
       "      <td>NU</td>\n",
       "      <td>sometimes</td>\n",
       "      <td>always</td>\n",
       "      <td>4</td>\n",
       "      <td>sometimes</td>\n",
       "      <td>NU</td>\n",
       "      <td>sometimes</td>\n",
       "      <td>NU</td>\n",
       "      <td>never</td>\n",
       "      <td>NU</td>\n",
       "    </tr>\n",
       "    <tr>\n",
       "      <th>2</th>\n",
       "      <td>voice192</td>\n",
       "      <td>22</td>\n",
       "      <td>m</td>\n",
       "      <td>hyperkinetic dysphonia</td>\n",
       "      <td>Cook</td>\n",
       "      <td>0</td>\n",
       "      <td>10</td>\n",
       "      <td>no</td>\n",
       "      <td>NU</td>\n",
       "      <td>nondrinker</td>\n",
       "      <td>...</td>\n",
       "      <td>NU</td>\n",
       "      <td>sometimes</td>\n",
       "      <td>always</td>\n",
       "      <td>NU</td>\n",
       "      <td>always</td>\n",
       "      <td>NU</td>\n",
       "      <td>sometimes</td>\n",
       "      <td>NU</td>\n",
       "      <td>almost always</td>\n",
       "      <td>NU</td>\n",
       "    </tr>\n",
       "    <tr>\n",
       "      <th>3</th>\n",
       "      <td>voice193</td>\n",
       "      <td>46</td>\n",
       "      <td>f</td>\n",
       "      <td>hyperkinetic dysphonia</td>\n",
       "      <td>Housewife</td>\n",
       "      <td>0</td>\n",
       "      <td>36</td>\n",
       "      <td>yes</td>\n",
       "      <td>15</td>\n",
       "      <td>casual drinker</td>\n",
       "      <td>...</td>\n",
       "      <td>NU</td>\n",
       "      <td>sometimes</td>\n",
       "      <td>always</td>\n",
       "      <td>2</td>\n",
       "      <td>sometimes</td>\n",
       "      <td>NU</td>\n",
       "      <td>sometimes</td>\n",
       "      <td>NU</td>\n",
       "      <td>sometimes</td>\n",
       "      <td>NU</td>\n",
       "    </tr>\n",
       "    <tr>\n",
       "      <th>4</th>\n",
       "      <td>voice008</td>\n",
       "      <td>51</td>\n",
       "      <td>f</td>\n",
       "      <td>reflux laryngitis</td>\n",
       "      <td>Researcher</td>\n",
       "      <td>19</td>\n",
       "      <td>15</td>\n",
       "      <td>no</td>\n",
       "      <td>NU</td>\n",
       "      <td>casual drinker</td>\n",
       "      <td>...</td>\n",
       "      <td>NU</td>\n",
       "      <td>almost always</td>\n",
       "      <td>always</td>\n",
       "      <td>2</td>\n",
       "      <td>almost always</td>\n",
       "      <td>20g</td>\n",
       "      <td>sometimes</td>\n",
       "      <td>100 gr</td>\n",
       "      <td>almost always</td>\n",
       "      <td>1</td>\n",
       "    </tr>\n",
       "  </tbody>\n",
       "</table>\n",
       "<p>5 rows × 24 columns</p>\n",
       "</div>"
      ],
      "text/plain": [
       "         ID Age Gender               Diagnosis Occupation status  \\\n",
       "0  voice100  24      m                 healthy                NU   \n",
       "1  voice101  60      m                 healthy                NU   \n",
       "2  voice192  22      m  hyperkinetic dysphonia              Cook   \n",
       "3  voice193  46      f  hyperkinetic dysphonia         Housewife   \n",
       "4  voice008  51      f       reflux laryngitis        Researcher   \n",
       "\n",
       "  Voice Handicap Index (VHI) Score Reflux Symptom Index (RSI) Score Smoker  \\\n",
       "0                                0                                5     no   \n",
       "1                               80                               10     no   \n",
       "2                                0                               10     no   \n",
       "3                                0                               36    yes   \n",
       "4                               19                               15     no   \n",
       "\n",
       "  Number of cigarettes smoked per day Alcohol consumption  ...  \\\n",
       "0                                  NU      casual drinker  ...   \n",
       "1                                  NU          nondrinker  ...   \n",
       "2                                  NU          nondrinker  ...   \n",
       "3                                  15      casual drinker  ...   \n",
       "4                                  NU      casual drinker  ...   \n",
       "\n",
       "  Amount of glasses drinked in a day       Tomatoes  Coffee  \\\n",
       "0                                 NU          never  always   \n",
       "1                                 NU      sometimes  always   \n",
       "2                                 NU      sometimes  always   \n",
       "3                                 NU      sometimes  always   \n",
       "4                                 NU  almost always  always   \n",
       "\n",
       "  Number of cups of coffee drinked in a day      Chocolate  \\\n",
       "0                                         3      sometimes   \n",
       "1                                         4      sometimes   \n",
       "2                                        NU         always   \n",
       "3                                         2      sometimes   \n",
       "4                                         2  almost always   \n",
       "\n",
       "  Gramme of chocolate eaten in  a day    Soft cheese  \\\n",
       "0                                  NU  almost always   \n",
       "1                                  NU      sometimes   \n",
       "2                                  NU      sometimes   \n",
       "3                                  NU      sometimes   \n",
       "4                                 20g      sometimes   \n",
       "\n",
       "  Gramme of soft cheese eaten in a day  Citrus fruits  \\\n",
       "0                                   NU          never   \n",
       "1                                   NU          never   \n",
       "2                                   NU  almost always   \n",
       "3                                   NU      sometimes   \n",
       "4                               100 gr  almost always   \n",
       "\n",
       "  Number of citrus fruits eaten in a day  \n",
       "0                                     NU  \n",
       "1                                     NU  \n",
       "2                                     NU  \n",
       "3                                     NU  \n",
       "4                                      1  \n",
       "\n",
       "[5 rows x 24 columns]"
      ]
     },
     "execution_count": 3,
     "metadata": {},
     "output_type": "execute_result"
    }
   ],
   "source": [
    "# Initialise the list to hold dictionaries\n",
    "metadata_list = []\n",
    "\n",
    "# Parse the data in the info files\n",
    "for file in files:\n",
    "    \n",
    "    # Initialise the dictionary to store the info\n",
    "    metadata_dict = dict()\n",
    "    \n",
    "    # Look through info files only\n",
    "    if file.startswith(\"voice\") and file.endswith(\"-info.txt\"):\n",
    "        \n",
    "        # Read the text file\n",
    "        with open(rawdata_path + file, 'r') as file:\n",
    "            for line in file:\n",
    "                \n",
    "                # Split each line into a key-value pair using delimiter\n",
    "                key, value = map(str.strip, line.split(\"\\t\"))\n",
    "                \n",
    "                # Ignore the empty lines by checking whitespaces\n",
    "                if not line.strip():\n",
    "                    continue\n",
    "                else:\n",
    "                    # Remove the colon\n",
    "                    key = key.replace(\":\", \"\")\n",
    "                    \n",
    "                    # Load the data to a dictionary\n",
    "                    metadata_dict[key] = value\n",
    "                    \n",
    "            # Append the dictionary to the list\n",
    "            metadata_list.append(metadata_dict)\n",
    "\n",
    "# Convert the list to a DataFrame\n",
    "metadata_df = pd.DataFrame(metadata_list)\n",
    "metadata_df.head()"
   ]
  },
  {
   "cell_type": "markdown",
   "id": "6148bb71-c824-4c6a-bc9c-4f6f35ec2e11",
   "metadata": {},
   "source": [
    "## Clean metadata_df"
   ]
  },
  {
   "cell_type": "code",
   "execution_count": 4,
   "id": "f7e51ca9-4c65-4a3e-a917-f223c7f27ad4",
   "metadata": {},
   "outputs": [
    {
     "name": "stdout",
     "output_type": "stream",
     "text": [
      "<class 'pandas.core.frame.DataFrame'>\n",
      "RangeIndex: 208 entries, 0 to 207\n",
      "Data columns (total 24 columns):\n",
      " #   Column                                                            Non-Null Count  Dtype \n",
      "---  ------                                                            --------------  ----- \n",
      " 0   ID                                                                208 non-null    object\n",
      " 1   Age                                                               208 non-null    object\n",
      " 2   Gender                                                            208 non-null    object\n",
      " 3   Diagnosis                                                         208 non-null    object\n",
      " 4   Occupation status                                                 208 non-null    object\n",
      " 5   Voice Handicap Index (VHI) Score                                  208 non-null    object\n",
      " 6   Reflux Symptom Index (RSI) Score                                  208 non-null    object\n",
      " 7   Smoker                                                            208 non-null    object\n",
      " 8   Number of cigarettes smoked per day                               208 non-null    object\n",
      " 9   Alcohol consumption                                               208 non-null    object\n",
      " 10  Number of glasses containing alcoholic beverage drinked in a day  208 non-null    object\n",
      " 11  Amount of water's litres drink every day                          208 non-null    object\n",
      " 12  Eating habits                                                     208 non-null    object\n",
      " 13  Carbonated beverages                                              208 non-null    object\n",
      " 14  Amount of glasses drinked in a day                                208 non-null    object\n",
      " 15  Tomatoes                                                          208 non-null    object\n",
      " 16  Coffee                                                            208 non-null    object\n",
      " 17  Number of cups of coffee drinked in a day                         208 non-null    object\n",
      " 18  Chocolate                                                         208 non-null    object\n",
      " 19  Gramme of chocolate eaten in  a day                               208 non-null    object\n",
      " 20  Soft cheese                                                       208 non-null    object\n",
      " 21  Gramme of soft cheese eaten in a day                              208 non-null    object\n",
      " 22  Citrus fruits                                                     208 non-null    object\n",
      " 23  Number of citrus fruits eaten in a day                            208 non-null    object\n",
      "dtypes: object(24)\n",
      "memory usage: 39.1+ KB\n"
     ]
    }
   ],
   "source": [
    "# Check the dataframe\n",
    "metadata_df.info()"
   ]
  },
  {
   "cell_type": "markdown",
   "id": "a25e947c-f66c-4870-a4ca-d685c247247e",
   "metadata": {},
   "source": [
    "### Simplify the column names"
   ]
  },
  {
   "cell_type": "code",
   "execution_count": 5,
   "id": "7d909cf3-1948-46fd-9b1f-05b0d1a8e347",
   "metadata": {},
   "outputs": [
    {
     "data": {
      "text/plain": [
       "['ID',\n",
       " 'Age',\n",
       " 'Gender',\n",
       " 'Diagnosis',\n",
       " 'Occupation status',\n",
       " 'Voice Handicap Index (VHI) Score',\n",
       " 'Reflux Symptom Index (RSI) Score',\n",
       " 'Smoker',\n",
       " 'Number of cigarettes smoked per day',\n",
       " 'Alcohol consumption',\n",
       " 'Number of glasses containing alcoholic beverage drinked in a day',\n",
       " \"Amount of water's litres drink every day\",\n",
       " 'Eating habits',\n",
       " 'Carbonated beverages',\n",
       " 'Amount of glasses drinked in a day',\n",
       " 'Tomatoes',\n",
       " 'Coffee',\n",
       " 'Number of cups of coffee drinked in a day',\n",
       " 'Chocolate',\n",
       " 'Gramme of chocolate eaten in  a day',\n",
       " 'Soft cheese',\n",
       " 'Gramme of soft cheese eaten in a day',\n",
       " 'Citrus fruits',\n",
       " 'Number of citrus fruits eaten in a day']"
      ]
     },
     "execution_count": 5,
     "metadata": {},
     "output_type": "execute_result"
    }
   ],
   "source": [
    "# Print the columns\n",
    "original_cols = list(metadata_df.columns)\n",
    "original_cols"
   ]
  },
  {
   "cell_type": "code",
   "execution_count": 6,
   "id": "e33450dc-907d-4633-837f-2e1d63d62e4f",
   "metadata": {},
   "outputs": [
    {
     "data": {
      "text/html": [
       "<div>\n",
       "<style scoped>\n",
       "    .dataframe tbody tr th:only-of-type {\n",
       "        vertical-align: middle;\n",
       "    }\n",
       "\n",
       "    .dataframe tbody tr th {\n",
       "        vertical-align: top;\n",
       "    }\n",
       "\n",
       "    .dataframe thead th {\n",
       "        text-align: right;\n",
       "    }\n",
       "</style>\n",
       "<table border=\"1\" class=\"dataframe\">\n",
       "  <thead>\n",
       "    <tr style=\"text-align: right;\">\n",
       "      <th></th>\n",
       "      <th>id</th>\n",
       "      <th>age</th>\n",
       "      <th>gender</th>\n",
       "      <th>diagnosis</th>\n",
       "      <th>occupation status</th>\n",
       "      <th>voice handicap index (vhi) score</th>\n",
       "      <th>reflux symptom index (rsi) score</th>\n",
       "      <th>smoker</th>\n",
       "      <th>number of cigarettes smoked per day</th>\n",
       "      <th>alcohol consumption</th>\n",
       "      <th>...</th>\n",
       "      <th>amount of glasses drinked in a day</th>\n",
       "      <th>tomatoes</th>\n",
       "      <th>coffee</th>\n",
       "      <th>number of cups of coffee drinked in a day</th>\n",
       "      <th>chocolate</th>\n",
       "      <th>gramme of chocolate eaten in  a day</th>\n",
       "      <th>soft cheese</th>\n",
       "      <th>gramme of soft cheese eaten in a day</th>\n",
       "      <th>citrus fruits</th>\n",
       "      <th>number of citrus fruits eaten in a day</th>\n",
       "    </tr>\n",
       "  </thead>\n",
       "  <tbody>\n",
       "    <tr>\n",
       "      <th>0</th>\n",
       "      <td>voice100</td>\n",
       "      <td>24</td>\n",
       "      <td>m</td>\n",
       "      <td>healthy</td>\n",
       "      <td>NU</td>\n",
       "      <td>0</td>\n",
       "      <td>5</td>\n",
       "      <td>no</td>\n",
       "      <td>NU</td>\n",
       "      <td>casual drinker</td>\n",
       "      <td>...</td>\n",
       "      <td>NU</td>\n",
       "      <td>never</td>\n",
       "      <td>always</td>\n",
       "      <td>3</td>\n",
       "      <td>sometimes</td>\n",
       "      <td>NU</td>\n",
       "      <td>almost always</td>\n",
       "      <td>NU</td>\n",
       "      <td>never</td>\n",
       "      <td>NU</td>\n",
       "    </tr>\n",
       "    <tr>\n",
       "      <th>1</th>\n",
       "      <td>voice101</td>\n",
       "      <td>60</td>\n",
       "      <td>m</td>\n",
       "      <td>healthy</td>\n",
       "      <td>NU</td>\n",
       "      <td>80</td>\n",
       "      <td>10</td>\n",
       "      <td>no</td>\n",
       "      <td>NU</td>\n",
       "      <td>nondrinker</td>\n",
       "      <td>...</td>\n",
       "      <td>NU</td>\n",
       "      <td>sometimes</td>\n",
       "      <td>always</td>\n",
       "      <td>4</td>\n",
       "      <td>sometimes</td>\n",
       "      <td>NU</td>\n",
       "      <td>sometimes</td>\n",
       "      <td>NU</td>\n",
       "      <td>never</td>\n",
       "      <td>NU</td>\n",
       "    </tr>\n",
       "    <tr>\n",
       "      <th>2</th>\n",
       "      <td>voice192</td>\n",
       "      <td>22</td>\n",
       "      <td>m</td>\n",
       "      <td>hyperkinetic dysphonia</td>\n",
       "      <td>Cook</td>\n",
       "      <td>0</td>\n",
       "      <td>10</td>\n",
       "      <td>no</td>\n",
       "      <td>NU</td>\n",
       "      <td>nondrinker</td>\n",
       "      <td>...</td>\n",
       "      <td>NU</td>\n",
       "      <td>sometimes</td>\n",
       "      <td>always</td>\n",
       "      <td>NU</td>\n",
       "      <td>always</td>\n",
       "      <td>NU</td>\n",
       "      <td>sometimes</td>\n",
       "      <td>NU</td>\n",
       "      <td>almost always</td>\n",
       "      <td>NU</td>\n",
       "    </tr>\n",
       "    <tr>\n",
       "      <th>3</th>\n",
       "      <td>voice193</td>\n",
       "      <td>46</td>\n",
       "      <td>f</td>\n",
       "      <td>hyperkinetic dysphonia</td>\n",
       "      <td>Housewife</td>\n",
       "      <td>0</td>\n",
       "      <td>36</td>\n",
       "      <td>yes</td>\n",
       "      <td>15</td>\n",
       "      <td>casual drinker</td>\n",
       "      <td>...</td>\n",
       "      <td>NU</td>\n",
       "      <td>sometimes</td>\n",
       "      <td>always</td>\n",
       "      <td>2</td>\n",
       "      <td>sometimes</td>\n",
       "      <td>NU</td>\n",
       "      <td>sometimes</td>\n",
       "      <td>NU</td>\n",
       "      <td>sometimes</td>\n",
       "      <td>NU</td>\n",
       "    </tr>\n",
       "    <tr>\n",
       "      <th>4</th>\n",
       "      <td>voice008</td>\n",
       "      <td>51</td>\n",
       "      <td>f</td>\n",
       "      <td>reflux laryngitis</td>\n",
       "      <td>Researcher</td>\n",
       "      <td>19</td>\n",
       "      <td>15</td>\n",
       "      <td>no</td>\n",
       "      <td>NU</td>\n",
       "      <td>casual drinker</td>\n",
       "      <td>...</td>\n",
       "      <td>NU</td>\n",
       "      <td>almost always</td>\n",
       "      <td>always</td>\n",
       "      <td>2</td>\n",
       "      <td>almost always</td>\n",
       "      <td>20g</td>\n",
       "      <td>sometimes</td>\n",
       "      <td>100 gr</td>\n",
       "      <td>almost always</td>\n",
       "      <td>1</td>\n",
       "    </tr>\n",
       "  </tbody>\n",
       "</table>\n",
       "<p>5 rows × 24 columns</p>\n",
       "</div>"
      ],
      "text/plain": [
       "         id age gender               diagnosis occupation status  \\\n",
       "0  voice100  24      m                 healthy                NU   \n",
       "1  voice101  60      m                 healthy                NU   \n",
       "2  voice192  22      m  hyperkinetic dysphonia              Cook   \n",
       "3  voice193  46      f  hyperkinetic dysphonia         Housewife   \n",
       "4  voice008  51      f       reflux laryngitis        Researcher   \n",
       "\n",
       "  voice handicap index (vhi) score reflux symptom index (rsi) score smoker  \\\n",
       "0                                0                                5     no   \n",
       "1                               80                               10     no   \n",
       "2                                0                               10     no   \n",
       "3                                0                               36    yes   \n",
       "4                               19                               15     no   \n",
       "\n",
       "  number of cigarettes smoked per day alcohol consumption  ...  \\\n",
       "0                                  NU      casual drinker  ...   \n",
       "1                                  NU          nondrinker  ...   \n",
       "2                                  NU          nondrinker  ...   \n",
       "3                                  15      casual drinker  ...   \n",
       "4                                  NU      casual drinker  ...   \n",
       "\n",
       "  amount of glasses drinked in a day       tomatoes  coffee  \\\n",
       "0                                 NU          never  always   \n",
       "1                                 NU      sometimes  always   \n",
       "2                                 NU      sometimes  always   \n",
       "3                                 NU      sometimes  always   \n",
       "4                                 NU  almost always  always   \n",
       "\n",
       "  number of cups of coffee drinked in a day      chocolate  \\\n",
       "0                                         3      sometimes   \n",
       "1                                         4      sometimes   \n",
       "2                                        NU         always   \n",
       "3                                         2      sometimes   \n",
       "4                                         2  almost always   \n",
       "\n",
       "  gramme of chocolate eaten in  a day    soft cheese  \\\n",
       "0                                  NU  almost always   \n",
       "1                                  NU      sometimes   \n",
       "2                                  NU      sometimes   \n",
       "3                                  NU      sometimes   \n",
       "4                                 20g      sometimes   \n",
       "\n",
       "  gramme of soft cheese eaten in a day  citrus fruits  \\\n",
       "0                                   NU          never   \n",
       "1                                   NU          never   \n",
       "2                                   NU  almost always   \n",
       "3                                   NU      sometimes   \n",
       "4                               100 gr  almost always   \n",
       "\n",
       "  number of citrus fruits eaten in a day  \n",
       "0                                     NU  \n",
       "1                                     NU  \n",
       "2                                     NU  \n",
       "3                                     NU  \n",
       "4                                      1  \n",
       "\n",
       "[5 rows x 24 columns]"
      ]
     },
     "execution_count": 6,
     "metadata": {},
     "output_type": "execute_result"
    }
   ],
   "source": [
    "# Convert the column names to lower case\n",
    "lowercase_cols = [col_name.lower() for col_name in original_cols]\n",
    "\n",
    "# Create a copy of metadata_df\n",
    "renamed_df = metadata_df.copy()\n",
    "\n",
    "# Update the column names\n",
    "renamed_df.columns = lowercase_cols\n",
    "\n",
    "# Display the DataFrame\n",
    "renamed_df.head()"
   ]
  },
  {
   "cell_type": "code",
   "execution_count": 7,
   "id": "ff4bd7e1-e2dc-4b28-9ddf-619fe12cf132",
   "metadata": {},
   "outputs": [
    {
     "data": {
      "text/plain": [
       "['id',\n",
       " 'age',\n",
       " 'gender',\n",
       " 'diagnosis',\n",
       " 'occupation status',\n",
       " 'voice handicap index (vhi) score',\n",
       " 'reflux symptom index (rsi) score',\n",
       " 'smoker',\n",
       " 'number of cigarettes smoked per day',\n",
       " 'alcohol consumption',\n",
       " 'number of glasses containing alcoholic beverage drinked in a day',\n",
       " \"amount of water's litres drink every day\",\n",
       " 'eating habits',\n",
       " 'carbonated beverages',\n",
       " 'amount of glasses drinked in a day',\n",
       " 'tomatoes',\n",
       " 'coffee',\n",
       " 'number of cups of coffee drinked in a day',\n",
       " 'chocolate',\n",
       " 'gramme of chocolate eaten in  a day',\n",
       " 'soft cheese',\n",
       " 'gramme of soft cheese eaten in a day',\n",
       " 'citrus fruits',\n",
       " 'number of citrus fruits eaten in a day']"
      ]
     },
     "execution_count": 7,
     "metadata": {},
     "output_type": "execute_result"
    }
   ],
   "source": [
    "# Print updated columns\n",
    "list(renamed_df.columns)"
   ]
  },
  {
   "cell_type": "code",
   "execution_count": 8,
   "id": "a384f316-4348-4441-ad91-96092609b3b9",
   "metadata": {},
   "outputs": [
    {
     "data": {
      "text/html": [
       "<div>\n",
       "<style scoped>\n",
       "    .dataframe tbody tr th:only-of-type {\n",
       "        vertical-align: middle;\n",
       "    }\n",
       "\n",
       "    .dataframe tbody tr th {\n",
       "        vertical-align: top;\n",
       "    }\n",
       "\n",
       "    .dataframe thead th {\n",
       "        text-align: right;\n",
       "    }\n",
       "</style>\n",
       "<table border=\"1\" class=\"dataframe\">\n",
       "  <thead>\n",
       "    <tr style=\"text-align: right;\">\n",
       "      <th></th>\n",
       "      <th>id</th>\n",
       "      <th>age</th>\n",
       "      <th>gender</th>\n",
       "      <th>diagnosis</th>\n",
       "      <th>occupation status</th>\n",
       "      <th>vhi score</th>\n",
       "      <th>rsi score</th>\n",
       "      <th>smoker</th>\n",
       "      <th>cigarettes per day</th>\n",
       "      <th>alcohol consumption</th>\n",
       "      <th>...</th>\n",
       "      <th>carbonated per day</th>\n",
       "      <th>tomatoes</th>\n",
       "      <th>coffee</th>\n",
       "      <th>coffee per day</th>\n",
       "      <th>chocolate</th>\n",
       "      <th>chocolate grams per day</th>\n",
       "      <th>soft cheese</th>\n",
       "      <th>soft cheese per day</th>\n",
       "      <th>citrus fruits</th>\n",
       "      <th>citrus fruits per day</th>\n",
       "    </tr>\n",
       "  </thead>\n",
       "  <tbody>\n",
       "    <tr>\n",
       "      <th>0</th>\n",
       "      <td>voice100</td>\n",
       "      <td>24</td>\n",
       "      <td>m</td>\n",
       "      <td>healthy</td>\n",
       "      <td>NU</td>\n",
       "      <td>0</td>\n",
       "      <td>5</td>\n",
       "      <td>no</td>\n",
       "      <td>NU</td>\n",
       "      <td>casual drinker</td>\n",
       "      <td>...</td>\n",
       "      <td>NU</td>\n",
       "      <td>never</td>\n",
       "      <td>always</td>\n",
       "      <td>3</td>\n",
       "      <td>sometimes</td>\n",
       "      <td>NU</td>\n",
       "      <td>almost always</td>\n",
       "      <td>NU</td>\n",
       "      <td>never</td>\n",
       "      <td>NU</td>\n",
       "    </tr>\n",
       "    <tr>\n",
       "      <th>1</th>\n",
       "      <td>voice101</td>\n",
       "      <td>60</td>\n",
       "      <td>m</td>\n",
       "      <td>healthy</td>\n",
       "      <td>NU</td>\n",
       "      <td>80</td>\n",
       "      <td>10</td>\n",
       "      <td>no</td>\n",
       "      <td>NU</td>\n",
       "      <td>nondrinker</td>\n",
       "      <td>...</td>\n",
       "      <td>NU</td>\n",
       "      <td>sometimes</td>\n",
       "      <td>always</td>\n",
       "      <td>4</td>\n",
       "      <td>sometimes</td>\n",
       "      <td>NU</td>\n",
       "      <td>sometimes</td>\n",
       "      <td>NU</td>\n",
       "      <td>never</td>\n",
       "      <td>NU</td>\n",
       "    </tr>\n",
       "    <tr>\n",
       "      <th>2</th>\n",
       "      <td>voice192</td>\n",
       "      <td>22</td>\n",
       "      <td>m</td>\n",
       "      <td>hyperkinetic dysphonia</td>\n",
       "      <td>Cook</td>\n",
       "      <td>0</td>\n",
       "      <td>10</td>\n",
       "      <td>no</td>\n",
       "      <td>NU</td>\n",
       "      <td>nondrinker</td>\n",
       "      <td>...</td>\n",
       "      <td>NU</td>\n",
       "      <td>sometimes</td>\n",
       "      <td>always</td>\n",
       "      <td>NU</td>\n",
       "      <td>always</td>\n",
       "      <td>NU</td>\n",
       "      <td>sometimes</td>\n",
       "      <td>NU</td>\n",
       "      <td>almost always</td>\n",
       "      <td>NU</td>\n",
       "    </tr>\n",
       "    <tr>\n",
       "      <th>3</th>\n",
       "      <td>voice193</td>\n",
       "      <td>46</td>\n",
       "      <td>f</td>\n",
       "      <td>hyperkinetic dysphonia</td>\n",
       "      <td>Housewife</td>\n",
       "      <td>0</td>\n",
       "      <td>36</td>\n",
       "      <td>yes</td>\n",
       "      <td>15</td>\n",
       "      <td>casual drinker</td>\n",
       "      <td>...</td>\n",
       "      <td>NU</td>\n",
       "      <td>sometimes</td>\n",
       "      <td>always</td>\n",
       "      <td>2</td>\n",
       "      <td>sometimes</td>\n",
       "      <td>NU</td>\n",
       "      <td>sometimes</td>\n",
       "      <td>NU</td>\n",
       "      <td>sometimes</td>\n",
       "      <td>NU</td>\n",
       "    </tr>\n",
       "    <tr>\n",
       "      <th>4</th>\n",
       "      <td>voice008</td>\n",
       "      <td>51</td>\n",
       "      <td>f</td>\n",
       "      <td>reflux laryngitis</td>\n",
       "      <td>Researcher</td>\n",
       "      <td>19</td>\n",
       "      <td>15</td>\n",
       "      <td>no</td>\n",
       "      <td>NU</td>\n",
       "      <td>casual drinker</td>\n",
       "      <td>...</td>\n",
       "      <td>NU</td>\n",
       "      <td>almost always</td>\n",
       "      <td>always</td>\n",
       "      <td>2</td>\n",
       "      <td>almost always</td>\n",
       "      <td>20g</td>\n",
       "      <td>sometimes</td>\n",
       "      <td>100 gr</td>\n",
       "      <td>almost always</td>\n",
       "      <td>1</td>\n",
       "    </tr>\n",
       "  </tbody>\n",
       "</table>\n",
       "<p>5 rows × 24 columns</p>\n",
       "</div>"
      ],
      "text/plain": [
       "         id age gender               diagnosis occupation status vhi score  \\\n",
       "0  voice100  24      m                 healthy                NU         0   \n",
       "1  voice101  60      m                 healthy                NU        80   \n",
       "2  voice192  22      m  hyperkinetic dysphonia              Cook         0   \n",
       "3  voice193  46      f  hyperkinetic dysphonia         Housewife         0   \n",
       "4  voice008  51      f       reflux laryngitis        Researcher        19   \n",
       "\n",
       "  rsi score smoker cigarettes per day alcohol consumption  ...  \\\n",
       "0         5     no                 NU      casual drinker  ...   \n",
       "1        10     no                 NU          nondrinker  ...   \n",
       "2        10     no                 NU          nondrinker  ...   \n",
       "3        36    yes                 15      casual drinker  ...   \n",
       "4        15     no                 NU      casual drinker  ...   \n",
       "\n",
       "  carbonated per day       tomatoes  coffee coffee per day      chocolate  \\\n",
       "0                 NU          never  always              3      sometimes   \n",
       "1                 NU      sometimes  always              4      sometimes   \n",
       "2                 NU      sometimes  always             NU         always   \n",
       "3                 NU      sometimes  always              2      sometimes   \n",
       "4                 NU  almost always  always              2  almost always   \n",
       "\n",
       "  chocolate grams per day    soft cheese soft cheese per day  citrus fruits  \\\n",
       "0                      NU  almost always                  NU          never   \n",
       "1                      NU      sometimes                  NU          never   \n",
       "2                      NU      sometimes                  NU  almost always   \n",
       "3                      NU      sometimes                  NU      sometimes   \n",
       "4                     20g      sometimes              100 gr  almost always   \n",
       "\n",
       "  citrus fruits per day  \n",
       "0                    NU  \n",
       "1                    NU  \n",
       "2                    NU  \n",
       "3                    NU  \n",
       "4                     1  \n",
       "\n",
       "[5 rows x 24 columns]"
      ]
     },
     "execution_count": 8,
     "metadata": {},
     "output_type": "execute_result"
    }
   ],
   "source": [
    "# Simplify the column names\n",
    "renamed_df = renamed_df.rename(columns={\n",
    "    'voice handicap index (vhi) score': 'vhi score',\n",
    "    'reflux symptom index (rsi) score': 'rsi score',\n",
    "    'number of cigarettes smoked per day': 'cigarettes per day',\n",
    "    'number of glasses containing alcoholic beverage drinked in a day': 'alcohol per day',\n",
    "    \"amount of water's litres drink every day\": 'water litres per day',\n",
    "    'amount of glasses drinked in a day': 'carbonated per day',\n",
    "    'number of cups of coffee drinked in a day': 'coffee per day',\n",
    "    'gramme of chocolate eaten in  a day': 'chocolate grams per day',\n",
    "    'gramme of soft cheese eaten in a day': 'soft cheese per day',\n",
    "    'number of citrus fruits eaten in a day': 'citrus fruits per day'\n",
    "})\n",
    "\n",
    "# Display the updated DataFrame\n",
    "renamed_df.head()"
   ]
  },
  {
   "cell_type": "code",
   "execution_count": 9,
   "id": "4aeb48df-4576-4a86-bb0d-ecf9e1f54987",
   "metadata": {},
   "outputs": [
    {
     "data": {
      "text/html": [
       "<div>\n",
       "<style scoped>\n",
       "    .dataframe tbody tr th:only-of-type {\n",
       "        vertical-align: middle;\n",
       "    }\n",
       "\n",
       "    .dataframe tbody tr th {\n",
       "        vertical-align: top;\n",
       "    }\n",
       "\n",
       "    .dataframe thead th {\n",
       "        text-align: right;\n",
       "    }\n",
       "</style>\n",
       "<table border=\"1\" class=\"dataframe\">\n",
       "  <thead>\n",
       "    <tr style=\"text-align: right;\">\n",
       "      <th></th>\n",
       "      <th>id</th>\n",
       "      <th>age</th>\n",
       "      <th>gender</th>\n",
       "      <th>diagnosis</th>\n",
       "      <th>occupation_status</th>\n",
       "      <th>vhi_score</th>\n",
       "      <th>rsi_score</th>\n",
       "      <th>smoker</th>\n",
       "      <th>cigarettes_pd</th>\n",
       "      <th>alcohol_consumption</th>\n",
       "      <th>...</th>\n",
       "      <th>carbonated_pd</th>\n",
       "      <th>tomatoes</th>\n",
       "      <th>coffee</th>\n",
       "      <th>coffee_pd</th>\n",
       "      <th>chocolate</th>\n",
       "      <th>chocolate_grams_pd</th>\n",
       "      <th>soft_cheese</th>\n",
       "      <th>soft_cheese_pd</th>\n",
       "      <th>citrus_fruits</th>\n",
       "      <th>citrus_fruits_pd</th>\n",
       "    </tr>\n",
       "  </thead>\n",
       "  <tbody>\n",
       "    <tr>\n",
       "      <th>0</th>\n",
       "      <td>voice100</td>\n",
       "      <td>24</td>\n",
       "      <td>m</td>\n",
       "      <td>healthy</td>\n",
       "      <td>NU</td>\n",
       "      <td>0</td>\n",
       "      <td>5</td>\n",
       "      <td>no</td>\n",
       "      <td>NU</td>\n",
       "      <td>casual drinker</td>\n",
       "      <td>...</td>\n",
       "      <td>NU</td>\n",
       "      <td>never</td>\n",
       "      <td>always</td>\n",
       "      <td>3</td>\n",
       "      <td>sometimes</td>\n",
       "      <td>NU</td>\n",
       "      <td>almost always</td>\n",
       "      <td>NU</td>\n",
       "      <td>never</td>\n",
       "      <td>NU</td>\n",
       "    </tr>\n",
       "    <tr>\n",
       "      <th>1</th>\n",
       "      <td>voice101</td>\n",
       "      <td>60</td>\n",
       "      <td>m</td>\n",
       "      <td>healthy</td>\n",
       "      <td>NU</td>\n",
       "      <td>80</td>\n",
       "      <td>10</td>\n",
       "      <td>no</td>\n",
       "      <td>NU</td>\n",
       "      <td>nondrinker</td>\n",
       "      <td>...</td>\n",
       "      <td>NU</td>\n",
       "      <td>sometimes</td>\n",
       "      <td>always</td>\n",
       "      <td>4</td>\n",
       "      <td>sometimes</td>\n",
       "      <td>NU</td>\n",
       "      <td>sometimes</td>\n",
       "      <td>NU</td>\n",
       "      <td>never</td>\n",
       "      <td>NU</td>\n",
       "    </tr>\n",
       "    <tr>\n",
       "      <th>2</th>\n",
       "      <td>voice192</td>\n",
       "      <td>22</td>\n",
       "      <td>m</td>\n",
       "      <td>hyperkinetic dysphonia</td>\n",
       "      <td>Cook</td>\n",
       "      <td>0</td>\n",
       "      <td>10</td>\n",
       "      <td>no</td>\n",
       "      <td>NU</td>\n",
       "      <td>nondrinker</td>\n",
       "      <td>...</td>\n",
       "      <td>NU</td>\n",
       "      <td>sometimes</td>\n",
       "      <td>always</td>\n",
       "      <td>NU</td>\n",
       "      <td>always</td>\n",
       "      <td>NU</td>\n",
       "      <td>sometimes</td>\n",
       "      <td>NU</td>\n",
       "      <td>almost always</td>\n",
       "      <td>NU</td>\n",
       "    </tr>\n",
       "    <tr>\n",
       "      <th>3</th>\n",
       "      <td>voice193</td>\n",
       "      <td>46</td>\n",
       "      <td>f</td>\n",
       "      <td>hyperkinetic dysphonia</td>\n",
       "      <td>Housewife</td>\n",
       "      <td>0</td>\n",
       "      <td>36</td>\n",
       "      <td>yes</td>\n",
       "      <td>15</td>\n",
       "      <td>casual drinker</td>\n",
       "      <td>...</td>\n",
       "      <td>NU</td>\n",
       "      <td>sometimes</td>\n",
       "      <td>always</td>\n",
       "      <td>2</td>\n",
       "      <td>sometimes</td>\n",
       "      <td>NU</td>\n",
       "      <td>sometimes</td>\n",
       "      <td>NU</td>\n",
       "      <td>sometimes</td>\n",
       "      <td>NU</td>\n",
       "    </tr>\n",
       "    <tr>\n",
       "      <th>4</th>\n",
       "      <td>voice008</td>\n",
       "      <td>51</td>\n",
       "      <td>f</td>\n",
       "      <td>reflux laryngitis</td>\n",
       "      <td>Researcher</td>\n",
       "      <td>19</td>\n",
       "      <td>15</td>\n",
       "      <td>no</td>\n",
       "      <td>NU</td>\n",
       "      <td>casual drinker</td>\n",
       "      <td>...</td>\n",
       "      <td>NU</td>\n",
       "      <td>almost always</td>\n",
       "      <td>always</td>\n",
       "      <td>2</td>\n",
       "      <td>almost always</td>\n",
       "      <td>20g</td>\n",
       "      <td>sometimes</td>\n",
       "      <td>100 gr</td>\n",
       "      <td>almost always</td>\n",
       "      <td>1</td>\n",
       "    </tr>\n",
       "  </tbody>\n",
       "</table>\n",
       "<p>5 rows × 24 columns</p>\n",
       "</div>"
      ],
      "text/plain": [
       "         id age gender               diagnosis occupation_status vhi_score  \\\n",
       "0  voice100  24      m                 healthy                NU         0   \n",
       "1  voice101  60      m                 healthy                NU        80   \n",
       "2  voice192  22      m  hyperkinetic dysphonia              Cook         0   \n",
       "3  voice193  46      f  hyperkinetic dysphonia         Housewife         0   \n",
       "4  voice008  51      f       reflux laryngitis        Researcher        19   \n",
       "\n",
       "  rsi_score smoker cigarettes_pd alcohol_consumption  ... carbonated_pd  \\\n",
       "0         5     no            NU      casual drinker  ...            NU   \n",
       "1        10     no            NU          nondrinker  ...            NU   \n",
       "2        10     no            NU          nondrinker  ...            NU   \n",
       "3        36    yes            15      casual drinker  ...            NU   \n",
       "4        15     no            NU      casual drinker  ...            NU   \n",
       "\n",
       "        tomatoes  coffee coffee_pd      chocolate chocolate_grams_pd  \\\n",
       "0          never  always         3      sometimes                 NU   \n",
       "1      sometimes  always         4      sometimes                 NU   \n",
       "2      sometimes  always        NU         always                 NU   \n",
       "3      sometimes  always         2      sometimes                 NU   \n",
       "4  almost always  always         2  almost always                20g   \n",
       "\n",
       "     soft_cheese soft_cheese_pd  citrus_fruits citrus_fruits_pd  \n",
       "0  almost always             NU          never               NU  \n",
       "1      sometimes             NU          never               NU  \n",
       "2      sometimes             NU  almost always               NU  \n",
       "3      sometimes             NU      sometimes               NU  \n",
       "4      sometimes         100 gr  almost always                1  \n",
       "\n",
       "[5 rows x 24 columns]"
      ]
     },
     "execution_count": 9,
     "metadata": {},
     "output_type": "execute_result"
    }
   ],
   "source": [
    "# Convert 'per day' to pd\n",
    "renamed_cols = list(renamed_df.columns)\n",
    "\n",
    "updated_cols = []\n",
    "# Update each column\n",
    "for col in renamed_cols:\n",
    "    col = col.replace(\"per day\", \"pd\")\n",
    "    col = col.replace(\" \", \"_\")\n",
    "    updated_cols.append(col)\n",
    "\n",
    "# Set the updated columns\n",
    "renamed_df.columns = updated_cols\n",
    "\n",
    "# Display the updated DataFrame\n",
    "renamed_df.head()"
   ]
  },
  {
   "cell_type": "markdown",
   "id": "98058f38-134f-4a31-922f-bf546c7ea1cd",
   "metadata": {},
   "source": [
    "### Convert 'NU' values to 'NaN'"
   ]
  },
  {
   "cell_type": "code",
   "execution_count": 10,
   "id": "14c13006-7dc2-4f9d-a14e-e800070c4bb1",
   "metadata": {},
   "outputs": [],
   "source": [
    "# Create a copy of renamed\n",
    "updated_df = renamed_df.copy()\n",
    "\n",
    "# Convert the 'NU' values to 'NaN'\n",
    "updated_df = updated_df.replace(\"NU\", np.nan)"
   ]
  },
  {
   "cell_type": "code",
   "execution_count": 11,
   "id": "6cfc8e96-00a3-47af-b210-73167379e731",
   "metadata": {},
   "outputs": [
    {
     "name": "stdout",
     "output_type": "stream",
     "text": [
      "<class 'pandas.core.frame.DataFrame'>\n",
      "RangeIndex: 208 entries, 0 to 207\n",
      "Data columns (total 24 columns):\n",
      " #   Column                Non-Null Count  Dtype \n",
      "---  ------                --------------  ----- \n",
      " 0   id                    208 non-null    object\n",
      " 1   age                   208 non-null    object\n",
      " 2   gender                208 non-null    object\n",
      " 3   diagnosis             208 non-null    object\n",
      " 4   occupation_status     167 non-null    object\n",
      " 5   vhi_score             208 non-null    object\n",
      " 6   rsi_score             208 non-null    object\n",
      " 7   smoker                208 non-null    object\n",
      " 8   cigarettes_pd         41 non-null     object\n",
      " 9   alcohol_consumption   208 non-null    object\n",
      " 10  alcohol_pd            25 non-null     object\n",
      " 11  water_litres_pd       208 non-null    object\n",
      " 12  eating_habits         208 non-null    object\n",
      " 13  carbonated_beverages  208 non-null    object\n",
      " 14  carbonated_pd         21 non-null     object\n",
      " 15  tomatoes              208 non-null    object\n",
      " 16  coffee                208 non-null    object\n",
      " 17  coffee_pd             170 non-null    object\n",
      " 18  chocolate             208 non-null    object\n",
      " 19  chocolate_grams_pd    36 non-null     object\n",
      " 20  soft_cheese           208 non-null    object\n",
      " 21  soft_cheese_pd        33 non-null     object\n",
      " 22  citrus_fruits         208 non-null    object\n",
      " 23  citrus_fruits_pd      49 non-null     object\n",
      "dtypes: object(24)\n",
      "memory usage: 39.1+ KB\n"
     ]
    }
   ],
   "source": [
    "# Check the updated DataFrame info\n",
    "updated_df.info()"
   ]
  },
  {
   "cell_type": "code",
   "execution_count": 12,
   "id": "292ea3d5-0fc0-47b1-919c-b529a141e0e6",
   "metadata": {},
   "outputs": [
    {
     "data": {
      "text/html": [
       "<div>\n",
       "<style scoped>\n",
       "    .dataframe tbody tr th:only-of-type {\n",
       "        vertical-align: middle;\n",
       "    }\n",
       "\n",
       "    .dataframe tbody tr th {\n",
       "        vertical-align: top;\n",
       "    }\n",
       "\n",
       "    .dataframe thead th {\n",
       "        text-align: right;\n",
       "    }\n",
       "</style>\n",
       "<table border=\"1\" class=\"dataframe\">\n",
       "  <thead>\n",
       "    <tr style=\"text-align: right;\">\n",
       "      <th></th>\n",
       "      <th>occupation_status</th>\n",
       "      <th>cigarettes_pd</th>\n",
       "      <th>alcohol_pd</th>\n",
       "      <th>carbonated_pd</th>\n",
       "      <th>coffee_pd</th>\n",
       "      <th>chocolate_grams_pd</th>\n",
       "      <th>soft_cheese_pd</th>\n",
       "      <th>citrus_fruits_pd</th>\n",
       "    </tr>\n",
       "  </thead>\n",
       "  <tbody>\n",
       "    <tr>\n",
       "      <th>0</th>\n",
       "      <td>NaN</td>\n",
       "      <td>NaN</td>\n",
       "      <td>NaN</td>\n",
       "      <td>NaN</td>\n",
       "      <td>3</td>\n",
       "      <td>NaN</td>\n",
       "      <td>NaN</td>\n",
       "      <td>NaN</td>\n",
       "    </tr>\n",
       "    <tr>\n",
       "      <th>1</th>\n",
       "      <td>NaN</td>\n",
       "      <td>NaN</td>\n",
       "      <td>NaN</td>\n",
       "      <td>NaN</td>\n",
       "      <td>4</td>\n",
       "      <td>NaN</td>\n",
       "      <td>NaN</td>\n",
       "      <td>NaN</td>\n",
       "    </tr>\n",
       "    <tr>\n",
       "      <th>2</th>\n",
       "      <td>Cook</td>\n",
       "      <td>NaN</td>\n",
       "      <td>NaN</td>\n",
       "      <td>NaN</td>\n",
       "      <td>NaN</td>\n",
       "      <td>NaN</td>\n",
       "      <td>NaN</td>\n",
       "      <td>NaN</td>\n",
       "    </tr>\n",
       "    <tr>\n",
       "      <th>3</th>\n",
       "      <td>Housewife</td>\n",
       "      <td>15</td>\n",
       "      <td>NaN</td>\n",
       "      <td>NaN</td>\n",
       "      <td>2</td>\n",
       "      <td>NaN</td>\n",
       "      <td>NaN</td>\n",
       "      <td>NaN</td>\n",
       "    </tr>\n",
       "    <tr>\n",
       "      <th>4</th>\n",
       "      <td>Researcher</td>\n",
       "      <td>NaN</td>\n",
       "      <td>NaN</td>\n",
       "      <td>NaN</td>\n",
       "      <td>2</td>\n",
       "      <td>20g</td>\n",
       "      <td>100 gr</td>\n",
       "      <td>1</td>\n",
       "    </tr>\n",
       "  </tbody>\n",
       "</table>\n",
       "</div>"
      ],
      "text/plain": [
       "  occupation_status cigarettes_pd alcohol_pd carbonated_pd coffee_pd  \\\n",
       "0               NaN           NaN        NaN           NaN         3   \n",
       "1               NaN           NaN        NaN           NaN         4   \n",
       "2              Cook           NaN        NaN           NaN       NaN   \n",
       "3         Housewife            15        NaN           NaN         2   \n",
       "4        Researcher           NaN        NaN           NaN         2   \n",
       "\n",
       "  chocolate_grams_pd soft_cheese_pd citrus_fruits_pd  \n",
       "0                NaN            NaN              NaN  \n",
       "1                NaN            NaN              NaN  \n",
       "2                NaN            NaN              NaN  \n",
       "3                NaN            NaN              NaN  \n",
       "4                20g         100 gr                1  "
      ]
     },
     "execution_count": 12,
     "metadata": {},
     "output_type": "execute_result"
    }
   ],
   "source": [
    "# Display the columns with null values\n",
    "cols_with_null = updated_df.columns[updated_df.isnull().any()]\n",
    "\n",
    "# Return as a DataFrame\n",
    "updated_nulls_df = updated_df[cols_with_null]\n",
    "updated_nulls_df.head()"
   ]
  },
  {
   "cell_type": "markdown",
   "id": "7cac4767-64d6-4163-b05d-c405fc937051",
   "metadata": {},
   "source": [
    "### Clean categorical columns\n",
    "- Except `diagnosis` and `occupation_status`, do these separately."
   ]
  },
  {
   "cell_type": "code",
   "execution_count": 13,
   "id": "99692237-e65d-4f8b-9175-7be3b1844f0d",
   "metadata": {},
   "outputs": [
    {
     "data": {
      "text/plain": [
       "gender\n",
       "f    136\n",
       "m     72\n",
       "Name: count, dtype: int64"
      ]
     },
     "execution_count": 13,
     "metadata": {},
     "output_type": "execute_result"
    }
   ],
   "source": [
    "# Check the gender column\n",
    "updated_df['gender'].value_counts()"
   ]
  },
  {
   "cell_type": "code",
   "execution_count": 14,
   "id": "5d2552bc-e402-48fd-8dc4-264d4ab70c81",
   "metadata": {},
   "outputs": [
    {
     "data": {
      "text/plain": [
       "smoker\n",
       "no               98\n",
       "No               56\n",
       "yes              43\n",
       "casual smoker    11\n",
       "Name: count, dtype: int64"
      ]
     },
     "execution_count": 14,
     "metadata": {},
     "output_type": "execute_result"
    }
   ],
   "source": [
    "# Check the smoker column\n",
    "updated_df['smoker'].value_counts()"
   ]
  },
  {
   "cell_type": "code",
   "execution_count": 15,
   "id": "48920954-11e3-45d5-b58a-93ec600c3ca3",
   "metadata": {},
   "outputs": [
    {
     "data": {
      "text/plain": [
       "smoker\n",
       "no        154\n",
       "yes        43\n",
       "casual     11\n",
       "Name: count, dtype: int64"
      ]
     },
     "execution_count": 15,
     "metadata": {},
     "output_type": "execute_result"
    }
   ],
   "source": [
    "# Convert the 'No' to 'no'\n",
    "updated_df['smoker'] = updated_df['smoker'].str.replace('No', 'no')\n",
    "\n",
    "# Convert 'casual smoker' to 'casual'\n",
    "updated_df['smoker'] = updated_df['smoker'].str.replace('casual smoker', 'casual')\n",
    "\n",
    "# Display the updated values\n",
    "updated_df['smoker'].value_counts()"
   ]
  },
  {
   "cell_type": "markdown",
   "id": "84b8ddf3-377a-44f8-aefc-5fe3abc480c1",
   "metadata": {},
   "source": [
    "Plan for encoding the `smoker` column\n",
    "- `0` for `no`\n",
    "- `1` for `casual`\n",
    "- `2` for `yes`"
   ]
  },
  {
   "cell_type": "code",
   "execution_count": 16,
   "id": "5df6808f-6b71-4018-9766-301ac52ee67b",
   "metadata": {},
   "outputs": [
    {
     "data": {
      "text/plain": [
       "alcohol_consumption\n",
       "casual drinker      101\n",
       "nondrinker           84\n",
       "habitual drinker     23\n",
       "Name: count, dtype: int64"
      ]
     },
     "execution_count": 16,
     "metadata": {},
     "output_type": "execute_result"
    }
   ],
   "source": [
    "# Check the alcohol_consumption column\n",
    "updated_df['alcohol_consumption'].value_counts()"
   ]
  },
  {
   "cell_type": "code",
   "execution_count": 17,
   "id": "f52dcebc-d1bf-45ba-bbcd-ff45e6deeba2",
   "metadata": {},
   "outputs": [
    {
     "data": {
      "text/plain": [
       "alcohol_consumption\n",
       "casual        101\n",
       "nondrinker     84\n",
       "habitual       23\n",
       "Name: count, dtype: int64"
      ]
     },
     "execution_count": 17,
     "metadata": {},
     "output_type": "execute_result"
    }
   ],
   "source": [
    "# Simplify the values for alcoholo_consumption\n",
    "updated_df['alcohol_consumption'] = updated_df['alcohol_consumption'].str.replace(\" drinker\", \"\")\n",
    "\n",
    "# Check the updated values\n",
    "updated_df['alcohol_consumption'].value_counts()"
   ]
  },
  {
   "cell_type": "markdown",
   "id": "3800fa06-2eae-49f1-97a8-b08fe3647787",
   "metadata": {},
   "source": [
    "Plan for encoding `alcohol_consumption` column\n",
    "- `0` for `nondrinker`\n",
    "- `1` for `casual`\n",
    "- `2` for `habitual`"
   ]
  },
  {
   "cell_type": "code",
   "execution_count": 18,
   "id": "fda5615c-81a8-4061-a38e-f637343d15dc",
   "metadata": {},
   "outputs": [
    {
     "data": {
      "text/plain": [
       "0       \n",
       "1       \n",
       "2       \n",
       "3       \n",
       "4       \n",
       "      ..\n",
       "203     \n",
       "204     \n",
       "205     \n",
       "206     \n",
       "207     \n",
       "Name: eating_habits, Length: 208, dtype: object"
      ]
     },
     "execution_count": 18,
     "metadata": {},
     "output_type": "execute_result"
    }
   ],
   "source": [
    "# Check the eating_habits column\n",
    "updated_df['eating_habits']"
   ]
  },
  {
   "cell_type": "code",
   "execution_count": 19,
   "id": "f8f52df2-376a-4995-8dbe-3a2a1132d5a3",
   "metadata": {},
   "outputs": [],
   "source": [
    "# Header in the text file, drop column\n",
    "updated_df = updated_df.drop(columns=['eating_habits'])"
   ]
  },
  {
   "cell_type": "code",
   "execution_count": 20,
   "id": "45133e5f-59dd-415d-b2c4-ba26a287d57f",
   "metadata": {},
   "outputs": [
    {
     "name": "stdout",
     "output_type": "stream",
     "text": [
      "['almost always', 'never', 'sometimes', 'almost never', 'always']\n"
     ]
    }
   ],
   "source": [
    "# Check the eating habits columns\n",
    "eating_habits = ['carbonated_beverages', 'tomatoes', 'coffee', 'chocolate', 'soft_cheese', 'citrus_fruits']\n",
    "\n",
    "# Check unique values\n",
    "unique_list = []\n",
    "for col in eating_habits:\n",
    "    unique_values = updated_df[col].unique()\n",
    "    for val in unique_values:\n",
    "        if val not in unique_list:\n",
    "            unique_list.append(val)\n",
    "print(unique_list)"
   ]
  },
  {
   "cell_type": "markdown",
   "id": "b26b0387-83b1-482b-a2c7-bee756031728",
   "metadata": {},
   "source": [
    "Encode the eating habits columns:\n",
    "- `0` for `never`\n",
    "- `1` for `almost_never`\n",
    "- `2` for `sometimes`\n",
    "- `3` for `almost_always`\n",
    "- `4` for `always`"
   ]
  },
  {
   "cell_type": "code",
   "execution_count": 21,
   "id": "6bf8b9eb-0375-4c1c-a015-703ee73dc743",
   "metadata": {},
   "outputs": [],
   "source": [
    "# Create a clean_cat_df\n",
    "clean_cat_df = updated_df.copy()"
   ]
  },
  {
   "cell_type": "markdown",
   "id": "768f871f-6c6e-4e50-a74f-3116c6c68c59",
   "metadata": {},
   "source": [
    "### Check the numerical columns"
   ]
  },
  {
   "cell_type": "code",
   "execution_count": 22,
   "id": "09000b58-6dbb-46a0-a4f0-380bfcb34f36",
   "metadata": {},
   "outputs": [
    {
     "name": "stdout",
     "output_type": "stream",
     "text": [
      "<class 'pandas.core.frame.DataFrame'>\n",
      "RangeIndex: 208 entries, 0 to 207\n",
      "Data columns (total 23 columns):\n",
      " #   Column                Non-Null Count  Dtype \n",
      "---  ------                --------------  ----- \n",
      " 0   id                    208 non-null    object\n",
      " 1   age                   208 non-null    int64 \n",
      " 2   gender                208 non-null    object\n",
      " 3   diagnosis             208 non-null    object\n",
      " 4   occupation_status     167 non-null    object\n",
      " 5   vhi_score             208 non-null    int64 \n",
      " 6   rsi_score             208 non-null    int64 \n",
      " 7   smoker                208 non-null    object\n",
      " 8   cigarettes_pd         41 non-null     object\n",
      " 9   alcohol_consumption   208 non-null    object\n",
      " 10  alcohol_pd            25 non-null     object\n",
      " 11  water_litres_pd       208 non-null    object\n",
      " 12  carbonated_beverages  208 non-null    object\n",
      " 13  carbonated_pd         21 non-null     object\n",
      " 14  tomatoes              208 non-null    object\n",
      " 15  coffee                208 non-null    object\n",
      " 16  coffee_pd             170 non-null    object\n",
      " 17  chocolate             208 non-null    object\n",
      " 18  chocolate_grams_pd    36 non-null     object\n",
      " 19  soft_cheese           208 non-null    object\n",
      " 20  soft_cheese_pd        33 non-null     object\n",
      " 21  citrus_fruits         208 non-null    object\n",
      " 22  citrus_fruits_pd      49 non-null     object\n",
      "dtypes: int64(3), object(20)\n",
      "memory usage: 37.5+ KB\n"
     ]
    }
   ],
   "source": [
    "# Isolate columns to convert to int type\n",
    "convert_cols = ['age', 'vhi_score', 'rsi_score']\n",
    "\n",
    "# Convert columns to int\n",
    "clean_cat_df[convert_cols] = clean_cat_df[convert_cols].astype(int)\n",
    "\n",
    "# Confirm changes\n",
    "clean_cat_df.info()"
   ]
  },
  {
   "cell_type": "markdown",
   "id": "6985828a-4b50-4c5c-8acb-47e4c22c18f4",
   "metadata": {},
   "source": [
    "#### Clean the `cigarettes_pd` column"
   ]
  },
  {
   "cell_type": "code",
   "execution_count": 23,
   "id": "ee760b6c-5624-4fa2-987f-6f95fcc6d954",
   "metadata": {},
   "outputs": [
    {
     "data": {
      "text/html": [
       "<div>\n",
       "<style scoped>\n",
       "    .dataframe tbody tr th:only-of-type {\n",
       "        vertical-align: middle;\n",
       "    }\n",
       "\n",
       "    .dataframe tbody tr th {\n",
       "        vertical-align: top;\n",
       "    }\n",
       "\n",
       "    .dataframe thead th {\n",
       "        text-align: right;\n",
       "    }\n",
       "</style>\n",
       "<table border=\"1\" class=\"dataframe\">\n",
       "  <thead>\n",
       "    <tr style=\"text-align: right;\">\n",
       "      <th></th>\n",
       "      <th>smoker</th>\n",
       "      <th>cigarettes_pd</th>\n",
       "    </tr>\n",
       "  </thead>\n",
       "  <tbody>\n",
       "    <tr>\n",
       "      <th>0</th>\n",
       "      <td>no</td>\n",
       "      <td>NaN</td>\n",
       "    </tr>\n",
       "    <tr>\n",
       "      <th>1</th>\n",
       "      <td>no</td>\n",
       "      <td>NaN</td>\n",
       "    </tr>\n",
       "    <tr>\n",
       "      <th>2</th>\n",
       "      <td>no</td>\n",
       "      <td>NaN</td>\n",
       "    </tr>\n",
       "    <tr>\n",
       "      <th>3</th>\n",
       "      <td>yes</td>\n",
       "      <td>15</td>\n",
       "    </tr>\n",
       "    <tr>\n",
       "      <th>4</th>\n",
       "      <td>no</td>\n",
       "      <td>NaN</td>\n",
       "    </tr>\n",
       "  </tbody>\n",
       "</table>\n",
       "</div>"
      ],
      "text/plain": [
       "  smoker cigarettes_pd\n",
       "0     no           NaN\n",
       "1     no           NaN\n",
       "2     no           NaN\n",
       "3    yes            15\n",
       "4     no           NaN"
      ]
     },
     "execution_count": 23,
     "metadata": {},
     "output_type": "execute_result"
    }
   ],
   "source": [
    "# Check the smoker and cigarettes_pd columns\n",
    "smoker_columns = ['smoker', 'cigarettes_pd']\n",
    "clean_cat_df[smoker_columns].head()"
   ]
  },
  {
   "cell_type": "code",
   "execution_count": 24,
   "id": "017801d9-130c-45d2-a097-c2410a5a5b49",
   "metadata": {},
   "outputs": [
    {
     "data": {
      "text/html": [
       "<div>\n",
       "<style scoped>\n",
       "    .dataframe tbody tr th:only-of-type {\n",
       "        vertical-align: middle;\n",
       "    }\n",
       "\n",
       "    .dataframe tbody tr th {\n",
       "        vertical-align: top;\n",
       "    }\n",
       "\n",
       "    .dataframe thead th {\n",
       "        text-align: right;\n",
       "    }\n",
       "</style>\n",
       "<table border=\"1\" class=\"dataframe\">\n",
       "  <thead>\n",
       "    <tr style=\"text-align: right;\">\n",
       "      <th></th>\n",
       "      <th>smoker</th>\n",
       "      <th>cigarettes_pd</th>\n",
       "    </tr>\n",
       "  </thead>\n",
       "  <tbody>\n",
       "    <tr>\n",
       "      <th>40</th>\n",
       "      <td>yes</td>\n",
       "      <td>NaN</td>\n",
       "    </tr>\n",
       "    <tr>\n",
       "      <th>83</th>\n",
       "      <td>yes</td>\n",
       "      <td>NaN</td>\n",
       "    </tr>\n",
       "    <tr>\n",
       "      <th>138</th>\n",
       "      <td>yes</td>\n",
       "      <td>NaN</td>\n",
       "    </tr>\n",
       "    <tr>\n",
       "      <th>173</th>\n",
       "      <td>yes</td>\n",
       "      <td>NaN</td>\n",
       "    </tr>\n",
       "  </tbody>\n",
       "</table>\n",
       "</div>"
      ],
      "text/plain": [
       "    smoker cigarettes_pd\n",
       "40     yes           NaN\n",
       "83     yes           NaN\n",
       "138    yes           NaN\n",
       "173    yes           NaN"
      ]
     },
     "execution_count": 24,
     "metadata": {},
     "output_type": "execute_result"
    }
   ],
   "source": [
    "# Confirm the smokers have a valid value in the cigarettes_pd\n",
    "smoker_null = (clean_cat_df['smoker'] == 'yes') & (clean_cat_df['cigarettes_pd'].isnull())\n",
    "clean_cat_df.loc[smoker_null, smoker_columns]"
   ]
  },
  {
   "cell_type": "code",
   "execution_count": 25,
   "id": "a97ee6b2-2739-4018-845d-2e48f51287cc",
   "metadata": {},
   "outputs": [
    {
     "name": "stdout",
     "output_type": "stream",
     "text": [
      "Skewness: 1.030643653897744\n"
     ]
    },
    {
     "data": {
      "image/png": "[encoded data removed]",
      "text/plain": [
       "<Figure size 640x480 with 1 Axes>"
      ]
     },
     "metadata": {},
     "output_type": "display_data"
    }
   ],
   "source": [
    "# Set the row conditions\n",
    "smoker_notnull = (clean_cat_df['smoker'] == 'yes') & (~clean_cat_df['cigarettes_pd'].isnull())\n",
    "\n",
    "# Create a copy of the series for plotting\n",
    "num_cigarettes_df = clean_cat_df[smoker_notnull]['cigarettes_pd'].copy()\n",
    "\n",
    "# Convert values for plotting\n",
    "check_data = num_cigarettes_df.fillna(0).astype(int)\n",
    "\n",
    "# Display a histogram of the cigarettes_pd column\n",
    "check_data.hist()\n",
    "plt.title('Smoker (yes) - Cigarettes per Day')\n",
    "\n",
    "# Check skewness\n",
    "print(f'Skewness: {skew(check_data)}')"
   ]
  },
  {
   "cell_type": "code",
   "execution_count": 26,
   "id": "25aa46a6-ef3b-4fef-b033-d722bc39bfb8",
   "metadata": {},
   "outputs": [
    {
     "name": "stdout",
     "output_type": "stream",
     "text": [
      "Median cigarettes per day for smokers: 15.0\n"
     ]
    }
   ],
   "source": [
    "# Calculate the median value (since skewed)\n",
    "smoker_median = clean_cat_df.loc[smoker_notnull, 'cigarettes_pd'].astype(int).median()\n",
    "print(f'Median cigarettes per day for smokers: {smoker_median}')\n",
    "\n",
    "# Impute the missing values\n",
    "clean_cat_df.loc[smoker_null, 'cigarettes_pd'] = smoker_median"
   ]
  },
  {
   "cell_type": "code",
   "execution_count": 27,
   "id": "8863d6b4-c193-4cb1-8ea5-4ed19ba0e911",
   "metadata": {},
   "outputs": [
    {
     "data": {
      "text/html": [
       "<div>\n",
       "<style scoped>\n",
       "    .dataframe tbody tr th:only-of-type {\n",
       "        vertical-align: middle;\n",
       "    }\n",
       "\n",
       "    .dataframe tbody tr th {\n",
       "        vertical-align: top;\n",
       "    }\n",
       "\n",
       "    .dataframe thead th {\n",
       "        text-align: right;\n",
       "    }\n",
       "</style>\n",
       "<table border=\"1\" class=\"dataframe\">\n",
       "  <thead>\n",
       "    <tr style=\"text-align: right;\">\n",
       "      <th></th>\n",
       "      <th>id</th>\n",
       "      <th>age</th>\n",
       "      <th>gender</th>\n",
       "      <th>diagnosis</th>\n",
       "      <th>occupation_status</th>\n",
       "      <th>vhi_score</th>\n",
       "      <th>rsi_score</th>\n",
       "      <th>smoker</th>\n",
       "      <th>cigarettes_pd</th>\n",
       "      <th>alcohol_consumption</th>\n",
       "      <th>...</th>\n",
       "      <th>carbonated_pd</th>\n",
       "      <th>tomatoes</th>\n",
       "      <th>coffee</th>\n",
       "      <th>coffee_pd</th>\n",
       "      <th>chocolate</th>\n",
       "      <th>chocolate_grams_pd</th>\n",
       "      <th>soft_cheese</th>\n",
       "      <th>soft_cheese_pd</th>\n",
       "      <th>citrus_fruits</th>\n",
       "      <th>citrus_fruits_pd</th>\n",
       "    </tr>\n",
       "  </thead>\n",
       "  <tbody>\n",
       "    <tr>\n",
       "      <th>33</th>\n",
       "      <td>voice069</td>\n",
       "      <td>63</td>\n",
       "      <td>m</td>\n",
       "      <td>reflux laryngitis</td>\n",
       "      <td>Employee</td>\n",
       "      <td>11</td>\n",
       "      <td>10</td>\n",
       "      <td>casual</td>\n",
       "      <td>NaN</td>\n",
       "      <td>nondrinker</td>\n",
       "      <td>...</td>\n",
       "      <td>NaN</td>\n",
       "      <td>sometimes</td>\n",
       "      <td>always</td>\n",
       "      <td>NaN</td>\n",
       "      <td>sometimes</td>\n",
       "      <td>NaN</td>\n",
       "      <td>always</td>\n",
       "      <td>NaN</td>\n",
       "      <td>sometimes</td>\n",
       "      <td>NaN</td>\n",
       "    </tr>\n",
       "    <tr>\n",
       "      <th>35</th>\n",
       "      <td>voice161</td>\n",
       "      <td>65</td>\n",
       "      <td>m</td>\n",
       "      <td>hypokinetic dysphonia (glottic insufficiency)</td>\n",
       "      <td>Technical operator</td>\n",
       "      <td>45</td>\n",
       "      <td>0</td>\n",
       "      <td>casual</td>\n",
       "      <td>NaN</td>\n",
       "      <td>casual</td>\n",
       "      <td>...</td>\n",
       "      <td>NaN</td>\n",
       "      <td>sometimes</td>\n",
       "      <td>always</td>\n",
       "      <td>2</td>\n",
       "      <td>almost never</td>\n",
       "      <td>NaN</td>\n",
       "      <td>sometimes</td>\n",
       "      <td>NaN</td>\n",
       "      <td>almost never</td>\n",
       "      <td>NaN</td>\n",
       "    </tr>\n",
       "    <tr>\n",
       "      <th>45</th>\n",
       "      <td>voice155</td>\n",
       "      <td>33</td>\n",
       "      <td>f</td>\n",
       "      <td>hyperkinetic dysphonia</td>\n",
       "      <td>Housewife</td>\n",
       "      <td>34</td>\n",
       "      <td>0</td>\n",
       "      <td>casual</td>\n",
       "      <td>NaN</td>\n",
       "      <td>nondrinker</td>\n",
       "      <td>...</td>\n",
       "      <td>NaN</td>\n",
       "      <td>sometimes</td>\n",
       "      <td>always</td>\n",
       "      <td>3</td>\n",
       "      <td>sometimes</td>\n",
       "      <td>NaN</td>\n",
       "      <td>sometimes</td>\n",
       "      <td>NaN</td>\n",
       "      <td>sometimes</td>\n",
       "      <td>NaN</td>\n",
       "    </tr>\n",
       "    <tr>\n",
       "      <th>84</th>\n",
       "      <td>voice106</td>\n",
       "      <td>21</td>\n",
       "      <td>m</td>\n",
       "      <td>hypokinetic dysphonia</td>\n",
       "      <td>NaN</td>\n",
       "      <td>35</td>\n",
       "      <td>13</td>\n",
       "      <td>casual</td>\n",
       "      <td>NaN</td>\n",
       "      <td>nondrinker</td>\n",
       "      <td>...</td>\n",
       "      <td>NaN</td>\n",
       "      <td>almost always</td>\n",
       "      <td>almost always</td>\n",
       "      <td>NaN</td>\n",
       "      <td>almost always</td>\n",
       "      <td>NaN</td>\n",
       "      <td>almost never</td>\n",
       "      <td>NaN</td>\n",
       "      <td>sometimes</td>\n",
       "      <td>NaN</td>\n",
       "    </tr>\n",
       "    <tr>\n",
       "      <th>100</th>\n",
       "      <td>voice004</td>\n",
       "      <td>28</td>\n",
       "      <td>f</td>\n",
       "      <td>hypokinetic dysphonia</td>\n",
       "      <td>Researcher</td>\n",
       "      <td>20</td>\n",
       "      <td>9</td>\n",
       "      <td>casual</td>\n",
       "      <td>NaN</td>\n",
       "      <td>casual</td>\n",
       "      <td>...</td>\n",
       "      <td>NaN</td>\n",
       "      <td>sometimes</td>\n",
       "      <td>always</td>\n",
       "      <td>3</td>\n",
       "      <td>sometimes</td>\n",
       "      <td>NaN</td>\n",
       "      <td>almost always</td>\n",
       "      <td>NaN</td>\n",
       "      <td>sometimes</td>\n",
       "      <td>NaN</td>\n",
       "    </tr>\n",
       "    <tr>\n",
       "      <th>118</th>\n",
       "      <td>voice061</td>\n",
       "      <td>33</td>\n",
       "      <td>f</td>\n",
       "      <td>healthy</td>\n",
       "      <td>Researcher</td>\n",
       "      <td>19</td>\n",
       "      <td>12</td>\n",
       "      <td>casual</td>\n",
       "      <td>NaN</td>\n",
       "      <td>habitual</td>\n",
       "      <td>...</td>\n",
       "      <td>NaN</td>\n",
       "      <td>almost always</td>\n",
       "      <td>almost always</td>\n",
       "      <td>2</td>\n",
       "      <td>sometimes</td>\n",
       "      <td>NaN</td>\n",
       "      <td>sometimes</td>\n",
       "      <td>NaN</td>\n",
       "      <td>almost never</td>\n",
       "      <td>NaN</td>\n",
       "    </tr>\n",
       "    <tr>\n",
       "      <th>127</th>\n",
       "      <td>voice163</td>\n",
       "      <td>44</td>\n",
       "      <td>f</td>\n",
       "      <td>hyperkinetic dysphonia</td>\n",
       "      <td>Housewife</td>\n",
       "      <td>30</td>\n",
       "      <td>11</td>\n",
       "      <td>casual</td>\n",
       "      <td>NaN</td>\n",
       "      <td>nondrinker</td>\n",
       "      <td>...</td>\n",
       "      <td>NaN</td>\n",
       "      <td>sometimes</td>\n",
       "      <td>always</td>\n",
       "      <td>3</td>\n",
       "      <td>sometimes</td>\n",
       "      <td>NaN</td>\n",
       "      <td>almost never</td>\n",
       "      <td>NaN</td>\n",
       "      <td>sometimes</td>\n",
       "      <td>NaN</td>\n",
       "    </tr>\n",
       "    <tr>\n",
       "      <th>132</th>\n",
       "      <td>voice049</td>\n",
       "      <td>44</td>\n",
       "      <td>f</td>\n",
       "      <td>healthy</td>\n",
       "      <td>Employee</td>\n",
       "      <td>4</td>\n",
       "      <td>20</td>\n",
       "      <td>casual</td>\n",
       "      <td>NaN</td>\n",
       "      <td>casual</td>\n",
       "      <td>...</td>\n",
       "      <td>NaN</td>\n",
       "      <td>sometimes</td>\n",
       "      <td>always</td>\n",
       "      <td>3</td>\n",
       "      <td>almost never</td>\n",
       "      <td>NaN</td>\n",
       "      <td>almost never</td>\n",
       "      <td>NaN</td>\n",
       "      <td>almost always</td>\n",
       "      <td>2</td>\n",
       "    </tr>\n",
       "    <tr>\n",
       "      <th>163</th>\n",
       "      <td>voice178</td>\n",
       "      <td>20</td>\n",
       "      <td>f</td>\n",
       "      <td>healthy</td>\n",
       "      <td>Student</td>\n",
       "      <td>0</td>\n",
       "      <td>16</td>\n",
       "      <td>casual</td>\n",
       "      <td>NaN</td>\n",
       "      <td>nondrinker</td>\n",
       "      <td>...</td>\n",
       "      <td>NaN</td>\n",
       "      <td>almost never</td>\n",
       "      <td>sometimes</td>\n",
       "      <td>NaN</td>\n",
       "      <td>sometimes</td>\n",
       "      <td>NaN</td>\n",
       "      <td>sometimes</td>\n",
       "      <td>NaN</td>\n",
       "      <td>sometimes</td>\n",
       "      <td>NaN</td>\n",
       "    </tr>\n",
       "  </tbody>\n",
       "</table>\n",
       "<p>9 rows × 23 columns</p>\n",
       "</div>"
      ],
      "text/plain": [
       "           id  age gender                                      diagnosis  \\\n",
       "33   voice069   63      m                              reflux laryngitis   \n",
       "35   voice161   65      m  hypokinetic dysphonia (glottic insufficiency)   \n",
       "45   voice155   33      f                         hyperkinetic dysphonia   \n",
       "84   voice106   21      m                          hypokinetic dysphonia   \n",
       "100  voice004   28      f                          hypokinetic dysphonia   \n",
       "118  voice061   33      f                                        healthy   \n",
       "127  voice163   44      f                         hyperkinetic dysphonia   \n",
       "132  voice049   44      f                                        healthy   \n",
       "163  voice178   20      f                                        healthy   \n",
       "\n",
       "      occupation_status  vhi_score  rsi_score  smoker cigarettes_pd  \\\n",
       "33             Employee         11         10  casual           NaN   \n",
       "35   Technical operator         45          0  casual           NaN   \n",
       "45            Housewife         34          0  casual           NaN   \n",
       "84                  NaN         35         13  casual           NaN   \n",
       "100          Researcher         20          9  casual           NaN   \n",
       "118          Researcher         19         12  casual           NaN   \n",
       "127           Housewife         30         11  casual           NaN   \n",
       "132            Employee          4         20  casual           NaN   \n",
       "163             Student          0         16  casual           NaN   \n",
       "\n",
       "    alcohol_consumption  ... carbonated_pd       tomatoes         coffee  \\\n",
       "33           nondrinker  ...           NaN      sometimes         always   \n",
       "35               casual  ...           NaN      sometimes         always   \n",
       "45           nondrinker  ...           NaN      sometimes         always   \n",
       "84           nondrinker  ...           NaN  almost always  almost always   \n",
       "100              casual  ...           NaN      sometimes         always   \n",
       "118            habitual  ...           NaN  almost always  almost always   \n",
       "127          nondrinker  ...           NaN      sometimes         always   \n",
       "132              casual  ...           NaN      sometimes         always   \n",
       "163          nondrinker  ...           NaN   almost never      sometimes   \n",
       "\n",
       "    coffee_pd      chocolate chocolate_grams_pd    soft_cheese soft_cheese_pd  \\\n",
       "33        NaN      sometimes                NaN         always            NaN   \n",
       "35          2   almost never                NaN      sometimes            NaN   \n",
       "45          3      sometimes                NaN      sometimes            NaN   \n",
       "84        NaN  almost always                NaN   almost never            NaN   \n",
       "100         3      sometimes                NaN  almost always            NaN   \n",
       "118         2      sometimes                NaN      sometimes            NaN   \n",
       "127         3      sometimes                NaN   almost never            NaN   \n",
       "132         3   almost never                NaN   almost never            NaN   \n",
       "163       NaN      sometimes                NaN      sometimes            NaN   \n",
       "\n",
       "     citrus_fruits citrus_fruits_pd  \n",
       "33       sometimes              NaN  \n",
       "35    almost never              NaN  \n",
       "45       sometimes              NaN  \n",
       "84       sometimes              NaN  \n",
       "100      sometimes              NaN  \n",
       "118   almost never              NaN  \n",
       "127      sometimes              NaN  \n",
       "132  almost always                2  \n",
       "163      sometimes              NaN  \n",
       "\n",
       "[9 rows x 23 columns]"
      ]
     },
     "execution_count": 27,
     "metadata": {},
     "output_type": "execute_result"
    }
   ],
   "source": [
    "# Confirm the casual smokers have a valid value in the cigarettes_pd\n",
    "casual_null = (clean_cat_df['smoker'] == 'casual') & (clean_cat_df['cigarettes_pd'].isnull())\n",
    "clean_cat_df.loc[casual_null]"
   ]
  },
  {
   "cell_type": "code",
   "execution_count": 28,
   "id": "6d3c9bd5-35e9-4db9-a4d4-a0ba6605cdcb",
   "metadata": {},
   "outputs": [
    {
     "data": {
      "text/plain": [
       "cigarettes_pd\n",
       "2    2\n",
       "Name: count, dtype: int64"
      ]
     },
     "execution_count": 28,
     "metadata": {},
     "output_type": "execute_result"
    }
   ],
   "source": [
    "# Check the casual smokers who have have a valid cigarettes_pd value\n",
    "clean_cat_df.loc[clean_cat_df['smoker'] == 'casual', 'cigarettes_pd'].value_counts()"
   ]
  },
  {
   "cell_type": "code",
   "execution_count": 29,
   "id": "60c6f160-614e-489b-8aae-25e8bf89519a",
   "metadata": {},
   "outputs": [],
   "source": [
    "# Use this value to impute missing values\n",
    "casual_value = clean_cat_df.loc[clean_cat_df['smoker'] == 'casual', 'cigarettes_pd'].value_counts().mean()\n",
    "\n",
    "# Impute the missing values\n",
    "clean_cat_df.loc[casual_null, 'cigarettes_pd'] = casual_value"
   ]
  },
  {
   "cell_type": "code",
   "execution_count": 30,
   "id": "05d64aa9-6f8f-4b54-a8d0-226355e62654",
   "metadata": {},
   "outputs": [
    {
     "name": "stdout",
     "output_type": "stream",
     "text": [
      "<class 'pandas.core.frame.DataFrame'>\n",
      "RangeIndex: 208 entries, 0 to 207\n",
      "Data columns (total 23 columns):\n",
      " #   Column                Non-Null Count  Dtype \n",
      "---  ------                --------------  ----- \n",
      " 0   id                    208 non-null    object\n",
      " 1   age                   208 non-null    int64 \n",
      " 2   gender                208 non-null    object\n",
      " 3   diagnosis             208 non-null    object\n",
      " 4   occupation_status     167 non-null    object\n",
      " 5   vhi_score             208 non-null    int64 \n",
      " 6   rsi_score             208 non-null    int64 \n",
      " 7   smoker                208 non-null    object\n",
      " 8   cigarettes_pd         208 non-null    int64 \n",
      " 9   alcohol_consumption   208 non-null    object\n",
      " 10  alcohol_pd            25 non-null     object\n",
      " 11  water_litres_pd       208 non-null    object\n",
      " 12  carbonated_beverages  208 non-null    object\n",
      " 13  carbonated_pd         21 non-null     object\n",
      " 14  tomatoes              208 non-null    object\n",
      " 15  coffee                208 non-null    object\n",
      " 16  coffee_pd             170 non-null    object\n",
      " 17  chocolate             208 non-null    object\n",
      " 18  chocolate_grams_pd    36 non-null     object\n",
      " 19  soft_cheese           208 non-null    object\n",
      " 20  soft_cheese_pd        33 non-null     object\n",
      " 21  citrus_fruits         208 non-null    object\n",
      " 22  citrus_fruits_pd      49 non-null     object\n",
      "dtypes: int64(4), object(19)\n",
      "memory usage: 37.5+ KB\n"
     ]
    }
   ],
   "source": [
    "# Convert all other NaN values to `0`\n",
    "clean_cat_df['cigarettes_pd'] = clean_cat_df['cigarettes_pd'].fillna(0)\n",
    "\n",
    "# Convert the column type to an integer\n",
    "clean_cat_df['cigarettes_pd'] = clean_cat_df['cigarettes_pd'].astype(int)\n",
    "\n",
    "# Confirm changes\n",
    "clean_cat_df.info()"
   ]
  },
  {
   "cell_type": "markdown",
   "id": "c36eee8a-5a7e-4f3b-950a-3b226183f9aa",
   "metadata": {},
   "source": [
    "#### Clean the `alcohol_pd` column"
   ]
  },
  {
   "cell_type": "code",
   "execution_count": 31,
   "id": "14d4a311-de3e-4543-b71f-3636707167fe",
   "metadata": {},
   "outputs": [
    {
     "data": {
      "text/html": [
       "<div>\n",
       "<style scoped>\n",
       "    .dataframe tbody tr th:only-of-type {\n",
       "        vertical-align: middle;\n",
       "    }\n",
       "\n",
       "    .dataframe tbody tr th {\n",
       "        vertical-align: top;\n",
       "    }\n",
       "\n",
       "    .dataframe thead th {\n",
       "        text-align: right;\n",
       "    }\n",
       "</style>\n",
       "<table border=\"1\" class=\"dataframe\">\n",
       "  <thead>\n",
       "    <tr style=\"text-align: right;\">\n",
       "      <th></th>\n",
       "      <th>alcohol_consumption</th>\n",
       "      <th>alcohol_pd</th>\n",
       "    </tr>\n",
       "  </thead>\n",
       "  <tbody>\n",
       "    <tr>\n",
       "      <th>0</th>\n",
       "      <td>casual</td>\n",
       "      <td>NaN</td>\n",
       "    </tr>\n",
       "    <tr>\n",
       "      <th>1</th>\n",
       "      <td>nondrinker</td>\n",
       "      <td>NaN</td>\n",
       "    </tr>\n",
       "    <tr>\n",
       "      <th>2</th>\n",
       "      <td>nondrinker</td>\n",
       "      <td>NaN</td>\n",
       "    </tr>\n",
       "    <tr>\n",
       "      <th>3</th>\n",
       "      <td>casual</td>\n",
       "      <td>NaN</td>\n",
       "    </tr>\n",
       "    <tr>\n",
       "      <th>4</th>\n",
       "      <td>casual</td>\n",
       "      <td>NaN</td>\n",
       "    </tr>\n",
       "    <tr>\n",
       "      <th>...</th>\n",
       "      <td>...</td>\n",
       "      <td>...</td>\n",
       "    </tr>\n",
       "    <tr>\n",
       "      <th>203</th>\n",
       "      <td>casual</td>\n",
       "      <td>NaN</td>\n",
       "    </tr>\n",
       "    <tr>\n",
       "      <th>204</th>\n",
       "      <td>casual</td>\n",
       "      <td>NaN</td>\n",
       "    </tr>\n",
       "    <tr>\n",
       "      <th>205</th>\n",
       "      <td>casual</td>\n",
       "      <td>NaN</td>\n",
       "    </tr>\n",
       "    <tr>\n",
       "      <th>206</th>\n",
       "      <td>habitual</td>\n",
       "      <td>1</td>\n",
       "    </tr>\n",
       "    <tr>\n",
       "      <th>207</th>\n",
       "      <td>casual</td>\n",
       "      <td>NaN</td>\n",
       "    </tr>\n",
       "  </tbody>\n",
       "</table>\n",
       "<p>208 rows × 2 columns</p>\n",
       "</div>"
      ],
      "text/plain": [
       "    alcohol_consumption alcohol_pd\n",
       "0                casual        NaN\n",
       "1            nondrinker        NaN\n",
       "2            nondrinker        NaN\n",
       "3                casual        NaN\n",
       "4                casual        NaN\n",
       "..                  ...        ...\n",
       "203              casual        NaN\n",
       "204              casual        NaN\n",
       "205              casual        NaN\n",
       "206            habitual          1\n",
       "207              casual        NaN\n",
       "\n",
       "[208 rows x 2 columns]"
      ]
     },
     "execution_count": 31,
     "metadata": {},
     "output_type": "execute_result"
    }
   ],
   "source": [
    "# Check the alcohol_consumption and alcohol_pd columns\n",
    "alcohol_columns = ['alcohol_consumption', 'alcohol_pd']\n",
    "clean_cat_df[alcohol_columns]"
   ]
  },
  {
   "cell_type": "code",
   "execution_count": 32,
   "id": "ab984dfc-1de1-4d6c-8a79-76a57180b843",
   "metadata": {},
   "outputs": [],
   "source": [
    "# Update the nondrinker value to `0`\n",
    "clean_cat_df.loc[clean_cat_df['alcohol_consumption'] == 'nondrinker', 'alcohol_pd'] = 0"
   ]
  },
  {
   "cell_type": "code",
   "execution_count": 33,
   "id": "418dbe50-324e-43b0-9519-5e4435f5b11e",
   "metadata": {},
   "outputs": [
    {
     "data": {
      "text/plain": [
       "alcohol_pd\n",
       "2 per week    3\n",
       "1             2\n",
       "2             1\n",
       "1 per week    1\n",
       "3 per week    1\n",
       "0.1           1\n",
       "0,5           1\n",
       "Name: count, dtype: int64"
      ]
     },
     "execution_count": 33,
     "metadata": {},
     "output_type": "execute_result"
    }
   ],
   "source": [
    "# Check the casual drinkers\n",
    "clean_cat_df.loc[clean_cat_df['alcohol_consumption'] == 'casual', 'alcohol_pd'].value_counts()"
   ]
  },
  {
   "cell_type": "code",
   "execution_count": 34,
   "id": "e3fcf466-039d-44e1-adbe-e284c7719a8e",
   "metadata": {},
   "outputs": [
    {
     "data": {
      "text/plain": [
       "alcohol_pd\n",
       "1      8\n",
       "2      5\n",
       "1/2    1\n",
       "0.3    1\n",
       "Name: count, dtype: int64"
      ]
     },
     "execution_count": 34,
     "metadata": {},
     "output_type": "execute_result"
    }
   ],
   "source": [
    "# Check the habitual drinkers\n",
    "clean_cat_df.loc[clean_cat_df['alcohol_consumption'] == 'habitual', 'alcohol_pd'].value_counts()"
   ]
  },
  {
   "cell_type": "code",
   "execution_count": 35,
   "id": "172e84e3-4624-4514-978b-2eefc51dec61",
   "metadata": {},
   "outputs": [
    {
     "data": {
      "text/html": [
       "<div>\n",
       "<style scoped>\n",
       "    .dataframe tbody tr th:only-of-type {\n",
       "        vertical-align: middle;\n",
       "    }\n",
       "\n",
       "    .dataframe tbody tr th {\n",
       "        vertical-align: top;\n",
       "    }\n",
       "\n",
       "    .dataframe thead th {\n",
       "        text-align: right;\n",
       "    }\n",
       "</style>\n",
       "<table border=\"1\" class=\"dataframe\">\n",
       "  <thead>\n",
       "    <tr style=\"text-align: right;\">\n",
       "      <th></th>\n",
       "      <th>alcohol_consumption</th>\n",
       "      <th>alcohol_pd</th>\n",
       "    </tr>\n",
       "  </thead>\n",
       "  <tbody>\n",
       "    <tr>\n",
       "      <th>9</th>\n",
       "      <td>casual</td>\n",
       "      <td>2 per week</td>\n",
       "    </tr>\n",
       "    <tr>\n",
       "      <th>92</th>\n",
       "      <td>casual</td>\n",
       "      <td>1 per week</td>\n",
       "    </tr>\n",
       "    <tr>\n",
       "      <th>101</th>\n",
       "      <td>casual</td>\n",
       "      <td>3 per week</td>\n",
       "    </tr>\n",
       "    <tr>\n",
       "      <th>153</th>\n",
       "      <td>casual</td>\n",
       "      <td>2 per week</td>\n",
       "    </tr>\n",
       "    <tr>\n",
       "      <th>175</th>\n",
       "      <td>casual</td>\n",
       "      <td>2 per week</td>\n",
       "    </tr>\n",
       "  </tbody>\n",
       "</table>\n",
       "</div>"
      ],
      "text/plain": [
       "    alcohol_consumption  alcohol_pd\n",
       "9                casual  2 per week\n",
       "92               casual  1 per week\n",
       "101              casual  3 per week\n",
       "153              casual  2 per week\n",
       "175              casual  2 per week"
      ]
     },
     "execution_count": 35,
     "metadata": {},
     "output_type": "execute_result"
    }
   ],
   "source": [
    "# Find the rows with 'per_week'\n",
    "per_week_conditions = clean_cat_df['alcohol_pd'].str.contains('per week', na=False)\n",
    "per_week_rows = clean_cat_df.loc[per_week_conditions, alcohol_columns]\n",
    "per_week_rows"
   ]
  },
  {
   "cell_type": "code",
   "execution_count": 36,
   "id": "6d9c20ac-f5bd-4189-b0dd-c1a9f6a049b1",
   "metadata": {},
   "outputs": [
    {
     "data": {
      "text/plain": [
       "alcohol_pd\n",
       "nan    99\n",
       "0      84\n",
       "1      10\n",
       "2       6\n",
       "0.3     3\n",
       "0.1     1\n",
       "0.4     1\n",
       "1.5     1\n",
       "0.1     1\n",
       "0.3     1\n",
       "0.5     1\n",
       "Name: count, dtype: int64"
      ]
     },
     "execution_count": 36,
     "metadata": {},
     "output_type": "execute_result"
    }
   ],
   "source": [
    "# Apply the convert_perday formula to the alcohol_pd column\n",
    "clean_cat_df['alcohol_pd'] = clean_cat_df['alcohol_pd'].apply(convert_perday)\n",
    "\n",
    "# Check the value counts\n",
    "clean_cat_df['alcohol_pd'].value_counts()"
   ]
  },
  {
   "cell_type": "code",
   "execution_count": 37,
   "id": "b5f1214f-0c2f-412e-aa68-1fb91b22ae8b",
   "metadata": {},
   "outputs": [
    {
     "data": {
      "text/plain": [
       "alcohol_consumption  alcohol_pd\n",
       "casual               nan           91\n",
       "habitual             nan            8\n",
       "Name: count, dtype: int64"
      ]
     },
     "execution_count": 37,
     "metadata": {},
     "output_type": "execute_result"
    }
   ],
   "source": [
    "# Check rows still with NaN\n",
    "clean_cat_df.loc[clean_cat_df['alcohol_pd'] == 'nan', alcohol_columns].value_counts()"
   ]
  },
  {
   "cell_type": "code",
   "execution_count": 38,
   "id": "60c35fed-3f2b-4ddf-adae-bbae907a7729",
   "metadata": {},
   "outputs": [
    {
     "name": "stdout",
     "output_type": "stream",
     "text": [
      "Skewness: 1.4669697571993356\n"
     ]
    },
    {
     "data": {
      "image/png": "[encoded data removed]",
      "text/plain": [
       "<Figure size 640x480 with 1 Axes>"
      ]
     },
     "metadata": {},
     "output_type": "display_data"
    }
   ],
   "source": [
    "# Set the row conditions for casual drinkers\n",
    "casual_notnull = (clean_cat_df['alcohol_consumption'] == 'casual') & (clean_cat_df['alcohol_pd'] != 'nan')\n",
    "\n",
    "# Create a copy of the series for plotting\n",
    "num_alcohol_df = clean_cat_df[casual_notnull]['alcohol_pd'].copy()\n",
    "\n",
    "# Convert values for plotting\n",
    "check_data = num_alcohol_df.fillna(0).astype(float)\n",
    "\n",
    "# Display a histogram of the cigarettes_pd column\n",
    "check_data.hist()\n",
    "\n",
    "# Check skewness\n",
    "print(f'Skewness: {skew(check_data)}')"
   ]
  },
  {
   "cell_type": "code",
   "execution_count": 39,
   "id": "29078d3f-c5c1-4b3a-8939-a83dc3e60d0d",
   "metadata": {},
   "outputs": [
    {
     "name": "stdout",
     "output_type": "stream",
     "text": [
      "Median alcoholic drinks per day for casuals: 0.35\n"
     ]
    }
   ],
   "source": [
    "# Calculate the median value (since skewed)\n",
    "alcohol_median = clean_cat_df.loc[casual_notnull, 'alcohol_pd'].astype(float).median()\n",
    "print(f'Median alcoholic drinks per day for casuals: {alcohol_median}')\n",
    "\n",
    "# Impute the missing values\n",
    "casual_null = (clean_cat_df['alcohol_consumption'] == 'casual') & (clean_cat_df['alcohol_pd'] == 'nan')\n",
    "clean_cat_df.loc[casual_null, 'alcohol_pd'] = alcohol_median"
   ]
  },
  {
   "cell_type": "code",
   "execution_count": 40,
   "id": "11beb6ae-3b85-41f7-9af2-8bfa44180093",
   "metadata": {},
   "outputs": [
    {
     "name": "stdout",
     "output_type": "stream",
     "text": [
      "Skewness: 0.11441374313197289\n"
     ]
    },
    {
     "data": {
      "image/png": "[encoded data removed]",
      "text/plain": [
       "<Figure size 640x480 with 1 Axes>"
      ]
     },
     "metadata": {},
     "output_type": "display_data"
    }
   ],
   "source": [
    "# Set the row conditions for habitual drinkers\n",
    "habitual_notnull = (clean_cat_df['alcohol_consumption'] == 'habitual') & (clean_cat_df['alcohol_pd'] != 'nan')\n",
    "\n",
    "# Create a copy of the series for plotting\n",
    "num_alcohol_df = clean_cat_df[habitual_notnull]['alcohol_pd'].copy()\n",
    "\n",
    "# Convert values for plotting\n",
    "check_data = num_alcohol_df.fillna(0).astype(float)\n",
    "\n",
    "# Display a histogram of the cigarettes_pd column\n",
    "check_data.hist()\n",
    "plt.title('Habitual Drinkers')\n",
    "\n",
    "# # Check skewness\n",
    "print(f'Skewness: {skew(check_data)}')"
   ]
  },
  {
   "cell_type": "code",
   "execution_count": 41,
   "id": "42090f07-67a9-4f17-928f-254c34268333",
   "metadata": {},
   "outputs": [
    {
     "name": "stdout",
     "output_type": "stream",
     "text": [
      "Mean alcoholic drinks per day for habitual: 1.32\n"
     ]
    }
   ],
   "source": [
    "# Calculate the mean value (since not skewed)\n",
    "alcohol_mean = clean_cat_df.loc[habitual_notnull, 'alcohol_pd'].astype(float).mean()\n",
    "print(f'Mean alcoholic drinks per day for habitual: {alcohol_mean}')\n",
    "\n",
    "# Impute the missing values\n",
    "habitual_null = (clean_cat_df['alcohol_consumption'] == 'habitual') & (clean_cat_df['alcohol_pd'] == 'nan')\n",
    "clean_cat_df.loc[habitual_null, 'alcohol_pd'] = alcohol_mean"
   ]
  },
  {
   "cell_type": "code",
   "execution_count": 42,
   "id": "a757d27f-464d-4043-8f67-d3b6a72c5c33",
   "metadata": {},
   "outputs": [
    {
     "data": {
      "text/plain": [
       "alcohol_pd\n",
       "0.35    91\n",
       "0       84\n",
       "1       10\n",
       "1.32     8\n",
       "2        6\n",
       "0.3      3\n",
       "0.1      1\n",
       "0.4      1\n",
       "1.5      1\n",
       "0.1      1\n",
       "0.3      1\n",
       "0.5      1\n",
       "Name: count, dtype: int64"
      ]
     },
     "execution_count": 42,
     "metadata": {},
     "output_type": "execute_result"
    }
   ],
   "source": [
    "# Confirm the distribution of alcohol_pd\n",
    "clean_cat_df['alcohol_pd'].value_counts()"
   ]
  },
  {
   "cell_type": "code",
   "execution_count": 43,
   "id": "dd39a10d-ec7f-4892-9935-42f23775a828",
   "metadata": {},
   "outputs": [
    {
     "name": "stdout",
     "output_type": "stream",
     "text": [
      "<class 'pandas.core.frame.DataFrame'>\n",
      "RangeIndex: 208 entries, 0 to 207\n",
      "Data columns (total 23 columns):\n",
      " #   Column                Non-Null Count  Dtype  \n",
      "---  ------                --------------  -----  \n",
      " 0   id                    208 non-null    object \n",
      " 1   age                   208 non-null    int64  \n",
      " 2   gender                208 non-null    object \n",
      " 3   diagnosis             208 non-null    object \n",
      " 4   occupation_status     167 non-null    object \n",
      " 5   vhi_score             208 non-null    int64  \n",
      " 6   rsi_score             208 non-null    int64  \n",
      " 7   smoker                208 non-null    object \n",
      " 8   cigarettes_pd         208 non-null    int64  \n",
      " 9   alcohol_consumption   208 non-null    object \n",
      " 10  alcohol_pd            208 non-null    float64\n",
      " 11  water_litres_pd       208 non-null    object \n",
      " 12  carbonated_beverages  208 non-null    object \n",
      " 13  carbonated_pd         21 non-null     object \n",
      " 14  tomatoes              208 non-null    object \n",
      " 15  coffee                208 non-null    object \n",
      " 16  coffee_pd             170 non-null    object \n",
      " 17  chocolate             208 non-null    object \n",
      " 18  chocolate_grams_pd    36 non-null     object \n",
      " 19  soft_cheese           208 non-null    object \n",
      " 20  soft_cheese_pd        33 non-null     object \n",
      " 21  citrus_fruits         208 non-null    object \n",
      " 22  citrus_fruits_pd      49 non-null     object \n",
      "dtypes: float64(1), int64(4), object(18)\n",
      "memory usage: 37.5+ KB\n"
     ]
    }
   ],
   "source": [
    "# Convert the column to a float with 2 decimal points\n",
    "clean_cat_df['alcohol_pd'] = clean_cat_df['alcohol_pd'].astype(float).round(2)\n",
    "\n",
    "# Confirm changes\n",
    "clean_cat_df.info()"
   ]
  },
  {
   "cell_type": "markdown",
   "id": "e3b71ab6-996b-4ba7-8895-fd36a9022fe5",
   "metadata": {
    "jp-MarkdownHeadingCollapsed": true,
    "tags": []
   },
   "source": [
    "#### Clean the `water_litres_pd` column"
   ]
  },
  {
   "cell_type": "code",
   "execution_count": 44,
   "id": "65aeed89-4535-427b-ac5c-a21f78005620",
   "metadata": {},
   "outputs": [
    {
     "data": {
      "text/plain": [
       "water_litres_pd\n",
       "1       78\n",
       "2       59\n",
       "1,5     58\n",
       "0,5      6\n",
       "2,5      4\n",
       "0,75     2\n",
       "0,25     1\n",
       "Name: count, dtype: int64"
      ]
     },
     "execution_count": 44,
     "metadata": {},
     "output_type": "execute_result"
    }
   ],
   "source": [
    "# Check the water_litres_pd column\n",
    "clean_cat_df['water_litres_pd'].value_counts()"
   ]
  },
  {
   "cell_type": "code",
   "execution_count": 45,
   "id": "b4764360-d0cf-457c-ae0d-5f8ea66846b6",
   "metadata": {},
   "outputs": [
    {
     "data": {
      "text/plain": [
       "water_litres_pd\n",
       "1       78\n",
       "2       59\n",
       "1.5     58\n",
       "0.5      6\n",
       "2.5      4\n",
       "0.75     2\n",
       "0.25     1\n",
       "Name: count, dtype: int64"
      ]
     },
     "execution_count": 45,
     "metadata": {},
     "output_type": "execute_result"
    }
   ],
   "source": [
    "# Apply the convert_perday formula to the clean the comma\n",
    "clean_cat_df['water_litres_pd'] = clean_cat_df['water_litres_pd'].apply(convert_perday)\n",
    "clean_cat_df['water_litres_pd'].value_counts()"
   ]
  },
  {
   "cell_type": "code",
   "execution_count": 46,
   "id": "218b753f-8c00-48cd-bb24-22d34aa10190",
   "metadata": {},
   "outputs": [
    {
     "name": "stdout",
     "output_type": "stream",
     "text": [
      "<class 'pandas.core.frame.DataFrame'>\n",
      "RangeIndex: 208 entries, 0 to 207\n",
      "Data columns (total 23 columns):\n",
      " #   Column                Non-Null Count  Dtype  \n",
      "---  ------                --------------  -----  \n",
      " 0   id                    208 non-null    object \n",
      " 1   age                   208 non-null    int64  \n",
      " 2   gender                208 non-null    object \n",
      " 3   diagnosis             208 non-null    object \n",
      " 4   occupation_status     167 non-null    object \n",
      " 5   vhi_score             208 non-null    int64  \n",
      " 6   rsi_score             208 non-null    int64  \n",
      " 7   smoker                208 non-null    object \n",
      " 8   cigarettes_pd         208 non-null    int64  \n",
      " 9   alcohol_consumption   208 non-null    object \n",
      " 10  alcohol_pd            208 non-null    float64\n",
      " 11  water_litres_pd       208 non-null    float64\n",
      " 12  carbonated_beverages  208 non-null    object \n",
      " 13  carbonated_pd         21 non-null     object \n",
      " 14  tomatoes              208 non-null    object \n",
      " 15  coffee                208 non-null    object \n",
      " 16  coffee_pd             170 non-null    object \n",
      " 17  chocolate             208 non-null    object \n",
      " 18  chocolate_grams_pd    36 non-null     object \n",
      " 19  soft_cheese           208 non-null    object \n",
      " 20  soft_cheese_pd        33 non-null     object \n",
      " 21  citrus_fruits         208 non-null    object \n",
      " 22  citrus_fruits_pd      49 non-null     object \n",
      "dtypes: float64(2), int64(4), object(17)\n",
      "memory usage: 37.5+ KB\n"
     ]
    }
   ],
   "source": [
    "# Convert the column to a float with 2 decimal points\n",
    "clean_cat_df['water_litres_pd'] = clean_cat_df['water_litres_pd'].astype(float).round(2)\n",
    "\n",
    "# Confirm changes\n",
    "clean_cat_df.info()"
   ]
  },
  {
   "cell_type": "markdown",
   "id": "94e6e5cb-64a3-42d1-af69-7bfaf488a361",
   "metadata": {},
   "source": [
    "#### Clean the `carbonated_pd` column"
   ]
  },
  {
   "cell_type": "code",
   "execution_count": 47,
   "id": "3ddb5eaa-1ce5-49cf-ac81-dc2c91bfa58e",
   "metadata": {},
   "outputs": [
    {
     "data": {
      "text/plain": [
       "carbonated_pd\n",
       "1                 8\n",
       "3                 2\n",
       "1 for week        2\n",
       "2 for week        2\n",
       "0.1               2\n",
       "2-3 for mounth    1\n",
       "0.5               1\n",
       "2 for mounth      1\n",
       "4                 1\n",
       "0,5               1\n",
       "Name: count, dtype: int64"
      ]
     },
     "execution_count": 47,
     "metadata": {},
     "output_type": "execute_result"
    }
   ],
   "source": [
    "# Check the carbonated_pd column\n",
    "clean_cat_df['carbonated_pd'].value_counts()"
   ]
  },
  {
   "cell_type": "code",
   "execution_count": 48,
   "id": "8d134dc3-96bb-4a24-af3c-0464b9092ade",
   "metadata": {},
   "outputs": [
    {
     "data": {
      "text/plain": [
       "carbonated_pd\n",
       "nan    187\n",
       "1        8\n",
       "3        2\n",
       "0.1      2\n",
       "0.5      2\n",
       "0.3      2\n",
       "0.1      2\n",
       "2.5      1\n",
       "2        1\n",
       "4        1\n",
       "Name: count, dtype: int64"
      ]
     },
     "execution_count": 48,
     "metadata": {},
     "output_type": "execute_result"
    }
   ],
   "source": [
    "# Apply the convert_perday formula\n",
    "clean_cat_df['carbonated_pd'] = clean_cat_df['carbonated_pd'].apply(convert_perday)\n",
    "clean_cat_df['carbonated_pd'].value_counts()"
   ]
  },
  {
   "cell_type": "code",
   "execution_count": 49,
   "id": "877f3046-985f-405e-ba7d-a100ab007287",
   "metadata": {},
   "outputs": [
    {
     "data": {
      "text/plain": [
       "carbonated_beverages  carbonated_pd\n",
       "almost never          nan              71\n",
       "sometimes             nan              56\n",
       "never                 nan              46\n",
       "almost always         nan              10\n",
       "always                nan               4\n",
       "Name: count, dtype: int64"
      ]
     },
     "execution_count": 49,
     "metadata": {},
     "output_type": "execute_result"
    }
   ],
   "source": [
    "# Check the NaN values\n",
    "carbonated_columns = ['carbonated_beverages', 'carbonated_pd']\n",
    "clean_cat_df.loc[clean_cat_df['carbonated_pd'] == 'nan', carbonated_columns].value_counts()"
   ]
  },
  {
   "cell_type": "code",
   "execution_count": 50,
   "id": "a7e4ff95-3dc1-477e-bbe6-d46d6a33f6e5",
   "metadata": {},
   "outputs": [],
   "source": [
    "def imputation_check(df, cat_col, num_col):\n",
    "    \"\"\"\n",
    "    The purpose of this function is to check whether the missing\n",
    "    data should be imputed with a mean or median.\n",
    "    \n",
    "    If the absolute skew score > 0.5 use: MEDIAN\n",
    "    Else, not skewed, use: MEAN\n",
    "    \n",
    "    Input:\n",
    "        df = dataframe\n",
    "        cat_col = categorical column\n",
    "        num_col = numerical column\n",
    "        \n",
    "    Output:\n",
    "        histogram\n",
    "        skewness score\n",
    "    \"\"\"\n",
    "    # Get the unique values from the categorical column\n",
    "    unique_values = df[cat_col].unique()\n",
    "    \n",
    "    # Loop through each unique value\n",
    "    for unique in unique_values:\n",
    "        \n",
    "        # Get the non-null values per unique\n",
    "        check_condition = (df[cat_col] == unique) & (df[num_col] != 'nan')\n",
    "        check_data = df.loc[check_condition, num_col]\n",
    "        \n",
    "        # Skip if the array is empty\n",
    "        if len(check_data) == 0:\n",
    "            continue\n",
    "        \n",
    "        else:\n",
    "            # Convert values for plotting\n",
    "            check_data = check_data.astype(float)\n",
    "\n",
    "            # Histogram\n",
    "            check_data.hist()\n",
    "            \n",
    "            # Clean title\n",
    "            title = cat_col.replace(\"_\", \" \").title()\n",
    "            plt.title(f'{title} ({unique})')\n",
    "            plt.xlabel(f'{title} per Day')\n",
    "            plt.ylabel('Frequency')\n",
    "            \n",
    "            # Calculate the skewness\n",
    "            skew_score = skew(check_data)\n",
    "            \n",
    "            # Display the results\n",
    "            plt.show()\n",
    "            print(f'Skewness: {skew_score}')\n",
    "            \n",
    "            # Check the skew score\n",
    "            if abs(skew_score) > 0.5: # skewed = use median\n",
    "                chosen_value = df.loc[check_condition, num_col].astype(float).median()\n",
    "                print(f'Median value for \"{unique}\": {chosen_value}')\n",
    "            \n",
    "            else:\n",
    "                chosen_value = df.loc[check_condition, num_col].astype(float).mean()\n",
    "                print(f'Mean value for \"{unique}\": {chosen_value}')\n",
    "            \n",
    "            # Round the chosen value\n",
    "            rounded_value = round(chosen_value, 2)\n",
    "            \n",
    "            # Impute the missing values\n",
    "            null_condition = (df[cat_col] == unique) & (df[num_col] == 'nan')\n",
    "            df.loc[null_condition, num_col] = rounded_value\n",
    "            \n",
    "            # If the value is 'never', set the value to `0`\n",
    "            df.loc[df[cat_col] == 'never', num_col] = 0"
   ]
  },
  {
   "cell_type": "code",
   "execution_count": 51,
   "id": "56231a4e-dbda-473f-840c-2a268bca8e59",
   "metadata": {},
   "outputs": [
    {
     "data": {
      "image/png": "[encoded data removed]",
      "text/plain": [
       "<Figure size 640x480 with 1 Axes>"
      ]
     },
     "metadata": {},
     "output_type": "display_data"
    },
    {
     "name": "stdout",
     "output_type": "stream",
     "text": [
      "Skewness: -0.6520236646847545\n",
      "Median value for \"almost always\": 3.0\n"
     ]
    },
    {
     "data": {
      "image/png": "[encoded data removed]",
      "text/plain": [
       "<Figure size 640x480 with 1 Axes>"
      ]
     },
     "metadata": {},
     "output_type": "display_data"
    },
    {
     "name": "stdout",
     "output_type": "stream",
     "text": [
      "Skewness: nan\n",
      "Mean value for \"never\": 0.0\n"
     ]
    },
    {
     "data": {
      "image/png": "[encoded data removed]",
      "text/plain": [
       "<Figure size 640x480 with 1 Axes>"
      ]
     },
     "metadata": {},
     "output_type": "display_data"
    },
    {
     "name": "stdout",
     "output_type": "stream",
     "text": [
      "Skewness: -0.1244617646097695\n",
      "Mean value for \"sometimes\": 0.6076923076923076\n"
     ]
    },
    {
     "data": {
      "image/png": "[encoded data removed]",
      "text/plain": [
       "<Figure size 640x480 with 1 Axes>"
      ]
     },
     "metadata": {},
     "output_type": "display_data"
    },
    {
     "name": "stdout",
     "output_type": "stream",
     "text": [
      "Skewness: -0.2257818609890141\n",
      "Mean value for \"almost never\": 1.4\n"
     ]
    }
   ],
   "source": [
    "imputation_check(\n",
    "    clean_cat_df,\n",
    "    'carbonated_beverages',\n",
    "    'carbonated_pd'\n",
    ")"
   ]
  },
  {
   "cell_type": "code",
   "execution_count": 52,
   "id": "59ffb7c6-fb0a-4902-a97a-6535d60fe747",
   "metadata": {},
   "outputs": [
    {
     "data": {
      "text/plain": [
       "carbonated_pd\n",
       "1.4     71\n",
       "0.61    56\n",
       "0       46\n",
       "3.0     10\n",
       "1        8\n",
       "nan      4\n",
       "3        2\n",
       "0.1      2\n",
       "0.5      2\n",
       "0.3      2\n",
       "0.1      2\n",
       "2.5      1\n",
       "2        1\n",
       "4        1\n",
       "Name: count, dtype: int64"
      ]
     },
     "execution_count": 52,
     "metadata": {},
     "output_type": "execute_result"
    }
   ],
   "source": [
    "clean_cat_df['carbonated_pd'].value_counts()"
   ]
  },
  {
   "cell_type": "code",
   "execution_count": 53,
   "id": "685a6718-9b3a-44cc-825c-1d7d6440882f",
   "metadata": {},
   "outputs": [
    {
     "data": {
      "text/plain": [
       "carbonated_beverages\n",
       "always    4\n",
       "Name: count, dtype: int64"
      ]
     },
     "execution_count": 53,
     "metadata": {},
     "output_type": "execute_result"
    }
   ],
   "source": [
    "# Check the remaining 'nan' values\n",
    "clean_cat_df.loc[clean_cat_df['carbonated_pd'] == 'nan', 'carbonated_beverages'].value_counts()"
   ]
  },
  {
   "cell_type": "code",
   "execution_count": 56,
   "id": "7c466243-864c-4acf-9227-d3f97f8a17a2",
   "metadata": {},
   "outputs": [
    {
     "data": {
      "text/html": [
       "<div>\n",
       "<style scoped>\n",
       "    .dataframe tbody tr th:only-of-type {\n",
       "        vertical-align: middle;\n",
       "    }\n",
       "\n",
       "    .dataframe tbody tr th {\n",
       "        vertical-align: top;\n",
       "    }\n",
       "\n",
       "    .dataframe thead th {\n",
       "        text-align: right;\n",
       "    }\n",
       "</style>\n",
       "<table border=\"1\" class=\"dataframe\">\n",
       "  <thead>\n",
       "    <tr style=\"text-align: right;\">\n",
       "      <th></th>\n",
       "      <th>carbonated_beverages</th>\n",
       "      <th>carbonated_pd</th>\n",
       "    </tr>\n",
       "  </thead>\n",
       "  <tbody>\n",
       "    <tr>\n",
       "      <th>106</th>\n",
       "      <td>always</td>\n",
       "      <td>nan</td>\n",
       "    </tr>\n",
       "    <tr>\n",
       "      <th>138</th>\n",
       "      <td>always</td>\n",
       "      <td>nan</td>\n",
       "    </tr>\n",
       "    <tr>\n",
       "      <th>139</th>\n",
       "      <td>always</td>\n",
       "      <td>nan</td>\n",
       "    </tr>\n",
       "    <tr>\n",
       "      <th>185</th>\n",
       "      <td>always</td>\n",
       "      <td>nan</td>\n",
       "    </tr>\n",
       "  </tbody>\n",
       "</table>\n",
       "</div>"
      ],
      "text/plain": [
       "    carbonated_beverages carbonated_pd\n",
       "106               always           nan\n",
       "138               always           nan\n",
       "139               always           nan\n",
       "185               always           nan"
      ]
     },
     "execution_count": 56,
     "metadata": {},
     "output_type": "execute_result"
    }
   ],
   "source": [
    "# Check whether there are valid values in the column\n",
    "clean_cat_df.loc[clean_cat_df['carbonated_beverages'] == 'always', carbonated_columns]"
   ]
  },
  {
   "cell_type": "code",
   "execution_count": 94,
   "id": "8cf125d2-dd9e-4e19-adc4-18ee571bc4b9",
   "metadata": {},
   "outputs": [
    {
     "name": "stdout",
     "output_type": "stream",
     "text": [
      "Means: carbonated_beverages\n",
      "almost always    2.928571\n",
      "almost never     1.400000\n",
      "always                NaN\n",
      "never            0.000000\n",
      "sometimes        0.609565\n",
      "Name: carbonated_pd, dtype: float64\n",
      "\n",
      "Medians: carbonated_beverages\n",
      "almost always    3.00\n",
      "almost never     1.40\n",
      "always            NaN\n",
      "never            0.00\n",
      "sometimes        0.61\n",
      "Name: carbonated_pd, dtype: float64\n"
     ]
    }
   ],
   "source": [
    "# Check the distribution of per day values per unique value\n",
    "carbonated_df = clean_cat_df[['carbonated_beverages', 'carbonated_pd']].copy()\n",
    "\n",
    "# Return non-null rows only and convert to floats\n",
    "return_condition = carbonated_df['carbonated_pd'] != 'nan', 'carbonated_pd'\n",
    "carbonated_df['carbonated_pd'] = carbonated_df.loc[return_condition].astype(float)\n",
    "\n",
    "# Group by the carbonated_beverages\n",
    "grouped = carbonated_df.groupby('carbonated_beverages')['carbonated_pd']\n",
    "\n",
    "# Check mean and median\n",
    "print(f'Means: {grouped.mean()}\\n')\n",
    "print(f'Medians: {grouped.median()}')"
   ]
  },
  {
   "cell_type": "code",
   "execution_count": 123,
   "id": "45b9b94f-018f-4e70-9799-6f941cf0ca17",
   "metadata": {},
   "outputs": [
    {
     "name": "stdout",
     "output_type": "stream",
     "text": [
      "       carbonated_pd\n",
      "count      14.000000\n",
      "mean        2.928571\n",
      "std         0.615728\n",
      "min         1.000000\n",
      "25%         3.000000\n",
      "50%         3.000000\n",
      "75%         3.000000\n",
      "max         4.000000\n"
     ]
    },
    {
     "data": {
      "text/plain": [
       "4.0"
      ]
     },
     "execution_count": 123,
     "metadata": {},
     "output_type": "execute_result"
    }
   ],
   "source": [
    "# Calculate the summary statistics for 'almost always'\n",
    "almost_always = carbonated_df.loc[carbonated_df['carbonated_beverages'] == 'almost always']\n",
    "summary_stats = almost_always.describe()\n",
    "print(summary_stats)\n",
    "\n",
    "max_value = almost_always['carbonated_pd'].max()\n",
    "max_value"
   ]
  },
  {
   "cell_type": "code",
   "execution_count": 124,
   "id": "0b831b2d-1828-459a-9345-14aca189d3fd",
   "metadata": {},
   "outputs": [
    {
     "data": {
      "text/plain": [
       "carbonated_pd\n",
       "1.4     71\n",
       "0.61    56\n",
       "0       46\n",
       "3.0     10\n",
       "1        8\n",
       "4.0      4\n",
       "3        2\n",
       "0.1      2\n",
       "0.5      2\n",
       "0.3      2\n",
       "0.1      2\n",
       "2.5      1\n",
       "2        1\n",
       "4        1\n",
       "Name: count, dtype: int64"
      ]
     },
     "execution_count": 124,
     "metadata": {},
     "output_type": "execute_result"
    }
   ],
   "source": [
    "# Use the max value from 'almost always' as 'always' value\n",
    "clean_cat_df.loc[clean_cat_df['carbonated_beverages'] == 'always', 'carbonated_pd'] = max_value\n",
    "\n",
    "# Confirm changes\n",
    "clean_cat_df['carbonated_pd'].value_counts()"
   ]
  },
  {
   "cell_type": "code",
   "execution_count": 126,
   "id": "fea79da7-3e34-4b35-8971-8f25173cf143",
   "metadata": {},
   "outputs": [
    {
     "name": "stdout",
     "output_type": "stream",
     "text": [
      "<class 'pandas.core.frame.DataFrame'>\n",
      "RangeIndex: 208 entries, 0 to 207\n",
      "Data columns (total 23 columns):\n",
      " #   Column                Non-Null Count  Dtype  \n",
      "---  ------                --------------  -----  \n",
      " 0   id                    208 non-null    object \n",
      " 1   age                   208 non-null    int64  \n",
      " 2   gender                208 non-null    object \n",
      " 3   diagnosis             208 non-null    object \n",
      " 4   occupation_status     167 non-null    object \n",
      " 5   vhi_score             208 non-null    int64  \n",
      " 6   rsi_score             208 non-null    int64  \n",
      " 7   smoker                208 non-null    object \n",
      " 8   cigarettes_pd         208 non-null    int64  \n",
      " 9   alcohol_consumption   208 non-null    object \n",
      " 10  alcohol_pd            208 non-null    float64\n",
      " 11  water_litres_pd       208 non-null    float64\n",
      " 12  carbonated_beverages  208 non-null    object \n",
      " 13  carbonated_pd         208 non-null    float64\n",
      " 14  tomatoes              208 non-null    object \n",
      " 15  coffee                208 non-null    object \n",
      " 16  coffee_pd             170 non-null    object \n",
      " 17  chocolate             208 non-null    object \n",
      " 18  chocolate_grams_pd    36 non-null     object \n",
      " 19  soft_cheese           208 non-null    object \n",
      " 20  soft_cheese_pd        33 non-null     object \n",
      " 21  citrus_fruits         208 non-null    object \n",
      " 22  citrus_fruits_pd      49 non-null     object \n",
      "dtypes: float64(3), int64(4), object(16)\n",
      "memory usage: 37.5+ KB\n"
     ]
    }
   ],
   "source": [
    "# Convert the column to a float with 2 decimal points\n",
    "clean_cat_df['carbonated_pd'] = clean_cat_df['carbonated_pd'].astype(float).round(2)\n",
    "\n",
    "# Confirm changes\n",
    "clean_cat_df.info()"
   ]
  },
  {
   "cell_type": "code",
   "execution_count": null,
   "id": "d2a4a9c9-5a0b-4fe3-840e-a1eccfdb7963",
   "metadata": {},
   "outputs": [],
   "source": []
  }
 ],
 "metadata": {
  "kernelspec": {
   "display_name": "dev",
   "language": "python",
   "name": "dev"
  },
  "language_info": {
   "codemirror_mode": {
    "name": "ipython",
    "version": 3
   },
   "file_extension": ".py",
   "mimetype": "text/x-python",
   "name": "python",
   "nbconvert_exporter": "python",
   "pygments_lexer": "ipython3",
   "version": "3.10.13"
  }
 },
 "nbformat": 4,
 "nbformat_minor": 5
}

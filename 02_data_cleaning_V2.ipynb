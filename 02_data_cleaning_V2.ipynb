{
 "cells": [
  {
   "cell_type": "markdown",
   "id": "21c6d80e-cc48-4e8b-a32b-17bee52e24fb",
   "metadata": {},
   "source": [
    "# Data Cleaning"
   ]
  },
  {
   "cell_type": "code",
   "execution_count": 1,
   "id": "fdaa6925-c5cd-49cb-b245-b894f0b86a44",
   "metadata": {},
   "outputs": [],
   "source": [
    "# Import dependencies\n",
    "import os\n",
    "import pandas as pd\n",
    "import numpy as np\n",
    "from scipy.stats import skew\n",
    "from statistics import mean\n",
    "import matplotlib.pyplot as plt\n",
    "\n",
    "%run functions1.ipynb"
   ]
  },
  {
   "cell_type": "markdown",
   "id": "70aea5d2-1f82-45df-8a6a-61fa0e524ce1",
   "metadata": {},
   "source": [
    "## Read in Files"
   ]
  },
  {
   "cell_type": "code",
   "execution_count": 2,
   "id": "542d7022-a4ae-41f9-9399-8abef79ae14c",
   "metadata": {},
   "outputs": [],
   "source": [
    "# Raw dataset file path\n",
    "rawdata_path = \"resources/voiced_dataset/\"\n",
    "\n",
    "# Get all the files in the directory\n",
    "files = os.listdir(rawdata_path)"
   ]
  },
  {
   "cell_type": "code",
   "execution_count": 3,
   "id": "b130c6ec-f990-4c5c-86bf-d58facfced49",
   "metadata": {},
   "outputs": [
    {
     "data": {
      "text/html": [
       "<div>\n",
       "<style scoped>\n",
       "    .dataframe tbody tr th:only-of-type {\n",
       "        vertical-align: middle;\n",
       "    }\n",
       "\n",
       "    .dataframe tbody tr th {\n",
       "        vertical-align: top;\n",
       "    }\n",
       "\n",
       "    .dataframe thead th {\n",
       "        text-align: right;\n",
       "    }\n",
       "</style>\n",
       "<table border=\"1\" class=\"dataframe\">\n",
       "  <thead>\n",
       "    <tr style=\"text-align: right;\">\n",
       "      <th></th>\n",
       "      <th>ID</th>\n",
       "      <th>Age</th>\n",
       "      <th>Gender</th>\n",
       "      <th>Diagnosis</th>\n",
       "      <th>Occupation status</th>\n",
       "      <th>Voice Handicap Index (VHI) Score</th>\n",
       "      <th>Reflux Symptom Index (RSI) Score</th>\n",
       "      <th>Smoker</th>\n",
       "      <th>Number of cigarettes smoked per day</th>\n",
       "      <th>Alcohol consumption</th>\n",
       "      <th>...</th>\n",
       "      <th>Amount of glasses drinked in a day</th>\n",
       "      <th>Tomatoes</th>\n",
       "      <th>Coffee</th>\n",
       "      <th>Number of cups of coffee drinked in a day</th>\n",
       "      <th>Chocolate</th>\n",
       "      <th>Gramme of chocolate eaten in  a day</th>\n",
       "      <th>Soft cheese</th>\n",
       "      <th>Gramme of soft cheese eaten in a day</th>\n",
       "      <th>Citrus fruits</th>\n",
       "      <th>Number of citrus fruits eaten in a day</th>\n",
       "    </tr>\n",
       "  </thead>\n",
       "  <tbody>\n",
       "    <tr>\n",
       "      <th>0</th>\n",
       "      <td>voice100</td>\n",
       "      <td>24</td>\n",
       "      <td>m</td>\n",
       "      <td>healthy</td>\n",
       "      <td>NU</td>\n",
       "      <td>0</td>\n",
       "      <td>5</td>\n",
       "      <td>no</td>\n",
       "      <td>NU</td>\n",
       "      <td>casual drinker</td>\n",
       "      <td>...</td>\n",
       "      <td>NU</td>\n",
       "      <td>never</td>\n",
       "      <td>always</td>\n",
       "      <td>3</td>\n",
       "      <td>sometimes</td>\n",
       "      <td>NU</td>\n",
       "      <td>almost always</td>\n",
       "      <td>NU</td>\n",
       "      <td>never</td>\n",
       "      <td>NU</td>\n",
       "    </tr>\n",
       "    <tr>\n",
       "      <th>1</th>\n",
       "      <td>voice101</td>\n",
       "      <td>60</td>\n",
       "      <td>m</td>\n",
       "      <td>healthy</td>\n",
       "      <td>NU</td>\n",
       "      <td>80</td>\n",
       "      <td>10</td>\n",
       "      <td>no</td>\n",
       "      <td>NU</td>\n",
       "      <td>nondrinker</td>\n",
       "      <td>...</td>\n",
       "      <td>NU</td>\n",
       "      <td>sometimes</td>\n",
       "      <td>always</td>\n",
       "      <td>4</td>\n",
       "      <td>sometimes</td>\n",
       "      <td>NU</td>\n",
       "      <td>sometimes</td>\n",
       "      <td>NU</td>\n",
       "      <td>never</td>\n",
       "      <td>NU</td>\n",
       "    </tr>\n",
       "    <tr>\n",
       "      <th>2</th>\n",
       "      <td>voice192</td>\n",
       "      <td>22</td>\n",
       "      <td>m</td>\n",
       "      <td>hyperkinetic dysphonia</td>\n",
       "      <td>Cook</td>\n",
       "      <td>0</td>\n",
       "      <td>10</td>\n",
       "      <td>no</td>\n",
       "      <td>NU</td>\n",
       "      <td>nondrinker</td>\n",
       "      <td>...</td>\n",
       "      <td>NU</td>\n",
       "      <td>sometimes</td>\n",
       "      <td>always</td>\n",
       "      <td>NU</td>\n",
       "      <td>always</td>\n",
       "      <td>NU</td>\n",
       "      <td>sometimes</td>\n",
       "      <td>NU</td>\n",
       "      <td>almost always</td>\n",
       "      <td>NU</td>\n",
       "    </tr>\n",
       "    <tr>\n",
       "      <th>3</th>\n",
       "      <td>voice193</td>\n",
       "      <td>46</td>\n",
       "      <td>f</td>\n",
       "      <td>hyperkinetic dysphonia</td>\n",
       "      <td>Housewife</td>\n",
       "      <td>0</td>\n",
       "      <td>36</td>\n",
       "      <td>yes</td>\n",
       "      <td>15</td>\n",
       "      <td>casual drinker</td>\n",
       "      <td>...</td>\n",
       "      <td>NU</td>\n",
       "      <td>sometimes</td>\n",
       "      <td>always</td>\n",
       "      <td>2</td>\n",
       "      <td>sometimes</td>\n",
       "      <td>NU</td>\n",
       "      <td>sometimes</td>\n",
       "      <td>NU</td>\n",
       "      <td>sometimes</td>\n",
       "      <td>NU</td>\n",
       "    </tr>\n",
       "    <tr>\n",
       "      <th>4</th>\n",
       "      <td>voice008</td>\n",
       "      <td>51</td>\n",
       "      <td>f</td>\n",
       "      <td>reflux laryngitis</td>\n",
       "      <td>Researcher</td>\n",
       "      <td>19</td>\n",
       "      <td>15</td>\n",
       "      <td>no</td>\n",
       "      <td>NU</td>\n",
       "      <td>casual drinker</td>\n",
       "      <td>...</td>\n",
       "      <td>NU</td>\n",
       "      <td>almost always</td>\n",
       "      <td>always</td>\n",
       "      <td>2</td>\n",
       "      <td>almost always</td>\n",
       "      <td>20g</td>\n",
       "      <td>sometimes</td>\n",
       "      <td>100 gr</td>\n",
       "      <td>almost always</td>\n",
       "      <td>1</td>\n",
       "    </tr>\n",
       "  </tbody>\n",
       "</table>\n",
       "<p>5 rows × 24 columns</p>\n",
       "</div>"
      ],
      "text/plain": [
       "         ID Age Gender               Diagnosis Occupation status  \\\n",
       "0  voice100  24      m                 healthy                NU   \n",
       "1  voice101  60      m                 healthy                NU   \n",
       "2  voice192  22      m  hyperkinetic dysphonia              Cook   \n",
       "3  voice193  46      f  hyperkinetic dysphonia         Housewife   \n",
       "4  voice008  51      f       reflux laryngitis        Researcher   \n",
       "\n",
       "  Voice Handicap Index (VHI) Score Reflux Symptom Index (RSI) Score Smoker  \\\n",
       "0                                0                                5     no   \n",
       "1                               80                               10     no   \n",
       "2                                0                               10     no   \n",
       "3                                0                               36    yes   \n",
       "4                               19                               15     no   \n",
       "\n",
       "  Number of cigarettes smoked per day Alcohol consumption  ...  \\\n",
       "0                                  NU      casual drinker  ...   \n",
       "1                                  NU          nondrinker  ...   \n",
       "2                                  NU          nondrinker  ...   \n",
       "3                                  15      casual drinker  ...   \n",
       "4                                  NU      casual drinker  ...   \n",
       "\n",
       "  Amount of glasses drinked in a day       Tomatoes  Coffee  \\\n",
       "0                                 NU          never  always   \n",
       "1                                 NU      sometimes  always   \n",
       "2                                 NU      sometimes  always   \n",
       "3                                 NU      sometimes  always   \n",
       "4                                 NU  almost always  always   \n",
       "\n",
       "  Number of cups of coffee drinked in a day      Chocolate  \\\n",
       "0                                         3      sometimes   \n",
       "1                                         4      sometimes   \n",
       "2                                        NU         always   \n",
       "3                                         2      sometimes   \n",
       "4                                         2  almost always   \n",
       "\n",
       "  Gramme of chocolate eaten in  a day    Soft cheese  \\\n",
       "0                                  NU  almost always   \n",
       "1                                  NU      sometimes   \n",
       "2                                  NU      sometimes   \n",
       "3                                  NU      sometimes   \n",
       "4                                 20g      sometimes   \n",
       "\n",
       "  Gramme of soft cheese eaten in a day  Citrus fruits  \\\n",
       "0                                   NU          never   \n",
       "1                                   NU          never   \n",
       "2                                   NU  almost always   \n",
       "3                                   NU      sometimes   \n",
       "4                               100 gr  almost always   \n",
       "\n",
       "  Number of citrus fruits eaten in a day  \n",
       "0                                     NU  \n",
       "1                                     NU  \n",
       "2                                     NU  \n",
       "3                                     NU  \n",
       "4                                      1  \n",
       "\n",
       "[5 rows x 24 columns]"
      ]
     },
     "execution_count": 3,
     "metadata": {},
     "output_type": "execute_result"
    }
   ],
   "source": [
    "# Initialise the list to hold dictionaries\n",
    "metadata_list = []\n",
    "\n",
    "# Parse the data in the info files\n",
    "for file in files:\n",
    "    \n",
    "    # Initialise the dictionary to store the info\n",
    "    metadata_dict = dict()\n",
    "    \n",
    "    # Look through info files only\n",
    "    if file.startswith(\"voice\") and file.endswith(\"-info.txt\"):\n",
    "        \n",
    "        # Read the text file\n",
    "        with open(rawdata_path + file, 'r') as file:\n",
    "            for line in file:\n",
    "                \n",
    "                # Split each line into a key-value pair using delimiter\n",
    "                key, value = map(str.strip, line.split(\"\\t\"))\n",
    "                \n",
    "                # Ignore the empty lines by checking whitespaces\n",
    "                if not line.strip():\n",
    "                    continue\n",
    "                else:\n",
    "                    # Remove the colon\n",
    "                    key = key.replace(\":\", \"\")\n",
    "                    \n",
    "                    # Load the data to a dictionary\n",
    "                    metadata_dict[key] = value\n",
    "                    \n",
    "            # Append the dictionary to the list\n",
    "            metadata_list.append(metadata_dict)\n",
    "\n",
    "# Convert the list to a DataFrame\n",
    "metadata_df = pd.DataFrame(metadata_list)\n",
    "metadata_df.head()"
   ]
  },
  {
   "cell_type": "markdown",
   "id": "9308398e-35e0-4230-9c41-41c2c0edddfe",
   "metadata": {},
   "source": [
    "## Clean `metadata_df`"
   ]
  },
  {
   "cell_type": "code",
   "execution_count": 4,
   "id": "e53a1fec-153d-4dc6-a576-9dfb56c462ec",
   "metadata": {},
   "outputs": [
    {
     "name": "stdout",
     "output_type": "stream",
     "text": [
      "<class 'pandas.core.frame.DataFrame'>\n",
      "RangeIndex: 208 entries, 0 to 207\n",
      "Data columns (total 24 columns):\n",
      " #   Column                                                            Non-Null Count  Dtype \n",
      "---  ------                                                            --------------  ----- \n",
      " 0   ID                                                                208 non-null    object\n",
      " 1   Age                                                               208 non-null    object\n",
      " 2   Gender                                                            208 non-null    object\n",
      " 3   Diagnosis                                                         208 non-null    object\n",
      " 4   Occupation status                                                 208 non-null    object\n",
      " 5   Voice Handicap Index (VHI) Score                                  208 non-null    object\n",
      " 6   Reflux Symptom Index (RSI) Score                                  208 non-null    object\n",
      " 7   Smoker                                                            208 non-null    object\n",
      " 8   Number of cigarettes smoked per day                               208 non-null    object\n",
      " 9   Alcohol consumption                                               208 non-null    object\n",
      " 10  Number of glasses containing alcoholic beverage drinked in a day  208 non-null    object\n",
      " 11  Amount of water's litres drink every day                          208 non-null    object\n",
      " 12  Eating habits                                                     208 non-null    object\n",
      " 13  Carbonated beverages                                              208 non-null    object\n",
      " 14  Amount of glasses drinked in a day                                208 non-null    object\n",
      " 15  Tomatoes                                                          208 non-null    object\n",
      " 16  Coffee                                                            208 non-null    object\n",
      " 17  Number of cups of coffee drinked in a day                         208 non-null    object\n",
      " 18  Chocolate                                                         208 non-null    object\n",
      " 19  Gramme of chocolate eaten in  a day                               208 non-null    object\n",
      " 20  Soft cheese                                                       208 non-null    object\n",
      " 21  Gramme of soft cheese eaten in a day                              208 non-null    object\n",
      " 22  Citrus fruits                                                     208 non-null    object\n",
      " 23  Number of citrus fruits eaten in a day                            208 non-null    object\n",
      "dtypes: object(24)\n",
      "memory usage: 39.1+ KB\n"
     ]
    }
   ],
   "source": [
    "# Check the dataframe\n",
    "metadata_df.info()"
   ]
  },
  {
   "cell_type": "markdown",
   "id": "67eb4e4c-1872-4b5e-b2ce-8114758f8611",
   "metadata": {},
   "source": [
    "### Simplify the column names"
   ]
  },
  {
   "cell_type": "code",
   "execution_count": 5,
   "id": "2e48fb8a-1e87-4961-a52a-4b4b15fbd21a",
   "metadata": {},
   "outputs": [
    {
     "data": {
      "text/plain": [
       "['ID',\n",
       " 'Age',\n",
       " 'Gender',\n",
       " 'Diagnosis',\n",
       " 'Occupation status',\n",
       " 'Voice Handicap Index (VHI) Score',\n",
       " 'Reflux Symptom Index (RSI) Score',\n",
       " 'Smoker',\n",
       " 'Number of cigarettes smoked per day',\n",
       " 'Alcohol consumption',\n",
       " 'Number of glasses containing alcoholic beverage drinked in a day',\n",
       " \"Amount of water's litres drink every day\",\n",
       " 'Eating habits',\n",
       " 'Carbonated beverages',\n",
       " 'Amount of glasses drinked in a day',\n",
       " 'Tomatoes',\n",
       " 'Coffee',\n",
       " 'Number of cups of coffee drinked in a day',\n",
       " 'Chocolate',\n",
       " 'Gramme of chocolate eaten in  a day',\n",
       " 'Soft cheese',\n",
       " 'Gramme of soft cheese eaten in a day',\n",
       " 'Citrus fruits',\n",
       " 'Number of citrus fruits eaten in a day']"
      ]
     },
     "execution_count": 5,
     "metadata": {},
     "output_type": "execute_result"
    }
   ],
   "source": [
    "# Print the columns\n",
    "original_cols = list(metadata_df.columns)\n",
    "original_cols"
   ]
  },
  {
   "cell_type": "code",
   "execution_count": 6,
   "id": "bb270bee-5b28-474f-af75-f647264a2340",
   "metadata": {},
   "outputs": [
    {
     "data": {
      "text/html": [
       "<div>\n",
       "<style scoped>\n",
       "    .dataframe tbody tr th:only-of-type {\n",
       "        vertical-align: middle;\n",
       "    }\n",
       "\n",
       "    .dataframe tbody tr th {\n",
       "        vertical-align: top;\n",
       "    }\n",
       "\n",
       "    .dataframe thead th {\n",
       "        text-align: right;\n",
       "    }\n",
       "</style>\n",
       "<table border=\"1\" class=\"dataframe\">\n",
       "  <thead>\n",
       "    <tr style=\"text-align: right;\">\n",
       "      <th></th>\n",
       "      <th>id</th>\n",
       "      <th>age</th>\n",
       "      <th>gender</th>\n",
       "      <th>diagnosis</th>\n",
       "      <th>occupation status</th>\n",
       "      <th>voice handicap index (vhi) score</th>\n",
       "      <th>reflux symptom index (rsi) score</th>\n",
       "      <th>smoker</th>\n",
       "      <th>number of cigarettes smoked per day</th>\n",
       "      <th>alcohol consumption</th>\n",
       "      <th>...</th>\n",
       "      <th>amount of glasses drinked in a day</th>\n",
       "      <th>tomatoes</th>\n",
       "      <th>coffee</th>\n",
       "      <th>number of cups of coffee drinked in a day</th>\n",
       "      <th>chocolate</th>\n",
       "      <th>gramme of chocolate eaten in  a day</th>\n",
       "      <th>soft cheese</th>\n",
       "      <th>gramme of soft cheese eaten in a day</th>\n",
       "      <th>citrus fruits</th>\n",
       "      <th>number of citrus fruits eaten in a day</th>\n",
       "    </tr>\n",
       "  </thead>\n",
       "  <tbody>\n",
       "    <tr>\n",
       "      <th>0</th>\n",
       "      <td>voice100</td>\n",
       "      <td>24</td>\n",
       "      <td>m</td>\n",
       "      <td>healthy</td>\n",
       "      <td>NU</td>\n",
       "      <td>0</td>\n",
       "      <td>5</td>\n",
       "      <td>no</td>\n",
       "      <td>NU</td>\n",
       "      <td>casual drinker</td>\n",
       "      <td>...</td>\n",
       "      <td>NU</td>\n",
       "      <td>never</td>\n",
       "      <td>always</td>\n",
       "      <td>3</td>\n",
       "      <td>sometimes</td>\n",
       "      <td>NU</td>\n",
       "      <td>almost always</td>\n",
       "      <td>NU</td>\n",
       "      <td>never</td>\n",
       "      <td>NU</td>\n",
       "    </tr>\n",
       "    <tr>\n",
       "      <th>1</th>\n",
       "      <td>voice101</td>\n",
       "      <td>60</td>\n",
       "      <td>m</td>\n",
       "      <td>healthy</td>\n",
       "      <td>NU</td>\n",
       "      <td>80</td>\n",
       "      <td>10</td>\n",
       "      <td>no</td>\n",
       "      <td>NU</td>\n",
       "      <td>nondrinker</td>\n",
       "      <td>...</td>\n",
       "      <td>NU</td>\n",
       "      <td>sometimes</td>\n",
       "      <td>always</td>\n",
       "      <td>4</td>\n",
       "      <td>sometimes</td>\n",
       "      <td>NU</td>\n",
       "      <td>sometimes</td>\n",
       "      <td>NU</td>\n",
       "      <td>never</td>\n",
       "      <td>NU</td>\n",
       "    </tr>\n",
       "    <tr>\n",
       "      <th>2</th>\n",
       "      <td>voice192</td>\n",
       "      <td>22</td>\n",
       "      <td>m</td>\n",
       "      <td>hyperkinetic dysphonia</td>\n",
       "      <td>Cook</td>\n",
       "      <td>0</td>\n",
       "      <td>10</td>\n",
       "      <td>no</td>\n",
       "      <td>NU</td>\n",
       "      <td>nondrinker</td>\n",
       "      <td>...</td>\n",
       "      <td>NU</td>\n",
       "      <td>sometimes</td>\n",
       "      <td>always</td>\n",
       "      <td>NU</td>\n",
       "      <td>always</td>\n",
       "      <td>NU</td>\n",
       "      <td>sometimes</td>\n",
       "      <td>NU</td>\n",
       "      <td>almost always</td>\n",
       "      <td>NU</td>\n",
       "    </tr>\n",
       "    <tr>\n",
       "      <th>3</th>\n",
       "      <td>voice193</td>\n",
       "      <td>46</td>\n",
       "      <td>f</td>\n",
       "      <td>hyperkinetic dysphonia</td>\n",
       "      <td>Housewife</td>\n",
       "      <td>0</td>\n",
       "      <td>36</td>\n",
       "      <td>yes</td>\n",
       "      <td>15</td>\n",
       "      <td>casual drinker</td>\n",
       "      <td>...</td>\n",
       "      <td>NU</td>\n",
       "      <td>sometimes</td>\n",
       "      <td>always</td>\n",
       "      <td>2</td>\n",
       "      <td>sometimes</td>\n",
       "      <td>NU</td>\n",
       "      <td>sometimes</td>\n",
       "      <td>NU</td>\n",
       "      <td>sometimes</td>\n",
       "      <td>NU</td>\n",
       "    </tr>\n",
       "    <tr>\n",
       "      <th>4</th>\n",
       "      <td>voice008</td>\n",
       "      <td>51</td>\n",
       "      <td>f</td>\n",
       "      <td>reflux laryngitis</td>\n",
       "      <td>Researcher</td>\n",
       "      <td>19</td>\n",
       "      <td>15</td>\n",
       "      <td>no</td>\n",
       "      <td>NU</td>\n",
       "      <td>casual drinker</td>\n",
       "      <td>...</td>\n",
       "      <td>NU</td>\n",
       "      <td>almost always</td>\n",
       "      <td>always</td>\n",
       "      <td>2</td>\n",
       "      <td>almost always</td>\n",
       "      <td>20g</td>\n",
       "      <td>sometimes</td>\n",
       "      <td>100 gr</td>\n",
       "      <td>almost always</td>\n",
       "      <td>1</td>\n",
       "    </tr>\n",
       "  </tbody>\n",
       "</table>\n",
       "<p>5 rows × 24 columns</p>\n",
       "</div>"
      ],
      "text/plain": [
       "         id age gender               diagnosis occupation status  \\\n",
       "0  voice100  24      m                 healthy                NU   \n",
       "1  voice101  60      m                 healthy                NU   \n",
       "2  voice192  22      m  hyperkinetic dysphonia              Cook   \n",
       "3  voice193  46      f  hyperkinetic dysphonia         Housewife   \n",
       "4  voice008  51      f       reflux laryngitis        Researcher   \n",
       "\n",
       "  voice handicap index (vhi) score reflux symptom index (rsi) score smoker  \\\n",
       "0                                0                                5     no   \n",
       "1                               80                               10     no   \n",
       "2                                0                               10     no   \n",
       "3                                0                               36    yes   \n",
       "4                               19                               15     no   \n",
       "\n",
       "  number of cigarettes smoked per day alcohol consumption  ...  \\\n",
       "0                                  NU      casual drinker  ...   \n",
       "1                                  NU          nondrinker  ...   \n",
       "2                                  NU          nondrinker  ...   \n",
       "3                                  15      casual drinker  ...   \n",
       "4                                  NU      casual drinker  ...   \n",
       "\n",
       "  amount of glasses drinked in a day       tomatoes  coffee  \\\n",
       "0                                 NU          never  always   \n",
       "1                                 NU      sometimes  always   \n",
       "2                                 NU      sometimes  always   \n",
       "3                                 NU      sometimes  always   \n",
       "4                                 NU  almost always  always   \n",
       "\n",
       "  number of cups of coffee drinked in a day      chocolate  \\\n",
       "0                                         3      sometimes   \n",
       "1                                         4      sometimes   \n",
       "2                                        NU         always   \n",
       "3                                         2      sometimes   \n",
       "4                                         2  almost always   \n",
       "\n",
       "  gramme of chocolate eaten in  a day    soft cheese  \\\n",
       "0                                  NU  almost always   \n",
       "1                                  NU      sometimes   \n",
       "2                                  NU      sometimes   \n",
       "3                                  NU      sometimes   \n",
       "4                                 20g      sometimes   \n",
       "\n",
       "  gramme of soft cheese eaten in a day  citrus fruits  \\\n",
       "0                                   NU          never   \n",
       "1                                   NU          never   \n",
       "2                                   NU  almost always   \n",
       "3                                   NU      sometimes   \n",
       "4                               100 gr  almost always   \n",
       "\n",
       "  number of citrus fruits eaten in a day  \n",
       "0                                     NU  \n",
       "1                                     NU  \n",
       "2                                     NU  \n",
       "3                                     NU  \n",
       "4                                      1  \n",
       "\n",
       "[5 rows x 24 columns]"
      ]
     },
     "execution_count": 6,
     "metadata": {},
     "output_type": "execute_result"
    }
   ],
   "source": [
    "# Convert the column names to lower case\n",
    "lowercase_cols = [col_name.lower() for col_name in original_cols]\n",
    "\n",
    "# Create a copy of metadata_df\n",
    "renamed_df = metadata_df.copy()\n",
    "\n",
    "# Update the column names\n",
    "renamed_df.columns = lowercase_cols\n",
    "\n",
    "# Display the DataFrame\n",
    "renamed_df.head()"
   ]
  },
  {
   "cell_type": "code",
   "execution_count": 7,
   "id": "0847adf6-8483-49db-857c-e5abc16963c3",
   "metadata": {},
   "outputs": [
    {
     "data": {
      "text/plain": [
       "['id',\n",
       " 'age',\n",
       " 'gender',\n",
       " 'diagnosis',\n",
       " 'occupation status',\n",
       " 'voice handicap index (vhi) score',\n",
       " 'reflux symptom index (rsi) score',\n",
       " 'smoker',\n",
       " 'number of cigarettes smoked per day',\n",
       " 'alcohol consumption',\n",
       " 'number of glasses containing alcoholic beverage drinked in a day',\n",
       " \"amount of water's litres drink every day\",\n",
       " 'eating habits',\n",
       " 'carbonated beverages',\n",
       " 'amount of glasses drinked in a day',\n",
       " 'tomatoes',\n",
       " 'coffee',\n",
       " 'number of cups of coffee drinked in a day',\n",
       " 'chocolate',\n",
       " 'gramme of chocolate eaten in  a day',\n",
       " 'soft cheese',\n",
       " 'gramme of soft cheese eaten in a day',\n",
       " 'citrus fruits',\n",
       " 'number of citrus fruits eaten in a day']"
      ]
     },
     "execution_count": 7,
     "metadata": {},
     "output_type": "execute_result"
    }
   ],
   "source": [
    "# Print updated columns\n",
    "list(renamed_df.columns)"
   ]
  },
  {
   "cell_type": "code",
   "execution_count": 8,
   "id": "abacefa4-b20e-4331-9b76-6224f141eb7e",
   "metadata": {},
   "outputs": [
    {
     "data": {
      "text/html": [
       "<div>\n",
       "<style scoped>\n",
       "    .dataframe tbody tr th:only-of-type {\n",
       "        vertical-align: middle;\n",
       "    }\n",
       "\n",
       "    .dataframe tbody tr th {\n",
       "        vertical-align: top;\n",
       "    }\n",
       "\n",
       "    .dataframe thead th {\n",
       "        text-align: right;\n",
       "    }\n",
       "</style>\n",
       "<table border=\"1\" class=\"dataframe\">\n",
       "  <thead>\n",
       "    <tr style=\"text-align: right;\">\n",
       "      <th></th>\n",
       "      <th>id</th>\n",
       "      <th>age</th>\n",
       "      <th>gender</th>\n",
       "      <th>diagnosis</th>\n",
       "      <th>occupation status</th>\n",
       "      <th>vhi score</th>\n",
       "      <th>rsi score</th>\n",
       "      <th>smoker</th>\n",
       "      <th>cigarettes per day</th>\n",
       "      <th>alcohol consumption</th>\n",
       "      <th>...</th>\n",
       "      <th>carbonated per day</th>\n",
       "      <th>tomatoes</th>\n",
       "      <th>coffee</th>\n",
       "      <th>coffee per day</th>\n",
       "      <th>chocolate</th>\n",
       "      <th>chocolate grams per day</th>\n",
       "      <th>soft cheese</th>\n",
       "      <th>soft cheese per day</th>\n",
       "      <th>citrus fruits</th>\n",
       "      <th>citrus fruits per day</th>\n",
       "    </tr>\n",
       "  </thead>\n",
       "  <tbody>\n",
       "    <tr>\n",
       "      <th>0</th>\n",
       "      <td>voice100</td>\n",
       "      <td>24</td>\n",
       "      <td>m</td>\n",
       "      <td>healthy</td>\n",
       "      <td>NU</td>\n",
       "      <td>0</td>\n",
       "      <td>5</td>\n",
       "      <td>no</td>\n",
       "      <td>NU</td>\n",
       "      <td>casual drinker</td>\n",
       "      <td>...</td>\n",
       "      <td>NU</td>\n",
       "      <td>never</td>\n",
       "      <td>always</td>\n",
       "      <td>3</td>\n",
       "      <td>sometimes</td>\n",
       "      <td>NU</td>\n",
       "      <td>almost always</td>\n",
       "      <td>NU</td>\n",
       "      <td>never</td>\n",
       "      <td>NU</td>\n",
       "    </tr>\n",
       "    <tr>\n",
       "      <th>1</th>\n",
       "      <td>voice101</td>\n",
       "      <td>60</td>\n",
       "      <td>m</td>\n",
       "      <td>healthy</td>\n",
       "      <td>NU</td>\n",
       "      <td>80</td>\n",
       "      <td>10</td>\n",
       "      <td>no</td>\n",
       "      <td>NU</td>\n",
       "      <td>nondrinker</td>\n",
       "      <td>...</td>\n",
       "      <td>NU</td>\n",
       "      <td>sometimes</td>\n",
       "      <td>always</td>\n",
       "      <td>4</td>\n",
       "      <td>sometimes</td>\n",
       "      <td>NU</td>\n",
       "      <td>sometimes</td>\n",
       "      <td>NU</td>\n",
       "      <td>never</td>\n",
       "      <td>NU</td>\n",
       "    </tr>\n",
       "    <tr>\n",
       "      <th>2</th>\n",
       "      <td>voice192</td>\n",
       "      <td>22</td>\n",
       "      <td>m</td>\n",
       "      <td>hyperkinetic dysphonia</td>\n",
       "      <td>Cook</td>\n",
       "      <td>0</td>\n",
       "      <td>10</td>\n",
       "      <td>no</td>\n",
       "      <td>NU</td>\n",
       "      <td>nondrinker</td>\n",
       "      <td>...</td>\n",
       "      <td>NU</td>\n",
       "      <td>sometimes</td>\n",
       "      <td>always</td>\n",
       "      <td>NU</td>\n",
       "      <td>always</td>\n",
       "      <td>NU</td>\n",
       "      <td>sometimes</td>\n",
       "      <td>NU</td>\n",
       "      <td>almost always</td>\n",
       "      <td>NU</td>\n",
       "    </tr>\n",
       "    <tr>\n",
       "      <th>3</th>\n",
       "      <td>voice193</td>\n",
       "      <td>46</td>\n",
       "      <td>f</td>\n",
       "      <td>hyperkinetic dysphonia</td>\n",
       "      <td>Housewife</td>\n",
       "      <td>0</td>\n",
       "      <td>36</td>\n",
       "      <td>yes</td>\n",
       "      <td>15</td>\n",
       "      <td>casual drinker</td>\n",
       "      <td>...</td>\n",
       "      <td>NU</td>\n",
       "      <td>sometimes</td>\n",
       "      <td>always</td>\n",
       "      <td>2</td>\n",
       "      <td>sometimes</td>\n",
       "      <td>NU</td>\n",
       "      <td>sometimes</td>\n",
       "      <td>NU</td>\n",
       "      <td>sometimes</td>\n",
       "      <td>NU</td>\n",
       "    </tr>\n",
       "    <tr>\n",
       "      <th>4</th>\n",
       "      <td>voice008</td>\n",
       "      <td>51</td>\n",
       "      <td>f</td>\n",
       "      <td>reflux laryngitis</td>\n",
       "      <td>Researcher</td>\n",
       "      <td>19</td>\n",
       "      <td>15</td>\n",
       "      <td>no</td>\n",
       "      <td>NU</td>\n",
       "      <td>casual drinker</td>\n",
       "      <td>...</td>\n",
       "      <td>NU</td>\n",
       "      <td>almost always</td>\n",
       "      <td>always</td>\n",
       "      <td>2</td>\n",
       "      <td>almost always</td>\n",
       "      <td>20g</td>\n",
       "      <td>sometimes</td>\n",
       "      <td>100 gr</td>\n",
       "      <td>almost always</td>\n",
       "      <td>1</td>\n",
       "    </tr>\n",
       "  </tbody>\n",
       "</table>\n",
       "<p>5 rows × 24 columns</p>\n",
       "</div>"
      ],
      "text/plain": [
       "         id age gender               diagnosis occupation status vhi score  \\\n",
       "0  voice100  24      m                 healthy                NU         0   \n",
       "1  voice101  60      m                 healthy                NU        80   \n",
       "2  voice192  22      m  hyperkinetic dysphonia              Cook         0   \n",
       "3  voice193  46      f  hyperkinetic dysphonia         Housewife         0   \n",
       "4  voice008  51      f       reflux laryngitis        Researcher        19   \n",
       "\n",
       "  rsi score smoker cigarettes per day alcohol consumption  ...  \\\n",
       "0         5     no                 NU      casual drinker  ...   \n",
       "1        10     no                 NU          nondrinker  ...   \n",
       "2        10     no                 NU          nondrinker  ...   \n",
       "3        36    yes                 15      casual drinker  ...   \n",
       "4        15     no                 NU      casual drinker  ...   \n",
       "\n",
       "  carbonated per day       tomatoes  coffee coffee per day      chocolate  \\\n",
       "0                 NU          never  always              3      sometimes   \n",
       "1                 NU      sometimes  always              4      sometimes   \n",
       "2                 NU      sometimes  always             NU         always   \n",
       "3                 NU      sometimes  always              2      sometimes   \n",
       "4                 NU  almost always  always              2  almost always   \n",
       "\n",
       "  chocolate grams per day    soft cheese soft cheese per day  citrus fruits  \\\n",
       "0                      NU  almost always                  NU          never   \n",
       "1                      NU      sometimes                  NU          never   \n",
       "2                      NU      sometimes                  NU  almost always   \n",
       "3                      NU      sometimes                  NU      sometimes   \n",
       "4                     20g      sometimes              100 gr  almost always   \n",
       "\n",
       "  citrus fruits per day  \n",
       "0                    NU  \n",
       "1                    NU  \n",
       "2                    NU  \n",
       "3                    NU  \n",
       "4                     1  \n",
       "\n",
       "[5 rows x 24 columns]"
      ]
     },
     "execution_count": 8,
     "metadata": {},
     "output_type": "execute_result"
    }
   ],
   "source": [
    "# Simplify the column names\n",
    "renamed_df = renamed_df.rename(columns={\n",
    "    'voice handicap index (vhi) score': 'vhi score',\n",
    "    'reflux symptom index (rsi) score': 'rsi score',\n",
    "    'number of cigarettes smoked per day': 'cigarettes per day',\n",
    "    'number of glasses containing alcoholic beverage drinked in a day': 'alcohol per day',\n",
    "    \"amount of water's litres drink every day\": 'water litres per day',\n",
    "    'amount of glasses drinked in a day': 'carbonated per day',\n",
    "    'number of cups of coffee drinked in a day': 'coffee per day',\n",
    "    'gramme of chocolate eaten in  a day': 'chocolate grams per day',\n",
    "    'gramme of soft cheese eaten in a day': 'soft cheese per day',\n",
    "    'number of citrus fruits eaten in a day': 'citrus fruits per day'\n",
    "})\n",
    "\n",
    "# Display the updated DataFrame\n",
    "renamed_df.head()"
   ]
  },
  {
   "cell_type": "code",
   "execution_count": 9,
   "id": "5c6f7ace-7162-483d-8206-d94e496d2cdb",
   "metadata": {},
   "outputs": [
    {
     "data": {
      "text/html": [
       "<div>\n",
       "<style scoped>\n",
       "    .dataframe tbody tr th:only-of-type {\n",
       "        vertical-align: middle;\n",
       "    }\n",
       "\n",
       "    .dataframe tbody tr th {\n",
       "        vertical-align: top;\n",
       "    }\n",
       "\n",
       "    .dataframe thead th {\n",
       "        text-align: right;\n",
       "    }\n",
       "</style>\n",
       "<table border=\"1\" class=\"dataframe\">\n",
       "  <thead>\n",
       "    <tr style=\"text-align: right;\">\n",
       "      <th></th>\n",
       "      <th>id</th>\n",
       "      <th>age</th>\n",
       "      <th>gender</th>\n",
       "      <th>diagnosis</th>\n",
       "      <th>occupation_status</th>\n",
       "      <th>vhi_score</th>\n",
       "      <th>rsi_score</th>\n",
       "      <th>smoker</th>\n",
       "      <th>cigarettes_pd</th>\n",
       "      <th>alcohol_consumption</th>\n",
       "      <th>...</th>\n",
       "      <th>carbonated_pd</th>\n",
       "      <th>tomatoes</th>\n",
       "      <th>coffee</th>\n",
       "      <th>coffee_pd</th>\n",
       "      <th>chocolate</th>\n",
       "      <th>chocolate_grams_pd</th>\n",
       "      <th>soft_cheese</th>\n",
       "      <th>soft_cheese_pd</th>\n",
       "      <th>citrus_fruits</th>\n",
       "      <th>citrus_fruits_pd</th>\n",
       "    </tr>\n",
       "  </thead>\n",
       "  <tbody>\n",
       "    <tr>\n",
       "      <th>0</th>\n",
       "      <td>voice100</td>\n",
       "      <td>24</td>\n",
       "      <td>m</td>\n",
       "      <td>healthy</td>\n",
       "      <td>NU</td>\n",
       "      <td>0</td>\n",
       "      <td>5</td>\n",
       "      <td>no</td>\n",
       "      <td>NU</td>\n",
       "      <td>casual drinker</td>\n",
       "      <td>...</td>\n",
       "      <td>NU</td>\n",
       "      <td>never</td>\n",
       "      <td>always</td>\n",
       "      <td>3</td>\n",
       "      <td>sometimes</td>\n",
       "      <td>NU</td>\n",
       "      <td>almost always</td>\n",
       "      <td>NU</td>\n",
       "      <td>never</td>\n",
       "      <td>NU</td>\n",
       "    </tr>\n",
       "    <tr>\n",
       "      <th>1</th>\n",
       "      <td>voice101</td>\n",
       "      <td>60</td>\n",
       "      <td>m</td>\n",
       "      <td>healthy</td>\n",
       "      <td>NU</td>\n",
       "      <td>80</td>\n",
       "      <td>10</td>\n",
       "      <td>no</td>\n",
       "      <td>NU</td>\n",
       "      <td>nondrinker</td>\n",
       "      <td>...</td>\n",
       "      <td>NU</td>\n",
       "      <td>sometimes</td>\n",
       "      <td>always</td>\n",
       "      <td>4</td>\n",
       "      <td>sometimes</td>\n",
       "      <td>NU</td>\n",
       "      <td>sometimes</td>\n",
       "      <td>NU</td>\n",
       "      <td>never</td>\n",
       "      <td>NU</td>\n",
       "    </tr>\n",
       "    <tr>\n",
       "      <th>2</th>\n",
       "      <td>voice192</td>\n",
       "      <td>22</td>\n",
       "      <td>m</td>\n",
       "      <td>hyperkinetic dysphonia</td>\n",
       "      <td>Cook</td>\n",
       "      <td>0</td>\n",
       "      <td>10</td>\n",
       "      <td>no</td>\n",
       "      <td>NU</td>\n",
       "      <td>nondrinker</td>\n",
       "      <td>...</td>\n",
       "      <td>NU</td>\n",
       "      <td>sometimes</td>\n",
       "      <td>always</td>\n",
       "      <td>NU</td>\n",
       "      <td>always</td>\n",
       "      <td>NU</td>\n",
       "      <td>sometimes</td>\n",
       "      <td>NU</td>\n",
       "      <td>almost always</td>\n",
       "      <td>NU</td>\n",
       "    </tr>\n",
       "    <tr>\n",
       "      <th>3</th>\n",
       "      <td>voice193</td>\n",
       "      <td>46</td>\n",
       "      <td>f</td>\n",
       "      <td>hyperkinetic dysphonia</td>\n",
       "      <td>Housewife</td>\n",
       "      <td>0</td>\n",
       "      <td>36</td>\n",
       "      <td>yes</td>\n",
       "      <td>15</td>\n",
       "      <td>casual drinker</td>\n",
       "      <td>...</td>\n",
       "      <td>NU</td>\n",
       "      <td>sometimes</td>\n",
       "      <td>always</td>\n",
       "      <td>2</td>\n",
       "      <td>sometimes</td>\n",
       "      <td>NU</td>\n",
       "      <td>sometimes</td>\n",
       "      <td>NU</td>\n",
       "      <td>sometimes</td>\n",
       "      <td>NU</td>\n",
       "    </tr>\n",
       "    <tr>\n",
       "      <th>4</th>\n",
       "      <td>voice008</td>\n",
       "      <td>51</td>\n",
       "      <td>f</td>\n",
       "      <td>reflux laryngitis</td>\n",
       "      <td>Researcher</td>\n",
       "      <td>19</td>\n",
       "      <td>15</td>\n",
       "      <td>no</td>\n",
       "      <td>NU</td>\n",
       "      <td>casual drinker</td>\n",
       "      <td>...</td>\n",
       "      <td>NU</td>\n",
       "      <td>almost always</td>\n",
       "      <td>always</td>\n",
       "      <td>2</td>\n",
       "      <td>almost always</td>\n",
       "      <td>20g</td>\n",
       "      <td>sometimes</td>\n",
       "      <td>100 gr</td>\n",
       "      <td>almost always</td>\n",
       "      <td>1</td>\n",
       "    </tr>\n",
       "  </tbody>\n",
       "</table>\n",
       "<p>5 rows × 24 columns</p>\n",
       "</div>"
      ],
      "text/plain": [
       "         id age gender               diagnosis occupation_status vhi_score  \\\n",
       "0  voice100  24      m                 healthy                NU         0   \n",
       "1  voice101  60      m                 healthy                NU        80   \n",
       "2  voice192  22      m  hyperkinetic dysphonia              Cook         0   \n",
       "3  voice193  46      f  hyperkinetic dysphonia         Housewife         0   \n",
       "4  voice008  51      f       reflux laryngitis        Researcher        19   \n",
       "\n",
       "  rsi_score smoker cigarettes_pd alcohol_consumption  ... carbonated_pd  \\\n",
       "0         5     no            NU      casual drinker  ...            NU   \n",
       "1        10     no            NU          nondrinker  ...            NU   \n",
       "2        10     no            NU          nondrinker  ...            NU   \n",
       "3        36    yes            15      casual drinker  ...            NU   \n",
       "4        15     no            NU      casual drinker  ...            NU   \n",
       "\n",
       "        tomatoes  coffee coffee_pd      chocolate chocolate_grams_pd  \\\n",
       "0          never  always         3      sometimes                 NU   \n",
       "1      sometimes  always         4      sometimes                 NU   \n",
       "2      sometimes  always        NU         always                 NU   \n",
       "3      sometimes  always         2      sometimes                 NU   \n",
       "4  almost always  always         2  almost always                20g   \n",
       "\n",
       "     soft_cheese soft_cheese_pd  citrus_fruits citrus_fruits_pd  \n",
       "0  almost always             NU          never               NU  \n",
       "1      sometimes             NU          never               NU  \n",
       "2      sometimes             NU  almost always               NU  \n",
       "3      sometimes             NU      sometimes               NU  \n",
       "4      sometimes         100 gr  almost always                1  \n",
       "\n",
       "[5 rows x 24 columns]"
      ]
     },
     "execution_count": 9,
     "metadata": {},
     "output_type": "execute_result"
    }
   ],
   "source": [
    "# Convert 'per day' to pd\n",
    "renamed_cols = list(renamed_df.columns)\n",
    "\n",
    "updated_cols = []\n",
    "# Update each column\n",
    "for col in renamed_cols:\n",
    "    col = col.replace(\"per day\", \"pd\")\n",
    "    col = col.replace(\" \", \"_\")\n",
    "    updated_cols.append(col)\n",
    "\n",
    "# Set the updated columns\n",
    "renamed_df.columns = updated_cols\n",
    "\n",
    "# Display the updated DataFrame\n",
    "renamed_df.head()"
   ]
  },
  {
   "cell_type": "markdown",
   "id": "6d784c5e-ae16-454f-9b8d-415695331a08",
   "metadata": {},
   "source": [
    "### Convert `NU` values to `NaN`"
   ]
  },
  {
   "cell_type": "code",
   "execution_count": 10,
   "id": "ae1af8f9-e88f-4218-83c3-e5376caab812",
   "metadata": {},
   "outputs": [
    {
     "name": "stdout",
     "output_type": "stream",
     "text": [
      "<class 'pandas.core.frame.DataFrame'>\n",
      "RangeIndex: 208 entries, 0 to 207\n",
      "Data columns (total 24 columns):\n",
      " #   Column                Non-Null Count  Dtype \n",
      "---  ------                --------------  ----- \n",
      " 0   id                    208 non-null    object\n",
      " 1   age                   208 non-null    object\n",
      " 2   gender                208 non-null    object\n",
      " 3   diagnosis             208 non-null    object\n",
      " 4   occupation_status     167 non-null    object\n",
      " 5   vhi_score             208 non-null    object\n",
      " 6   rsi_score             208 non-null    object\n",
      " 7   smoker                208 non-null    object\n",
      " 8   cigarettes_pd         41 non-null     object\n",
      " 9   alcohol_consumption   208 non-null    object\n",
      " 10  alcohol_pd            25 non-null     object\n",
      " 11  water_litres_pd       208 non-null    object\n",
      " 12  eating_habits         208 non-null    object\n",
      " 13  carbonated_beverages  208 non-null    object\n",
      " 14  carbonated_pd         21 non-null     object\n",
      " 15  tomatoes              208 non-null    object\n",
      " 16  coffee                208 non-null    object\n",
      " 17  coffee_pd             170 non-null    object\n",
      " 18  chocolate             208 non-null    object\n",
      " 19  chocolate_grams_pd    36 non-null     object\n",
      " 20  soft_cheese           208 non-null    object\n",
      " 21  soft_cheese_pd        33 non-null     object\n",
      " 22  citrus_fruits         208 non-null    object\n",
      " 23  citrus_fruits_pd      49 non-null     object\n",
      "dtypes: object(24)\n",
      "memory usage: 39.1+ KB\n"
     ]
    }
   ],
   "source": [
    "# Create a copy of renamed\n",
    "updated_df = renamed_df.copy()\n",
    "\n",
    "# Convert the 'NU' values to 'NaN'\n",
    "updated_df = updated_df.replace(\"NU\", np.nan)\n",
    "\n",
    "# Check the updated DataFrame info\n",
    "updated_df.info()"
   ]
  },
  {
   "cell_type": "code",
   "execution_count": 11,
   "id": "c664a81b-b72a-4526-9df5-c4083196e878",
   "metadata": {},
   "outputs": [
    {
     "data": {
      "text/html": [
       "<div>\n",
       "<style scoped>\n",
       "    .dataframe tbody tr th:only-of-type {\n",
       "        vertical-align: middle;\n",
       "    }\n",
       "\n",
       "    .dataframe tbody tr th {\n",
       "        vertical-align: top;\n",
       "    }\n",
       "\n",
       "    .dataframe thead th {\n",
       "        text-align: right;\n",
       "    }\n",
       "</style>\n",
       "<table border=\"1\" class=\"dataframe\">\n",
       "  <thead>\n",
       "    <tr style=\"text-align: right;\">\n",
       "      <th></th>\n",
       "      <th>occupation_status</th>\n",
       "      <th>cigarettes_pd</th>\n",
       "      <th>alcohol_pd</th>\n",
       "      <th>carbonated_pd</th>\n",
       "      <th>coffee_pd</th>\n",
       "      <th>chocolate_grams_pd</th>\n",
       "      <th>soft_cheese_pd</th>\n",
       "      <th>citrus_fruits_pd</th>\n",
       "    </tr>\n",
       "  </thead>\n",
       "  <tbody>\n",
       "    <tr>\n",
       "      <th>0</th>\n",
       "      <td>NaN</td>\n",
       "      <td>NaN</td>\n",
       "      <td>NaN</td>\n",
       "      <td>NaN</td>\n",
       "      <td>3</td>\n",
       "      <td>NaN</td>\n",
       "      <td>NaN</td>\n",
       "      <td>NaN</td>\n",
       "    </tr>\n",
       "    <tr>\n",
       "      <th>1</th>\n",
       "      <td>NaN</td>\n",
       "      <td>NaN</td>\n",
       "      <td>NaN</td>\n",
       "      <td>NaN</td>\n",
       "      <td>4</td>\n",
       "      <td>NaN</td>\n",
       "      <td>NaN</td>\n",
       "      <td>NaN</td>\n",
       "    </tr>\n",
       "    <tr>\n",
       "      <th>2</th>\n",
       "      <td>Cook</td>\n",
       "      <td>NaN</td>\n",
       "      <td>NaN</td>\n",
       "      <td>NaN</td>\n",
       "      <td>NaN</td>\n",
       "      <td>NaN</td>\n",
       "      <td>NaN</td>\n",
       "      <td>NaN</td>\n",
       "    </tr>\n",
       "    <tr>\n",
       "      <th>3</th>\n",
       "      <td>Housewife</td>\n",
       "      <td>15</td>\n",
       "      <td>NaN</td>\n",
       "      <td>NaN</td>\n",
       "      <td>2</td>\n",
       "      <td>NaN</td>\n",
       "      <td>NaN</td>\n",
       "      <td>NaN</td>\n",
       "    </tr>\n",
       "    <tr>\n",
       "      <th>4</th>\n",
       "      <td>Researcher</td>\n",
       "      <td>NaN</td>\n",
       "      <td>NaN</td>\n",
       "      <td>NaN</td>\n",
       "      <td>2</td>\n",
       "      <td>20g</td>\n",
       "      <td>100 gr</td>\n",
       "      <td>1</td>\n",
       "    </tr>\n",
       "  </tbody>\n",
       "</table>\n",
       "</div>"
      ],
      "text/plain": [
       "  occupation_status cigarettes_pd alcohol_pd carbonated_pd coffee_pd  \\\n",
       "0               NaN           NaN        NaN           NaN         3   \n",
       "1               NaN           NaN        NaN           NaN         4   \n",
       "2              Cook           NaN        NaN           NaN       NaN   \n",
       "3         Housewife            15        NaN           NaN         2   \n",
       "4        Researcher           NaN        NaN           NaN         2   \n",
       "\n",
       "  chocolate_grams_pd soft_cheese_pd citrus_fruits_pd  \n",
       "0                NaN            NaN              NaN  \n",
       "1                NaN            NaN              NaN  \n",
       "2                NaN            NaN              NaN  \n",
       "3                NaN            NaN              NaN  \n",
       "4                20g         100 gr                1  "
      ]
     },
     "execution_count": 11,
     "metadata": {},
     "output_type": "execute_result"
    }
   ],
   "source": [
    "# Display the columns with null values\n",
    "cols_with_null = updated_df.columns[updated_df.isnull().any()]\n",
    "\n",
    "# Display as a DataFrame\n",
    "updated_nulls_df = updated_df[cols_with_null]\n",
    "updated_nulls_df.head()"
   ]
  },
  {
   "cell_type": "markdown",
   "id": "550d33f3-24fa-4dc7-9f0f-94bd27a12752",
   "metadata": {},
   "source": [
    "### Clean categorical columns\n",
    "- Except `diagnosis` and `occupation_status`, do these separately."
   ]
  },
  {
   "cell_type": "markdown",
   "id": "f4b11ffd-a1c7-4bd8-8da0-40912ca4d6e1",
   "metadata": {},
   "source": [
    "#### `gender` column"
   ]
  },
  {
   "cell_type": "code",
   "execution_count": 12,
   "id": "e6f50db5-8adf-411d-9688-d89a1b56d604",
   "metadata": {},
   "outputs": [
    {
     "data": {
      "text/plain": [
       "gender\n",
       "f    136\n",
       "m     72\n",
       "Name: count, dtype: int64"
      ]
     },
     "execution_count": 12,
     "metadata": {},
     "output_type": "execute_result"
    }
   ],
   "source": [
    "# Check the gender column\n",
    "updated_df['gender'].value_counts(dropna=False)"
   ]
  },
  {
   "cell_type": "markdown",
   "id": "d5c16c5d-c36b-4b73-a4e4-fbbbd987b757",
   "metadata": {},
   "source": [
    "__NOTE__: `gender` column does not require cleaning.\n",
    "___"
   ]
  },
  {
   "cell_type": "markdown",
   "id": "498e723b-7b20-47ac-87e3-86784be2d14e",
   "metadata": {},
   "source": [
    "#### `smoker` column"
   ]
  },
  {
   "cell_type": "code",
   "execution_count": 13,
   "id": "4bc43bf6-5774-46dc-b262-332a2dfee5df",
   "metadata": {},
   "outputs": [
    {
     "data": {
      "text/plain": [
       "smoker\n",
       "no               98\n",
       "No               56\n",
       "yes              43\n",
       "casual smoker    11\n",
       "Name: count, dtype: int64"
      ]
     },
     "execution_count": 13,
     "metadata": {},
     "output_type": "execute_result"
    }
   ],
   "source": [
    "# Check the smoker column\n",
    "updated_df['smoker'].value_counts(dropna=False)"
   ]
  },
  {
   "cell_type": "code",
   "execution_count": 14,
   "id": "68a66585-3817-4b99-b524-0752f1a727f9",
   "metadata": {},
   "outputs": [
    {
     "data": {
      "text/plain": [
       "smoker\n",
       "no        154\n",
       "yes        43\n",
       "casual     11\n",
       "Name: count, dtype: int64"
      ]
     },
     "execution_count": 14,
     "metadata": {},
     "output_type": "execute_result"
    }
   ],
   "source": [
    "# Convert the 'No' to 'no'\n",
    "updated_df['smoker'] = updated_df['smoker'].str.replace('No', 'no')\n",
    "\n",
    "# Convert 'casual smoker' to 'casual'\n",
    "updated_df['smoker'] = updated_df['smoker'].str.replace('casual smoker', 'casual')\n",
    "\n",
    "# Display the updated values\n",
    "updated_df['smoker'].value_counts(dropna=False)"
   ]
  },
  {
   "cell_type": "markdown",
   "id": "082c5947-daa7-4b72-97c6-39e5da3df396",
   "metadata": {},
   "source": [
    "Plan for encoding the `smoker` column\n",
    "- `0` for `no`\n",
    "- `1` for `casual`\n",
    "- `2` for `yes`\n",
    "___"
   ]
  },
  {
   "cell_type": "markdown",
   "id": "1239982f-8be5-47e6-a873-040f7a57be97",
   "metadata": {},
   "source": [
    "#### `alcohol_consumption` column"
   ]
  },
  {
   "cell_type": "code",
   "execution_count": 15,
   "id": "f4f5e9e7-3c5f-4c7b-92eb-cd2420f66aef",
   "metadata": {},
   "outputs": [
    {
     "data": {
      "text/plain": [
       "alcohol_consumption\n",
       "casual drinker      101\n",
       "nondrinker           84\n",
       "habitual drinker     23\n",
       "Name: count, dtype: int64"
      ]
     },
     "execution_count": 15,
     "metadata": {},
     "output_type": "execute_result"
    }
   ],
   "source": [
    "# Check the alcohol_consumption column\n",
    "updated_df['alcohol_consumption'].value_counts(dropna=False)"
   ]
  },
  {
   "cell_type": "markdown",
   "id": "d308b5e2-58ab-485c-a3cd-23983d1b85e0",
   "metadata": {},
   "source": [
    "__NOTE__: `alcohol_consumption` column - cleaning required."
   ]
  },
  {
   "cell_type": "code",
   "execution_count": 16,
   "id": "c3fd93a0-28c7-4288-a364-2713b7f38c44",
   "metadata": {},
   "outputs": [
    {
     "data": {
      "text/plain": [
       "alcohol_consumption\n",
       "casual        101\n",
       "nondrinker     84\n",
       "habitual       23\n",
       "Name: count, dtype: int64"
      ]
     },
     "execution_count": 16,
     "metadata": {},
     "output_type": "execute_result"
    }
   ],
   "source": [
    "# Simplify the values for alcohol_consumption\n",
    "updated_df['alcohol_consumption'] = updated_df['alcohol_consumption'].str.replace(\" drinker\", \"\")\n",
    "\n",
    "# Check the updated values\n",
    "updated_df['alcohol_consumption'].value_counts(dropna=False)"
   ]
  },
  {
   "cell_type": "markdown",
   "id": "d79149db-6ea0-4609-a234-dc028c9bec32",
   "metadata": {},
   "source": [
    "Plan for encoding `alcohol_consumption` column\n",
    "- `0` for `nondrinker`\n",
    "- `1` for `casual`\n",
    "- `2` for `habitual`\n",
    "___"
   ]
  },
  {
   "cell_type": "markdown",
   "id": "d62c36ef-b00b-4624-a06a-b05b39f2d17c",
   "metadata": {},
   "source": [
    "#### `eating_habits` column"
   ]
  },
  {
   "cell_type": "code",
   "execution_count": 17,
   "id": "9e5e7c57-8666-4452-87c7-71b0f98627fc",
   "metadata": {},
   "outputs": [
    {
     "data": {
      "text/plain": [
       "0       \n",
       "1       \n",
       "2       \n",
       "3       \n",
       "4       \n",
       "      ..\n",
       "203     \n",
       "204     \n",
       "205     \n",
       "206     \n",
       "207     \n",
       "Name: eating_habits, Length: 208, dtype: object"
      ]
     },
     "execution_count": 17,
     "metadata": {},
     "output_type": "execute_result"
    }
   ],
   "source": [
    "# Check the eating_habits column\n",
    "updated_df['eating_habits']"
   ]
  },
  {
   "cell_type": "code",
   "execution_count": 18,
   "id": "1e9e1eda-211e-42fb-b1b6-dde5341a1e93",
   "metadata": {},
   "outputs": [],
   "source": [
    "# Header in the text file, drop column\n",
    "updated_df = updated_df.drop(columns=['eating_habits'])"
   ]
  },
  {
   "cell_type": "code",
   "execution_count": 19,
   "id": "a2ee3485-cea4-4813-abd2-605e6e0f55ac",
   "metadata": {},
   "outputs": [
    {
     "name": "stdout",
     "output_type": "stream",
     "text": [
      "['almost always', 'never', 'sometimes', 'almost never', 'always']\n"
     ]
    }
   ],
   "source": [
    "# Check the eating habits columns\n",
    "eating_habits = ['carbonated_beverages', 'tomatoes', 'coffee', 'chocolate', 'soft_cheese', 'citrus_fruits']\n",
    "\n",
    "# Check unique values\n",
    "unique_list = []\n",
    "for col in eating_habits:\n",
    "    unique_values = updated_df[col].unique()\n",
    "    for val in unique_values:\n",
    "        if val not in unique_list:\n",
    "            unique_list.append(val)\n",
    "print(unique_list)"
   ]
  },
  {
   "cell_type": "markdown",
   "id": "6a8a150a-11af-4148-bba2-0c3529500589",
   "metadata": {},
   "source": [
    "Encode the eating habits columns:\n",
    "- `0` for `never`\n",
    "- `1` for `almost_never`\n",
    "- `2` for `sometimes`\n",
    "- `3` for `almost_always`\n",
    "- `4` for `always`\n",
    "___"
   ]
  },
  {
   "cell_type": "code",
   "execution_count": 20,
   "id": "0a041476-2764-4691-a11c-0b54e0ef3e72",
   "metadata": {},
   "outputs": [],
   "source": [
    "# Create a `clean_cat_df`\n",
    "clean_cat_df = updated_df.copy()"
   ]
  },
  {
   "cell_type": "markdown",
   "id": "cb93d5b7-ebfd-4c10-b47a-69085036d51c",
   "metadata": {},
   "source": [
    "### Clean numerical columns"
   ]
  },
  {
   "cell_type": "code",
   "execution_count": 21,
   "id": "aa237d66-f868-4cc8-972d-ebaae524cc19",
   "metadata": {},
   "outputs": [
    {
     "name": "stdout",
     "output_type": "stream",
     "text": [
      "<class 'pandas.core.frame.DataFrame'>\n",
      "RangeIndex: 208 entries, 0 to 207\n",
      "Data columns (total 23 columns):\n",
      " #   Column                Non-Null Count  Dtype \n",
      "---  ------                --------------  ----- \n",
      " 0   id                    208 non-null    object\n",
      " 1   age                   208 non-null    int64 \n",
      " 2   gender                208 non-null    object\n",
      " 3   diagnosis             208 non-null    object\n",
      " 4   occupation_status     167 non-null    object\n",
      " 5   vhi_score             208 non-null    int64 \n",
      " 6   rsi_score             208 non-null    int64 \n",
      " 7   smoker                208 non-null    object\n",
      " 8   cigarettes_pd         41 non-null     object\n",
      " 9   alcohol_consumption   208 non-null    object\n",
      " 10  alcohol_pd            25 non-null     object\n",
      " 11  water_litres_pd       208 non-null    object\n",
      " 12  carbonated_beverages  208 non-null    object\n",
      " 13  carbonated_pd         21 non-null     object\n",
      " 14  tomatoes              208 non-null    object\n",
      " 15  coffee                208 non-null    object\n",
      " 16  coffee_pd             170 non-null    object\n",
      " 17  chocolate             208 non-null    object\n",
      " 18  chocolate_grams_pd    36 non-null     object\n",
      " 19  soft_cheese           208 non-null    object\n",
      " 20  soft_cheese_pd        33 non-null     object\n",
      " 21  citrus_fruits         208 non-null    object\n",
      " 22  citrus_fruits_pd      49 non-null     object\n",
      "dtypes: int64(3), object(20)\n",
      "memory usage: 37.5+ KB\n"
     ]
    }
   ],
   "source": [
    "# Isolate columns to convert to int type\n",
    "convert_cols = ['age', 'vhi_score', 'rsi_score']\n",
    "\n",
    "# Convert columns to int\n",
    "clean_cat_df[convert_cols] = clean_cat_df[convert_cols].astype(int)\n",
    "\n",
    "# Confirm changes\n",
    "clean_cat_df.info()"
   ]
  },
  {
   "cell_type": "markdown",
   "id": "43bc5599-a91a-4d2f-b0c0-db8f34c45cd3",
   "metadata": {},
   "source": [
    "#### `cigarettes_pd` column"
   ]
  },
  {
   "cell_type": "code",
   "execution_count": 22,
   "id": "77980ca2-d3d0-4211-8e24-0737ea53ac9b",
   "metadata": {},
   "outputs": [
    {
     "data": {
      "text/html": [
       "<div>\n",
       "<style scoped>\n",
       "    .dataframe tbody tr th:only-of-type {\n",
       "        vertical-align: middle;\n",
       "    }\n",
       "\n",
       "    .dataframe tbody tr th {\n",
       "        vertical-align: top;\n",
       "    }\n",
       "\n",
       "    .dataframe thead th {\n",
       "        text-align: right;\n",
       "    }\n",
       "</style>\n",
       "<table border=\"1\" class=\"dataframe\">\n",
       "  <thead>\n",
       "    <tr style=\"text-align: right;\">\n",
       "      <th></th>\n",
       "      <th>smoker</th>\n",
       "      <th>cigarettes_pd</th>\n",
       "    </tr>\n",
       "  </thead>\n",
       "  <tbody>\n",
       "    <tr>\n",
       "      <th>0</th>\n",
       "      <td>no</td>\n",
       "      <td>NaN</td>\n",
       "    </tr>\n",
       "    <tr>\n",
       "      <th>1</th>\n",
       "      <td>no</td>\n",
       "      <td>NaN</td>\n",
       "    </tr>\n",
       "    <tr>\n",
       "      <th>2</th>\n",
       "      <td>no</td>\n",
       "      <td>NaN</td>\n",
       "    </tr>\n",
       "    <tr>\n",
       "      <th>3</th>\n",
       "      <td>yes</td>\n",
       "      <td>15</td>\n",
       "    </tr>\n",
       "    <tr>\n",
       "      <th>4</th>\n",
       "      <td>no</td>\n",
       "      <td>NaN</td>\n",
       "    </tr>\n",
       "  </tbody>\n",
       "</table>\n",
       "</div>"
      ],
      "text/plain": [
       "  smoker cigarettes_pd\n",
       "0     no           NaN\n",
       "1     no           NaN\n",
       "2     no           NaN\n",
       "3    yes            15\n",
       "4     no           NaN"
      ]
     },
     "execution_count": 22,
     "metadata": {},
     "output_type": "execute_result"
    }
   ],
   "source": [
    "# Check the smoker and cigarettes_pd columns\n",
    "smoker_columns = ['smoker', 'cigarettes_pd']\n",
    "clean_cat_df[smoker_columns].head()"
   ]
  },
  {
   "cell_type": "code",
   "execution_count": 23,
   "id": "a08f30de-4917-45a2-a6a2-645ef54bad42",
   "metadata": {},
   "outputs": [
    {
     "data": {
      "text/html": [
       "<div>\n",
       "<style scoped>\n",
       "    .dataframe tbody tr th:only-of-type {\n",
       "        vertical-align: middle;\n",
       "    }\n",
       "\n",
       "    .dataframe tbody tr th {\n",
       "        vertical-align: top;\n",
       "    }\n",
       "\n",
       "    .dataframe thead th {\n",
       "        text-align: right;\n",
       "    }\n",
       "</style>\n",
       "<table border=\"1\" class=\"dataframe\">\n",
       "  <thead>\n",
       "    <tr style=\"text-align: right;\">\n",
       "      <th></th>\n",
       "      <th>smoker</th>\n",
       "      <th>cigarettes_pd</th>\n",
       "    </tr>\n",
       "  </thead>\n",
       "  <tbody>\n",
       "    <tr>\n",
       "      <th>40</th>\n",
       "      <td>yes</td>\n",
       "      <td>NaN</td>\n",
       "    </tr>\n",
       "    <tr>\n",
       "      <th>83</th>\n",
       "      <td>yes</td>\n",
       "      <td>NaN</td>\n",
       "    </tr>\n",
       "    <tr>\n",
       "      <th>138</th>\n",
       "      <td>yes</td>\n",
       "      <td>NaN</td>\n",
       "    </tr>\n",
       "    <tr>\n",
       "      <th>173</th>\n",
       "      <td>yes</td>\n",
       "      <td>NaN</td>\n",
       "    </tr>\n",
       "  </tbody>\n",
       "</table>\n",
       "</div>"
      ],
      "text/plain": [
       "    smoker cigarettes_pd\n",
       "40     yes           NaN\n",
       "83     yes           NaN\n",
       "138    yes           NaN\n",
       "173    yes           NaN"
      ]
     },
     "execution_count": 23,
     "metadata": {},
     "output_type": "execute_result"
    }
   ],
   "source": [
    "# Confirm the smokers have a valid value in the cigarettes_pd\n",
    "smoker_null = (clean_cat_df['smoker'] == 'yes') & (clean_cat_df['cigarettes_pd'].isnull())\n",
    "clean_cat_df.loc[smoker_null, smoker_columns]"
   ]
  },
  {
   "cell_type": "markdown",
   "id": "51cdefbd-e3a1-4cc8-998d-4dc58efa56ec",
   "metadata": {},
   "source": [
    "__NOTE__: `yes` smokers should have a value for `cigarettes_pd`. Define a method for imputation."
   ]
  },
  {
   "cell_type": "code",
   "execution_count": 24,
   "id": "d2db552c-64d1-42cc-82fa-4e563346465d",
   "metadata": {},
   "outputs": [
    {
     "name": "stdout",
     "output_type": "stream",
     "text": [
      "Skewness: 1.030643653897744\n"
     ]
    },
    {
     "data": {
      "image/png": "[encoded data removed]",
      "text/plain": [
       "<Figure size 640x480 with 1 Axes>"
      ]
     },
     "metadata": {},
     "output_type": "display_data"
    }
   ],
   "source": [
    "# Set the row conditions\n",
    "smoker_notnull = (clean_cat_df['smoker'] == 'yes') & (~clean_cat_df['cigarettes_pd'].isnull())\n",
    "\n",
    "# Create a copy of the series for plotting\n",
    "num_cigarettes_df = clean_cat_df[smoker_notnull]['cigarettes_pd'].copy()\n",
    "\n",
    "# Convert values for plotting\n",
    "check_data = num_cigarettes_df.fillna(0).astype(int)\n",
    "\n",
    "# Display a histogram of the cigarettes_pd column\n",
    "check_data.hist()\n",
    "plt.title('Smoker (yes) - Cigarettes per Day')\n",
    "\n",
    "# Check skewness\n",
    "print(f'Skewness: {skew(check_data)}')"
   ]
  },
  {
   "cell_type": "markdown",
   "id": "342537cd-4eb3-4078-95e8-9c8a88ea7435",
   "metadata": {},
   "source": [
    "__NOTE__: Skew value close to `1` means skewed to the right (shown in the histogram), use `median`."
   ]
  },
  {
   "cell_type": "code",
   "execution_count": 25,
   "id": "20ecdcac-1188-486f-bad9-55bd8c6b8753",
   "metadata": {},
   "outputs": [
    {
     "name": "stdout",
     "output_type": "stream",
     "text": [
      "Median cigarettes per day for smokers: 15.0\n"
     ]
    }
   ],
   "source": [
    "# Calculate the median value (since skewed)\n",
    "smoker_median = clean_cat_df.loc[smoker_notnull, 'cigarettes_pd'].astype(int).median()\n",
    "print(f'Median cigarettes per day for smokers: {smoker_median}')\n",
    "\n",
    "# Impute the missing values\n",
    "clean_cat_df.loc[smoker_null, 'cigarettes_pd'] = smoker_median"
   ]
  },
  {
   "cell_type": "code",
   "execution_count": 26,
   "id": "f0598460-5c4b-48ec-986f-d88a598e527d",
   "metadata": {},
   "outputs": [
    {
     "data": {
      "text/html": [
       "<div>\n",
       "<style scoped>\n",
       "    .dataframe tbody tr th:only-of-type {\n",
       "        vertical-align: middle;\n",
       "    }\n",
       "\n",
       "    .dataframe tbody tr th {\n",
       "        vertical-align: top;\n",
       "    }\n",
       "\n",
       "    .dataframe thead th {\n",
       "        text-align: right;\n",
       "    }\n",
       "</style>\n",
       "<table border=\"1\" class=\"dataframe\">\n",
       "  <thead>\n",
       "    <tr style=\"text-align: right;\">\n",
       "      <th></th>\n",
       "      <th>id</th>\n",
       "      <th>age</th>\n",
       "      <th>gender</th>\n",
       "      <th>diagnosis</th>\n",
       "      <th>occupation_status</th>\n",
       "      <th>vhi_score</th>\n",
       "      <th>rsi_score</th>\n",
       "      <th>smoker</th>\n",
       "      <th>cigarettes_pd</th>\n",
       "      <th>alcohol_consumption</th>\n",
       "      <th>...</th>\n",
       "      <th>carbonated_pd</th>\n",
       "      <th>tomatoes</th>\n",
       "      <th>coffee</th>\n",
       "      <th>coffee_pd</th>\n",
       "      <th>chocolate</th>\n",
       "      <th>chocolate_grams_pd</th>\n",
       "      <th>soft_cheese</th>\n",
       "      <th>soft_cheese_pd</th>\n",
       "      <th>citrus_fruits</th>\n",
       "      <th>citrus_fruits_pd</th>\n",
       "    </tr>\n",
       "  </thead>\n",
       "  <tbody>\n",
       "    <tr>\n",
       "      <th>33</th>\n",
       "      <td>voice069</td>\n",
       "      <td>63</td>\n",
       "      <td>m</td>\n",
       "      <td>reflux laryngitis</td>\n",
       "      <td>Employee</td>\n",
       "      <td>11</td>\n",
       "      <td>10</td>\n",
       "      <td>casual</td>\n",
       "      <td>NaN</td>\n",
       "      <td>nondrinker</td>\n",
       "      <td>...</td>\n",
       "      <td>NaN</td>\n",
       "      <td>sometimes</td>\n",
       "      <td>always</td>\n",
       "      <td>NaN</td>\n",
       "      <td>sometimes</td>\n",
       "      <td>NaN</td>\n",
       "      <td>always</td>\n",
       "      <td>NaN</td>\n",
       "      <td>sometimes</td>\n",
       "      <td>NaN</td>\n",
       "    </tr>\n",
       "    <tr>\n",
       "      <th>35</th>\n",
       "      <td>voice161</td>\n",
       "      <td>65</td>\n",
       "      <td>m</td>\n",
       "      <td>hypokinetic dysphonia (glottic insufficiency)</td>\n",
       "      <td>Technical operator</td>\n",
       "      <td>45</td>\n",
       "      <td>0</td>\n",
       "      <td>casual</td>\n",
       "      <td>NaN</td>\n",
       "      <td>casual</td>\n",
       "      <td>...</td>\n",
       "      <td>NaN</td>\n",
       "      <td>sometimes</td>\n",
       "      <td>always</td>\n",
       "      <td>2</td>\n",
       "      <td>almost never</td>\n",
       "      <td>NaN</td>\n",
       "      <td>sometimes</td>\n",
       "      <td>NaN</td>\n",
       "      <td>almost never</td>\n",
       "      <td>NaN</td>\n",
       "    </tr>\n",
       "    <tr>\n",
       "      <th>45</th>\n",
       "      <td>voice155</td>\n",
       "      <td>33</td>\n",
       "      <td>f</td>\n",
       "      <td>hyperkinetic dysphonia</td>\n",
       "      <td>Housewife</td>\n",
       "      <td>34</td>\n",
       "      <td>0</td>\n",
       "      <td>casual</td>\n",
       "      <td>NaN</td>\n",
       "      <td>nondrinker</td>\n",
       "      <td>...</td>\n",
       "      <td>NaN</td>\n",
       "      <td>sometimes</td>\n",
       "      <td>always</td>\n",
       "      <td>3</td>\n",
       "      <td>sometimes</td>\n",
       "      <td>NaN</td>\n",
       "      <td>sometimes</td>\n",
       "      <td>NaN</td>\n",
       "      <td>sometimes</td>\n",
       "      <td>NaN</td>\n",
       "    </tr>\n",
       "    <tr>\n",
       "      <th>84</th>\n",
       "      <td>voice106</td>\n",
       "      <td>21</td>\n",
       "      <td>m</td>\n",
       "      <td>hypokinetic dysphonia</td>\n",
       "      <td>NaN</td>\n",
       "      <td>35</td>\n",
       "      <td>13</td>\n",
       "      <td>casual</td>\n",
       "      <td>NaN</td>\n",
       "      <td>nondrinker</td>\n",
       "      <td>...</td>\n",
       "      <td>NaN</td>\n",
       "      <td>almost always</td>\n",
       "      <td>almost always</td>\n",
       "      <td>NaN</td>\n",
       "      <td>almost always</td>\n",
       "      <td>NaN</td>\n",
       "      <td>almost never</td>\n",
       "      <td>NaN</td>\n",
       "      <td>sometimes</td>\n",
       "      <td>NaN</td>\n",
       "    </tr>\n",
       "    <tr>\n",
       "      <th>100</th>\n",
       "      <td>voice004</td>\n",
       "      <td>28</td>\n",
       "      <td>f</td>\n",
       "      <td>hypokinetic dysphonia</td>\n",
       "      <td>Researcher</td>\n",
       "      <td>20</td>\n",
       "      <td>9</td>\n",
       "      <td>casual</td>\n",
       "      <td>NaN</td>\n",
       "      <td>casual</td>\n",
       "      <td>...</td>\n",
       "      <td>NaN</td>\n",
       "      <td>sometimes</td>\n",
       "      <td>always</td>\n",
       "      <td>3</td>\n",
       "      <td>sometimes</td>\n",
       "      <td>NaN</td>\n",
       "      <td>almost always</td>\n",
       "      <td>NaN</td>\n",
       "      <td>sometimes</td>\n",
       "      <td>NaN</td>\n",
       "    </tr>\n",
       "    <tr>\n",
       "      <th>118</th>\n",
       "      <td>voice061</td>\n",
       "      <td>33</td>\n",
       "      <td>f</td>\n",
       "      <td>healthy</td>\n",
       "      <td>Researcher</td>\n",
       "      <td>19</td>\n",
       "      <td>12</td>\n",
       "      <td>casual</td>\n",
       "      <td>NaN</td>\n",
       "      <td>habitual</td>\n",
       "      <td>...</td>\n",
       "      <td>NaN</td>\n",
       "      <td>almost always</td>\n",
       "      <td>almost always</td>\n",
       "      <td>2</td>\n",
       "      <td>sometimes</td>\n",
       "      <td>NaN</td>\n",
       "      <td>sometimes</td>\n",
       "      <td>NaN</td>\n",
       "      <td>almost never</td>\n",
       "      <td>NaN</td>\n",
       "    </tr>\n",
       "    <tr>\n",
       "      <th>127</th>\n",
       "      <td>voice163</td>\n",
       "      <td>44</td>\n",
       "      <td>f</td>\n",
       "      <td>hyperkinetic dysphonia</td>\n",
       "      <td>Housewife</td>\n",
       "      <td>30</td>\n",
       "      <td>11</td>\n",
       "      <td>casual</td>\n",
       "      <td>NaN</td>\n",
       "      <td>nondrinker</td>\n",
       "      <td>...</td>\n",
       "      <td>NaN</td>\n",
       "      <td>sometimes</td>\n",
       "      <td>always</td>\n",
       "      <td>3</td>\n",
       "      <td>sometimes</td>\n",
       "      <td>NaN</td>\n",
       "      <td>almost never</td>\n",
       "      <td>NaN</td>\n",
       "      <td>sometimes</td>\n",
       "      <td>NaN</td>\n",
       "    </tr>\n",
       "    <tr>\n",
       "      <th>132</th>\n",
       "      <td>voice049</td>\n",
       "      <td>44</td>\n",
       "      <td>f</td>\n",
       "      <td>healthy</td>\n",
       "      <td>Employee</td>\n",
       "      <td>4</td>\n",
       "      <td>20</td>\n",
       "      <td>casual</td>\n",
       "      <td>NaN</td>\n",
       "      <td>casual</td>\n",
       "      <td>...</td>\n",
       "      <td>NaN</td>\n",
       "      <td>sometimes</td>\n",
       "      <td>always</td>\n",
       "      <td>3</td>\n",
       "      <td>almost never</td>\n",
       "      <td>NaN</td>\n",
       "      <td>almost never</td>\n",
       "      <td>NaN</td>\n",
       "      <td>almost always</td>\n",
       "      <td>2</td>\n",
       "    </tr>\n",
       "    <tr>\n",
       "      <th>163</th>\n",
       "      <td>voice178</td>\n",
       "      <td>20</td>\n",
       "      <td>f</td>\n",
       "      <td>healthy</td>\n",
       "      <td>Student</td>\n",
       "      <td>0</td>\n",
       "      <td>16</td>\n",
       "      <td>casual</td>\n",
       "      <td>NaN</td>\n",
       "      <td>nondrinker</td>\n",
       "      <td>...</td>\n",
       "      <td>NaN</td>\n",
       "      <td>almost never</td>\n",
       "      <td>sometimes</td>\n",
       "      <td>NaN</td>\n",
       "      <td>sometimes</td>\n",
       "      <td>NaN</td>\n",
       "      <td>sometimes</td>\n",
       "      <td>NaN</td>\n",
       "      <td>sometimes</td>\n",
       "      <td>NaN</td>\n",
       "    </tr>\n",
       "  </tbody>\n",
       "</table>\n",
       "<p>9 rows × 23 columns</p>\n",
       "</div>"
      ],
      "text/plain": [
       "           id  age gender                                      diagnosis  \\\n",
       "33   voice069   63      m                              reflux laryngitis   \n",
       "35   voice161   65      m  hypokinetic dysphonia (glottic insufficiency)   \n",
       "45   voice155   33      f                         hyperkinetic dysphonia   \n",
       "84   voice106   21      m                          hypokinetic dysphonia   \n",
       "100  voice004   28      f                          hypokinetic dysphonia   \n",
       "118  voice061   33      f                                        healthy   \n",
       "127  voice163   44      f                         hyperkinetic dysphonia   \n",
       "132  voice049   44      f                                        healthy   \n",
       "163  voice178   20      f                                        healthy   \n",
       "\n",
       "      occupation_status  vhi_score  rsi_score  smoker cigarettes_pd  \\\n",
       "33             Employee         11         10  casual           NaN   \n",
       "35   Technical operator         45          0  casual           NaN   \n",
       "45            Housewife         34          0  casual           NaN   \n",
       "84                  NaN         35         13  casual           NaN   \n",
       "100          Researcher         20          9  casual           NaN   \n",
       "118          Researcher         19         12  casual           NaN   \n",
       "127           Housewife         30         11  casual           NaN   \n",
       "132            Employee          4         20  casual           NaN   \n",
       "163             Student          0         16  casual           NaN   \n",
       "\n",
       "    alcohol_consumption  ... carbonated_pd       tomatoes         coffee  \\\n",
       "33           nondrinker  ...           NaN      sometimes         always   \n",
       "35               casual  ...           NaN      sometimes         always   \n",
       "45           nondrinker  ...           NaN      sometimes         always   \n",
       "84           nondrinker  ...           NaN  almost always  almost always   \n",
       "100              casual  ...           NaN      sometimes         always   \n",
       "118            habitual  ...           NaN  almost always  almost always   \n",
       "127          nondrinker  ...           NaN      sometimes         always   \n",
       "132              casual  ...           NaN      sometimes         always   \n",
       "163          nondrinker  ...           NaN   almost never      sometimes   \n",
       "\n",
       "    coffee_pd      chocolate chocolate_grams_pd    soft_cheese soft_cheese_pd  \\\n",
       "33        NaN      sometimes                NaN         always            NaN   \n",
       "35          2   almost never                NaN      sometimes            NaN   \n",
       "45          3      sometimes                NaN      sometimes            NaN   \n",
       "84        NaN  almost always                NaN   almost never            NaN   \n",
       "100         3      sometimes                NaN  almost always            NaN   \n",
       "118         2      sometimes                NaN      sometimes            NaN   \n",
       "127         3      sometimes                NaN   almost never            NaN   \n",
       "132         3   almost never                NaN   almost never            NaN   \n",
       "163       NaN      sometimes                NaN      sometimes            NaN   \n",
       "\n",
       "     citrus_fruits citrus_fruits_pd  \n",
       "33       sometimes              NaN  \n",
       "35    almost never              NaN  \n",
       "45       sometimes              NaN  \n",
       "84       sometimes              NaN  \n",
       "100      sometimes              NaN  \n",
       "118   almost never              NaN  \n",
       "127      sometimes              NaN  \n",
       "132  almost always                2  \n",
       "163      sometimes              NaN  \n",
       "\n",
       "[9 rows x 23 columns]"
      ]
     },
     "execution_count": 26,
     "metadata": {},
     "output_type": "execute_result"
    }
   ],
   "source": [
    "# Confirm the casual smokers have a valid value in the cigarettes_pd\n",
    "casual_null = (clean_cat_df['smoker'] == 'casual') & (clean_cat_df['cigarettes_pd'].isnull())\n",
    "clean_cat_df.loc[casual_null]"
   ]
  },
  {
   "cell_type": "code",
   "execution_count": 27,
   "id": "954ead12-27bc-4671-bd09-fae1452a72e3",
   "metadata": {},
   "outputs": [
    {
     "data": {
      "text/plain": [
       "cigarettes_pd\n",
       "NaN    9\n",
       "2      2\n",
       "Name: count, dtype: int64"
      ]
     },
     "execution_count": 27,
     "metadata": {},
     "output_type": "execute_result"
    }
   ],
   "source": [
    "# Check the casual smokers who have have a valid cigarettes_pd value\n",
    "clean_cat_df.loc[clean_cat_df['smoker'] == 'casual', 'cigarettes_pd'].value_counts(dropna=False)"
   ]
  },
  {
   "cell_type": "markdown",
   "id": "6e279dcf-e226-4dbe-996c-4054a0ef83f6",
   "metadata": {},
   "source": [
    "__NOTE__:\n",
    "- There are `9` `casual` smokers with an invalid `cigarettes_pd` value.\n",
    "- There are only `2` `casual` smokers with a valid value of `2`."
   ]
  },
  {
   "cell_type": "code",
   "execution_count": 28,
   "id": "12c35a7d-5cc7-458e-9626-4732028e15c7",
   "metadata": {},
   "outputs": [],
   "source": [
    "# Use this value to impute missing values\n",
    "casual_value = clean_cat_df.loc[clean_cat_df['smoker'] == 'casual', 'cigarettes_pd'].value_counts().mean()\n",
    "\n",
    "# Impute the missing values\n",
    "clean_cat_df.loc[casual_null, 'cigarettes_pd'] = casual_value"
   ]
  },
  {
   "cell_type": "code",
   "execution_count": 29,
   "id": "1f95c5f0-0741-4e8e-bf5d-9adcb8d1e359",
   "metadata": {},
   "outputs": [
    {
     "name": "stdout",
     "output_type": "stream",
     "text": [
      "<class 'pandas.core.frame.DataFrame'>\n",
      "RangeIndex: 208 entries, 0 to 207\n",
      "Data columns (total 23 columns):\n",
      " #   Column                Non-Null Count  Dtype \n",
      "---  ------                --------------  ----- \n",
      " 0   id                    208 non-null    object\n",
      " 1   age                   208 non-null    int64 \n",
      " 2   gender                208 non-null    object\n",
      " 3   diagnosis             208 non-null    object\n",
      " 4   occupation_status     167 non-null    object\n",
      " 5   vhi_score             208 non-null    int64 \n",
      " 6   rsi_score             208 non-null    int64 \n",
      " 7   smoker                208 non-null    object\n",
      " 8   cigarettes_pd         208 non-null    int64 \n",
      " 9   alcohol_consumption   208 non-null    object\n",
      " 10  alcohol_pd            25 non-null     object\n",
      " 11  water_litres_pd       208 non-null    object\n",
      " 12  carbonated_beverages  208 non-null    object\n",
      " 13  carbonated_pd         21 non-null     object\n",
      " 14  tomatoes              208 non-null    object\n",
      " 15  coffee                208 non-null    object\n",
      " 16  coffee_pd             170 non-null    object\n",
      " 17  chocolate             208 non-null    object\n",
      " 18  chocolate_grams_pd    36 non-null     object\n",
      " 19  soft_cheese           208 non-null    object\n",
      " 20  soft_cheese_pd        33 non-null     object\n",
      " 21  citrus_fruits         208 non-null    object\n",
      " 22  citrus_fruits_pd      49 non-null     object\n",
      "dtypes: int64(4), object(19)\n",
      "memory usage: 37.5+ KB\n"
     ]
    }
   ],
   "source": [
    "# Convert all other NaN values to `0`\n",
    "clean_cat_df['cigarettes_pd'] = clean_cat_df['cigarettes_pd'].fillna(0)\n",
    "\n",
    "# Convert the column type to an integer\n",
    "clean_cat_df['cigarettes_pd'] = clean_cat_df['cigarettes_pd'].astype(int)\n",
    "\n",
    "# Confirm changes\n",
    "clean_cat_df.info()"
   ]
  },
  {
   "cell_type": "markdown",
   "id": "d7bd9aaf-bd30-424c-8343-bdfe53418a27",
   "metadata": {},
   "source": [
    "#### `alcohol_pd` column"
   ]
  },
  {
   "cell_type": "code",
   "execution_count": 30,
   "id": "b97a940f-d73a-457a-badd-4ea4f350cb26",
   "metadata": {},
   "outputs": [
    {
     "data": {
      "text/html": [
       "<div>\n",
       "<style scoped>\n",
       "    .dataframe tbody tr th:only-of-type {\n",
       "        vertical-align: middle;\n",
       "    }\n",
       "\n",
       "    .dataframe tbody tr th {\n",
       "        vertical-align: top;\n",
       "    }\n",
       "\n",
       "    .dataframe thead th {\n",
       "        text-align: right;\n",
       "    }\n",
       "</style>\n",
       "<table border=\"1\" class=\"dataframe\">\n",
       "  <thead>\n",
       "    <tr style=\"text-align: right;\">\n",
       "      <th></th>\n",
       "      <th>alcohol_consumption</th>\n",
       "      <th>alcohol_pd</th>\n",
       "    </tr>\n",
       "  </thead>\n",
       "  <tbody>\n",
       "    <tr>\n",
       "      <th>203</th>\n",
       "      <td>casual</td>\n",
       "      <td>NaN</td>\n",
       "    </tr>\n",
       "    <tr>\n",
       "      <th>204</th>\n",
       "      <td>casual</td>\n",
       "      <td>NaN</td>\n",
       "    </tr>\n",
       "    <tr>\n",
       "      <th>205</th>\n",
       "      <td>casual</td>\n",
       "      <td>NaN</td>\n",
       "    </tr>\n",
       "    <tr>\n",
       "      <th>206</th>\n",
       "      <td>habitual</td>\n",
       "      <td>1</td>\n",
       "    </tr>\n",
       "    <tr>\n",
       "      <th>207</th>\n",
       "      <td>casual</td>\n",
       "      <td>NaN</td>\n",
       "    </tr>\n",
       "  </tbody>\n",
       "</table>\n",
       "</div>"
      ],
      "text/plain": [
       "    alcohol_consumption alcohol_pd\n",
       "203              casual        NaN\n",
       "204              casual        NaN\n",
       "205              casual        NaN\n",
       "206            habitual          1\n",
       "207              casual        NaN"
      ]
     },
     "execution_count": 30,
     "metadata": {},
     "output_type": "execute_result"
    }
   ],
   "source": [
    "# Check the alcohol_consumption and alcohol_pd columns\n",
    "alcohol_columns = ['alcohol_consumption', 'alcohol_pd']\n",
    "clean_cat_df[alcohol_columns].tail()"
   ]
  },
  {
   "cell_type": "code",
   "execution_count": 31,
   "id": "14892a72-0ca6-42bf-9641-ee2276dcf180",
   "metadata": {},
   "outputs": [],
   "source": [
    "# Update the nondrinker value to `0`\n",
    "clean_cat_df.loc[clean_cat_df['alcohol_consumption'] == 'nondrinker', 'alcohol_pd'] = 0"
   ]
  },
  {
   "cell_type": "code",
   "execution_count": 32,
   "id": "f4624403-5c4b-45f2-9d7d-2f1b7fe62445",
   "metadata": {},
   "outputs": [
    {
     "data": {
      "text/plain": [
       "alcohol_pd\n",
       "NaN           99\n",
       "0             84\n",
       "1             10\n",
       "2              6\n",
       "2 per week     3\n",
       "1 per week     1\n",
       "3 per week     1\n",
       "1/2            1\n",
       "0.1            1\n",
       "0.3            1\n",
       "0,5            1\n",
       "Name: count, dtype: int64"
      ]
     },
     "execution_count": 32,
     "metadata": {},
     "output_type": "execute_result"
    }
   ],
   "source": [
    "# Check the count for all unique values\n",
    "clean_cat_df['alcohol_pd'].value_counts(dropna=False)"
   ]
  },
  {
   "cell_type": "markdown",
   "id": "21ed40fa-b00d-45a3-931f-0b3785bc0d70",
   "metadata": {},
   "source": [
    "__NOTE__: Write a function to clean this column."
   ]
  },
  {
   "cell_type": "code",
   "execution_count": 33,
   "id": "e26eebfe-831f-4d2a-b3ad-54285a01c1f6",
   "metadata": {},
   "outputs": [],
   "source": [
    "def split_values(str_input, delimiter):\n",
    "    \"\"\"\n",
    "    Purpose:\n",
    "    Convert an input such as \"25-50 g\" to a single\n",
    "    integer value that is the average of the numbers\n",
    "    (37.5 in this case).\n",
    "    \n",
    "    Input:\n",
    "        str_input = the string to convert\n",
    "        delimiter = what to split the string by\n",
    "        \n",
    "    Output:\n",
    "        mean_value\n",
    "    \"\"\"\n",
    "    # Split by the delimiter\n",
    "    sep_values = str_input.split(delimiter)\n",
    "    \n",
    "    # Convert each value to an integer\n",
    "    sep_values = [int(val) for val in sep_values]\n",
    "    \n",
    "    # Calculate the mean value\n",
    "    mean_value = mean(sep_values)\n",
    "    \n",
    "    return mean_value"
   ]
  },
  {
   "cell_type": "code",
   "execution_count": 34,
   "id": "603e1002-323a-42de-8dd9-40cf06a03233",
   "metadata": {},
   "outputs": [],
   "source": [
    "def clean_pd(value):\n",
    "    \"\"\"\n",
    "    Purpose:\n",
    "    - Clean numerical 'X_pd' columns.\n",
    "    - To be used with `apply()`.\n",
    "    \n",
    "    Pipeline:\n",
    "    - Convert to a string for manipulation.\n",
    "    - Strip non-numerical values.\n",
    "    - Calculate averages as required.\n",
    "    - Return an int value.\n",
    "    \"\"\"\n",
    "    \n",
    "    # Values which do not need cleaning\n",
    "    try:\n",
    "        return float(value)\n",
    "    \n",
    "    # Values which need cleaning\n",
    "    except:\n",
    "        # Convert value to a string\n",
    "        value = str(value)\n",
    "\n",
    "        ### REMOVE STRINGS ###\n",
    "        # Check if 'week' is in the value\n",
    "        if ' week' in value:\n",
    "            \n",
    "            # Variation #1: per week\n",
    "            if ' per week' in value:\n",
    "                # Remove the ' per week' string\n",
    "                converted = value.replace(\" per week\", \"\").strip()\n",
    "\n",
    "            # Variation #2: for week\n",
    "            elif ' for week' in value:\n",
    "                # Remove the ' for week' string\n",
    "                converted = value.replace(\" for week\", \"\").strip()\n",
    "                \n",
    "            # Get the per day value\n",
    "            per_day = round(int(converted)/7, 2)\n",
    "\n",
    "            return per_day\n",
    "        \n",
    "        # Check if ' for mounth' is in the value\n",
    "        elif ' for mounth' in value:\n",
    "            # Remove the ' for mounth'\n",
    "            converted = value.replace(\" for mounth\", \"\")\n",
    "            \n",
    "            # Check for a dash\n",
    "            if '-' in converted:\n",
    "                result = split_values(converted, \"-\")\n",
    "            else:\n",
    "                result = converted\n",
    "            \n",
    "            # Get the per day value\n",
    "            per_day = round(float(result)/30,  2)\n",
    "            \n",
    "            return per_day\n",
    "        \n",
    "        ### CALCULATE AVERAGES ###\n",
    "        elif '/' in value:\n",
    "            return split_values(value, \"/\")\n",
    "        \n",
    "        ### OTHER CLEANING ###\n",
    "        elif ',' in value:\n",
    "            return float(value.replace(\",\", \".\"))\n",
    "        \n",
    "        # Catchall\n",
    "        else:\n",
    "            return value"
   ]
  },
  {
   "cell_type": "code",
   "execution_count": 35,
   "id": "89278a41-f8ba-42aa-ab63-a62e5f0e0b6d",
   "metadata": {},
   "outputs": [
    {
     "data": {
      "text/plain": [
       "alcohol_pd\n",
       "NaN     99\n",
       "0.00    84\n",
       "1.00    10\n",
       "2.00     6\n",
       "0.29     3\n",
       "0.14     1\n",
       "0.43     1\n",
       "1.50     1\n",
       "0.10     1\n",
       "0.30     1\n",
       "0.50     1\n",
       "Name: count, dtype: int64"
      ]
     },
     "execution_count": 35,
     "metadata": {},
     "output_type": "execute_result"
    }
   ],
   "source": [
    "# Apply the clean_pd function to the column\n",
    "clean_cat_df['alcohol_pd'] = clean_cat_df['alcohol_pd'].apply(clean_pd)\n",
    "\n",
    "# Check the value counts\n",
    "clean_cat_df['alcohol_pd'].value_counts(dropna=False)"
   ]
  },
  {
   "cell_type": "code",
   "execution_count": 36,
   "id": "e4392a14-a5d4-48d3-a9cc-77e5dd35e909",
   "metadata": {},
   "outputs": [
    {
     "data": {
      "text/plain": [
       "alcohol_consumption  alcohol_pd\n",
       "casual               NaN           91\n",
       "habitual             NaN            8\n",
       "Name: count, dtype: int64"
      ]
     },
     "execution_count": 36,
     "metadata": {},
     "output_type": "execute_result"
    }
   ],
   "source": [
    "# Check rows still with NaN\n",
    "clean_cat_df.loc[clean_cat_df['alcohol_pd'].isnull(), alcohol_columns].value_counts(dropna=False)"
   ]
  },
  {
   "cell_type": "markdown",
   "id": "726d955c-3e76-49de-80d6-e4b36f1e5046",
   "metadata": {},
   "source": [
    "__NOTE__: Similar process to the `smoker_pd` column, write a function for imputation."
   ]
  },
  {
   "cell_type": "code",
   "execution_count": 37,
   "id": "fcc38234-8872-4de2-8fab-b86a95778f27",
   "metadata": {},
   "outputs": [],
   "source": [
    "def imputation(df, cat_col, num_col):\n",
    "    \"\"\"\n",
    "    Purpose:\n",
    "    Check whether the missing data should be\n",
    "    imputed with a mean or a median.\n",
    "    \n",
    "    If the absolute skew score > 0.5, MEDIAN.\n",
    "    Else, not skewed, MEAN.\n",
    "    \n",
    "    Input:\n",
    "    df = dataframe\n",
    "    cat_col = categorical column\n",
    "    num_col = numerical column\n",
    "        \n",
    "    Output:\n",
    "        histogram\n",
    "        skewness score\n",
    "    \"\"\"\n",
    "    \n",
    "    # Get the unique values from the categorical column\n",
    "    unique_values = df[cat_col].unique()\n",
    "    print(unique_values)\n",
    "    \n",
    "    # Loop through each unique value\n",
    "    for unique in unique_values:\n",
    "        \n",
    "        # If the value is 'never', set the value to `0`\n",
    "        df.loc[df[cat_col] == 'never', num_col] = 0\n",
    "        \n",
    "        # Get the non-null values per unique\n",
    "        check_condition = (df[cat_col] == unique) & (~df[num_col].isnull())\n",
    "        check_data = df.loc[check_condition, num_col]\n",
    "        \n",
    "        # Check for unique values with 'nan' values\n",
    "        check_null = df.loc[df[cat_col] == unique, num_col].value_counts(dropna=False).index\n",
    "        \n",
    "        # Skip if all values valid\n",
    "        if (np.nan not in check_null) or (len(check_data) == 0):\n",
    "            continue\n",
    "        \n",
    "        else:\n",
    "            # Convert values for plotting\n",
    "            check_data = check_data.astype(float)\n",
    "            \n",
    "            # Histogram\n",
    "            check_data.hist()\n",
    "            \n",
    "            # Clean title\n",
    "            title = cat_col.replace(\"_\", \" \").title()\n",
    "            plt.title(f'{title} ({unique})')\n",
    "            plt.xlabel(f'{title} per Day')\n",
    "            plt.ylabel('Frequency')\n",
    "            \n",
    "            # Calculate the skewness\n",
    "            skew_score = skew(check_data)\n",
    "            \n",
    "            # Display the results\n",
    "            plt.show()\n",
    "            \n",
    "            # Check the skew score\n",
    "            if abs(skew_score) > 0.5: # skewed = use median\n",
    "                chosen_value = df.loc[check_condition, num_col].astype(float).median()\n",
    "                print(f'Skewness: {round(skew_score,2)}, use MEDIAN.')\n",
    "                print(f'Median value for \"{unique}\": {round(chosen_value, 2)}')\n",
    "            \n",
    "            else:\n",
    "                chosen_value = df.loc[check_condition, num_col].astype(float).mean()\n",
    "                print(f'Skewness: {round(skew_score,2)}, use MEAN.')\n",
    "                print(f'Mean value for \"{unique}\": {round(chosen_value, 2)}')\n",
    "            \n",
    "            # Round the chosen value\n",
    "            rounded_value = round(chosen_value, 2)\n",
    "            \n",
    "            # Impute the missing values\n",
    "            null_condition = (df[cat_col] == unique) & (df[num_col].isnull())\n",
    "            df.loc[null_condition, num_col] = rounded_value"
   ]
  },
  {
   "cell_type": "code",
   "execution_count": 38,
   "id": "22fe9f7d-9211-4ba4-b325-9f9e144673cd",
   "metadata": {},
   "outputs": [
    {
     "name": "stdout",
     "output_type": "stream",
     "text": [
      "['casual' 'nondrinker' 'habitual']\n"
     ]
    },
    {
     "data": {
      "image/png": "[encoded data removed]",
      "text/plain": [
       "<Figure size 640x480 with 1 Axes>"
      ]
     },
     "metadata": {},
     "output_type": "display_data"
    },
    {
     "name": "stdout",
     "output_type": "stream",
     "text": [
      "Skewness: 1.48, use MEDIAN.\n",
      "Median value for \"casual\": 0.36\n"
     ]
    },
    {
     "data": {
      "image/png": "[encoded data removed]",
      "text/plain": [
       "<Figure size 640x480 with 1 Axes>"
      ]
     },
     "metadata": {},
     "output_type": "display_data"
    },
    {
     "name": "stdout",
     "output_type": "stream",
     "text": [
      "Skewness: 0.11, use MEAN.\n",
      "Mean value for \"habitual\": 1.32\n"
     ]
    }
   ],
   "source": [
    "# Use the imputation() function\n",
    "imputation(clean_cat_df, 'alcohol_consumption', 'alcohol_pd')"
   ]
  },
  {
   "cell_type": "code",
   "execution_count": 39,
   "id": "226aa7a6-15c4-4d5f-990b-b9f7d56852e5",
   "metadata": {},
   "outputs": [
    {
     "name": "stdout",
     "output_type": "stream",
     "text": [
      "Total converted: 208\n",
      "alcohol_pd\n",
      "0.36    91\n",
      "0.00    84\n",
      "1.00    10\n",
      "1.32     8\n",
      "2.00     6\n",
      "0.29     3\n",
      "0.14     1\n",
      "0.43     1\n",
      "1.50     1\n",
      "0.10     1\n",
      "0.30     1\n",
      "0.50     1\n",
      "Name: count, dtype: int64\n"
     ]
    }
   ],
   "source": [
    "# Check the distribution and confirm the count\n",
    "counts = clean_cat_df['alcohol_pd'].value_counts(dropna=False)\n",
    "print(f'Total converted: {counts.sum()}\\n{counts}')"
   ]
  },
  {
   "cell_type": "code",
   "execution_count": 40,
   "id": "bfce2aeb-00c0-45ad-bdca-9c273af628e3",
   "metadata": {},
   "outputs": [
    {
     "name": "stdout",
     "output_type": "stream",
     "text": [
      "<class 'pandas.core.frame.DataFrame'>\n",
      "RangeIndex: 208 entries, 0 to 207\n",
      "Data columns (total 23 columns):\n",
      " #   Column                Non-Null Count  Dtype  \n",
      "---  ------                --------------  -----  \n",
      " 0   id                    208 non-null    object \n",
      " 1   age                   208 non-null    int64  \n",
      " 2   gender                208 non-null    object \n",
      " 3   diagnosis             208 non-null    object \n",
      " 4   occupation_status     167 non-null    object \n",
      " 5   vhi_score             208 non-null    int64  \n",
      " 6   rsi_score             208 non-null    int64  \n",
      " 7   smoker                208 non-null    object \n",
      " 8   cigarettes_pd         208 non-null    int64  \n",
      " 9   alcohol_consumption   208 non-null    object \n",
      " 10  alcohol_pd            208 non-null    float64\n",
      " 11  water_litres_pd       208 non-null    object \n",
      " 12  carbonated_beverages  208 non-null    object \n",
      " 13  carbonated_pd         21 non-null     object \n",
      " 14  tomatoes              208 non-null    object \n",
      " 15  coffee                208 non-null    object \n",
      " 16  coffee_pd             170 non-null    object \n",
      " 17  chocolate             208 non-null    object \n",
      " 18  chocolate_grams_pd    36 non-null     object \n",
      " 19  soft_cheese           208 non-null    object \n",
      " 20  soft_cheese_pd        33 non-null     object \n",
      " 21  citrus_fruits         208 non-null    object \n",
      " 22  citrus_fruits_pd      49 non-null     object \n",
      "dtypes: float64(1), int64(4), object(18)\n",
      "memory usage: 37.5+ KB\n"
     ]
    }
   ],
   "source": [
    "# Convert the column to a float with 2 decimal points\n",
    "clean_cat_df['alcohol_pd'] = clean_cat_df['alcohol_pd'].astype(float).round(2)\n",
    "\n",
    "# Confirm changes\n",
    "clean_cat_df.info()"
   ]
  },
  {
   "cell_type": "markdown",
   "id": "da9bfc79-95e3-43d1-8984-b0a84614e42d",
   "metadata": {},
   "source": [
    "#### `water_litres_pd` column"
   ]
  },
  {
   "cell_type": "code",
   "execution_count": 41,
   "id": "569e344f-129f-46ae-88c1-4187dd25e5ac",
   "metadata": {},
   "outputs": [
    {
     "data": {
      "text/plain": [
       "water_litres_pd\n",
       "1       78\n",
       "2       59\n",
       "1,5     58\n",
       "0,5      6\n",
       "2,5      4\n",
       "0,75     2\n",
       "0,25     1\n",
       "Name: count, dtype: int64"
      ]
     },
     "execution_count": 41,
     "metadata": {},
     "output_type": "execute_result"
    }
   ],
   "source": [
    "# Check the water_litres_pd column\n",
    "clean_cat_df['water_litres_pd'].value_counts(dropna=False)"
   ]
  },
  {
   "cell_type": "markdown",
   "id": "a947aa1f-710e-49db-b34a-ba8a785c6222",
   "metadata": {},
   "source": [
    "__NOTE__: No null values, need to clean the commas."
   ]
  },
  {
   "cell_type": "code",
   "execution_count": 42,
   "id": "bd26915d-e7c7-48b0-a236-28330c7b612c",
   "metadata": {},
   "outputs": [
    {
     "data": {
      "text/plain": [
       "water_litres_pd\n",
       "1.00    78\n",
       "2.00    59\n",
       "1.50    58\n",
       "0.50     6\n",
       "2.50     4\n",
       "0.75     2\n",
       "0.25     1\n",
       "Name: count, dtype: int64"
      ]
     },
     "execution_count": 42,
     "metadata": {},
     "output_type": "execute_result"
    }
   ],
   "source": [
    "# Apply the clean_pd function to the column\n",
    "clean_cat_df['water_litres_pd'] = clean_cat_df['water_litres_pd'].apply(clean_pd)\n",
    "\n",
    "# Check the value counts\n",
    "clean_cat_df['water_litres_pd'].value_counts(dropna=False)"
   ]
  },
  {
   "cell_type": "code",
   "execution_count": 43,
   "id": "9bfe78f2-486a-4cd2-9e33-1be561487f89",
   "metadata": {},
   "outputs": [
    {
     "name": "stdout",
     "output_type": "stream",
     "text": [
      "<class 'pandas.core.frame.DataFrame'>\n",
      "RangeIndex: 208 entries, 0 to 207\n",
      "Data columns (total 23 columns):\n",
      " #   Column                Non-Null Count  Dtype  \n",
      "---  ------                --------------  -----  \n",
      " 0   id                    208 non-null    object \n",
      " 1   age                   208 non-null    int64  \n",
      " 2   gender                208 non-null    object \n",
      " 3   diagnosis             208 non-null    object \n",
      " 4   occupation_status     167 non-null    object \n",
      " 5   vhi_score             208 non-null    int64  \n",
      " 6   rsi_score             208 non-null    int64  \n",
      " 7   smoker                208 non-null    object \n",
      " 8   cigarettes_pd         208 non-null    int64  \n",
      " 9   alcohol_consumption   208 non-null    object \n",
      " 10  alcohol_pd            208 non-null    float64\n",
      " 11  water_litres_pd       208 non-null    float64\n",
      " 12  carbonated_beverages  208 non-null    object \n",
      " 13  carbonated_pd         21 non-null     object \n",
      " 14  tomatoes              208 non-null    object \n",
      " 15  coffee                208 non-null    object \n",
      " 16  coffee_pd             170 non-null    object \n",
      " 17  chocolate             208 non-null    object \n",
      " 18  chocolate_grams_pd    36 non-null     object \n",
      " 19  soft_cheese           208 non-null    object \n",
      " 20  soft_cheese_pd        33 non-null     object \n",
      " 21  citrus_fruits         208 non-null    object \n",
      " 22  citrus_fruits_pd      49 non-null     object \n",
      "dtypes: float64(2), int64(4), object(17)\n",
      "memory usage: 37.5+ KB\n"
     ]
    }
   ],
   "source": [
    "# Convert the column to a float with 2 decimal points\n",
    "clean_cat_df['water_litres_pd'] = clean_cat_df['water_litres_pd'].astype(float).round(2)\n",
    "\n",
    "# Confirm changes\n",
    "clean_cat_df.info()"
   ]
  },
  {
   "cell_type": "markdown",
   "id": "ff63c5e9-ee7e-4c76-b6b8-c8a7f81edaa4",
   "metadata": {},
   "source": [
    "#### `carbonated_pd` column"
   ]
  },
  {
   "cell_type": "code",
   "execution_count": 44,
   "id": "c1771b34-4022-4630-b97c-c170496fc66c",
   "metadata": {},
   "outputs": [
    {
     "data": {
      "text/plain": [
       "carbonated_pd\n",
       "NaN               187\n",
       "1                   8\n",
       "3                   2\n",
       "1 for week          2\n",
       "2 for week          2\n",
       "0.1                 2\n",
       "2-3 for mounth      1\n",
       "0.5                 1\n",
       "2 for mounth        1\n",
       "4                   1\n",
       "0,5                 1\n",
       "Name: count, dtype: int64"
      ]
     },
     "execution_count": 44,
     "metadata": {},
     "output_type": "execute_result"
    }
   ],
   "source": [
    "# Check the carbonated_pd column\n",
    "clean_cat_df['carbonated_pd'].value_counts(dropna=False)"
   ]
  },
  {
   "cell_type": "markdown",
   "id": "35d6d4dc-7524-4509-a00d-5a386c29562b",
   "metadata": {},
   "source": [
    "__NOTE__: Need to update the `clean_pd()` function"
   ]
  },
  {
   "cell_type": "code",
   "execution_count": 45,
   "id": "2ed23cb6-64f7-4dff-b65b-aafe58733870",
   "metadata": {},
   "outputs": [
    {
     "data": {
      "text/plain": [
       "carbonated_pd\n",
       "NaN     187\n",
       "1.00      8\n",
       "3.00      2\n",
       "0.14      2\n",
       "0.50      2\n",
       "0.29      2\n",
       "0.10      2\n",
       "0.08      1\n",
       "0.07      1\n",
       "4.00      1\n",
       "Name: count, dtype: int64"
      ]
     },
     "execution_count": 45,
     "metadata": {},
     "output_type": "execute_result"
    }
   ],
   "source": [
    "# Apply the clean_pd function to the column\n",
    "clean_cat_df['carbonated_pd'] = clean_cat_df['carbonated_pd'].apply(clean_pd)\n",
    "\n",
    "# Check the value counts\n",
    "clean_cat_df['carbonated_pd'].value_counts(dropna=False)"
   ]
  },
  {
   "cell_type": "code",
   "execution_count": 46,
   "id": "c5ad8072-e446-4d2d-b8f5-5f2db82ec486",
   "metadata": {},
   "outputs": [
    {
     "data": {
      "text/plain": [
       "carbonated_beverages  carbonated_pd\n",
       "almost never          NaN              71\n",
       "sometimes             NaN              56\n",
       "never                 NaN              46\n",
       "almost always         NaN              10\n",
       "always                NaN               4\n",
       "Name: count, dtype: int64"
      ]
     },
     "execution_count": 46,
     "metadata": {},
     "output_type": "execute_result"
    }
   ],
   "source": [
    "# Check rows still with NaN\n",
    "carbonated_columns = ['carbonated_beverages', 'carbonated_pd']\n",
    "clean_cat_df.loc[clean_cat_df['carbonated_pd'].isnull(), carbonated_columns].value_counts(dropna=False)"
   ]
  },
  {
   "cell_type": "code",
   "execution_count": 47,
   "id": "c3f0c86e-3929-4d41-9abf-a959a3b63001",
   "metadata": {},
   "outputs": [
    {
     "name": "stdout",
     "output_type": "stream",
     "text": [
      "['almost always' 'never' 'sometimes' 'almost never' 'always']\n"
     ]
    },
    {
     "data": {
      "image/png": "[encoded data removed]",
      "text/plain": [
       "<Figure size 640x480 with 1 Axes>"
      ]
     },
     "metadata": {},
     "output_type": "display_data"
    },
    {
     "name": "stdout",
     "output_type": "stream",
     "text": [
      "Skewness: -0.65, use MEDIAN.\n",
      "Median value for \"almost always\": 3.0\n"
     ]
    },
    {
     "data": {
      "image/png": "[encoded data removed]",
      "text/plain": [
       "<Figure size 640x480 with 1 Axes>"
      ]
     },
     "metadata": {},
     "output_type": "display_data"
    },
    {
     "name": "stdout",
     "output_type": "stream",
     "text": [
      "Skewness: -0.09, use MEAN.\n",
      "Mean value for \"sometimes\": 0.61\n"
     ]
    },
    {
     "data": {
      "image/png": "[encoded data removed]",
      "text/plain": [
       "<Figure size 640x480 with 1 Axes>"
      ]
     },
     "metadata": {},
     "output_type": "display_data"
    },
    {
     "name": "stdout",
     "output_type": "stream",
     "text": [
      "Skewness: 1.15, use MEDIAN.\n",
      "Median value for \"almost never\": 0.09\n"
     ]
    }
   ],
   "source": [
    "# Use the imputation() function\n",
    "imputation(clean_cat_df, 'carbonated_beverages', 'carbonated_pd')"
   ]
  },
  {
   "cell_type": "code",
   "execution_count": 48,
   "id": "54e01d57-e375-48f7-afc9-23b2dfe31065",
   "metadata": {},
   "outputs": [
    {
     "name": "stdout",
     "output_type": "stream",
     "text": [
      "Total converted: 208\n",
      "carbonated_pd\n",
      "0.09    71\n",
      "0.61    56\n",
      "0.00    46\n",
      "3.00    12\n",
      "1.00     8\n",
      "NaN      4\n",
      "0.14     2\n",
      "0.50     2\n",
      "0.29     2\n",
      "0.10     2\n",
      "0.08     1\n",
      "0.07     1\n",
      "4.00     1\n",
      "Name: count, dtype: int64\n"
     ]
    }
   ],
   "source": [
    "# Check the distribution and confirm the count\n",
    "counts = clean_cat_df['carbonated_pd'].value_counts(dropna=False)\n",
    "print(f'Total converted: {counts.sum()}\\n{counts}')"
   ]
  },
  {
   "cell_type": "code",
   "execution_count": 49,
   "id": "67bac98f-554a-4399-b429-ea89b8d33514",
   "metadata": {},
   "outputs": [
    {
     "data": {
      "text/plain": [
       "carbonated_beverages  carbonated_pd\n",
       "always                NaN              4\n",
       "Name: count, dtype: int64"
      ]
     },
     "execution_count": 49,
     "metadata": {},
     "output_type": "execute_result"
    }
   ],
   "source": [
    "# Check the rows still with null values\n",
    "clean_cat_df.loc[clean_cat_df['carbonated_pd'].isnull(), carbonated_columns].value_counts(dropna=False)"
   ]
  },
  {
   "cell_type": "markdown",
   "id": "769fd92e-5d56-434b-9b35-43e0e19d1553",
   "metadata": {},
   "source": [
    "__NOTE__: Null values still exist for `always` column since no valid value exists for its type."
   ]
  },
  {
   "cell_type": "code",
   "execution_count": 50,
   "id": "88cfb1bb-9abc-42e1-8560-09fd52805010",
   "metadata": {},
   "outputs": [
    {
     "name": "stdout",
     "output_type": "stream",
     "text": [
      "Means: carbonated_beverages\n",
      "almost always    2.928571\n",
      "almost never     0.101867\n",
      "always                NaN\n",
      "never            0.000000\n",
      "sometimes        0.610435\n",
      "Name: carbonated_pd, dtype: float64\n",
      "\n",
      "Medians: carbonated_beverages\n",
      "almost always    3.00\n",
      "almost never     0.09\n",
      "always            NaN\n",
      "never            0.00\n",
      "sometimes        0.61\n",
      "Name: carbonated_pd, dtype: float64\n"
     ]
    }
   ],
   "source": [
    "# Check the distribution of per day values per unique value\n",
    "carbonated_df = clean_cat_df[['carbonated_beverages', 'carbonated_pd']].copy()\n",
    "\n",
    "# Group by the carbonated_beverages\n",
    "grouped = carbonated_df.groupby('carbonated_beverages')['carbonated_pd']\n",
    "\n",
    "# Check mean and median\n",
    "print(f'Means: {grouped.mean()}\\n')\n",
    "print(f'Medians: {grouped.median()}')"
   ]
  },
  {
   "cell_type": "code",
   "execution_count": 51,
   "id": "936f638f-1ad5-458d-afac-d81bc396a949",
   "metadata": {},
   "outputs": [
    {
     "name": "stdout",
     "output_type": "stream",
     "text": [
      "       carbonated_pd\n",
      "count      14.000000\n",
      "mean        2.928571\n",
      "std         0.615728\n",
      "min         1.000000\n",
      "25%         3.000000\n",
      "50%         3.000000\n",
      "75%         3.000000\n",
      "max         4.000000\n"
     ]
    },
    {
     "data": {
      "text/plain": [
       "4.0"
      ]
     },
     "execution_count": 51,
     "metadata": {},
     "output_type": "execute_result"
    }
   ],
   "source": [
    "# Calculate the summary statistics for 'almost always'\n",
    "almost_always = carbonated_df.loc[carbonated_df['carbonated_beverages'] == 'almost always']\n",
    "summary_stats = almost_always.describe()\n",
    "print(summary_stats)\n",
    "\n",
    "max_value = almost_always['carbonated_pd'].max()\n",
    "max_value"
   ]
  },
  {
   "cell_type": "code",
   "execution_count": 52,
   "id": "443bed3a-07c5-49b6-ba1e-e65077e9c1e6",
   "metadata": {},
   "outputs": [
    {
     "data": {
      "text/plain": [
       "carbonated_pd\n",
       "0.09    71\n",
       "0.61    56\n",
       "0.00    46\n",
       "3.00    12\n",
       "1.00     8\n",
       "4.00     5\n",
       "0.14     2\n",
       "0.50     2\n",
       "0.29     2\n",
       "0.10     2\n",
       "0.08     1\n",
       "0.07     1\n",
       "Name: count, dtype: int64"
      ]
     },
     "execution_count": 52,
     "metadata": {},
     "output_type": "execute_result"
    }
   ],
   "source": [
    "# Use the max value from 'almost always' as 'always' value\n",
    "clean_cat_df.loc[clean_cat_df['carbonated_beverages'] == 'always', 'carbonated_pd'] = max_value\n",
    "\n",
    "# Confirm changes\n",
    "clean_cat_df['carbonated_pd'].value_counts(dropna=False)"
   ]
  },
  {
   "cell_type": "code",
   "execution_count": 53,
   "id": "dd7afe7d-d8b7-4276-a95b-525b944bf0c7",
   "metadata": {},
   "outputs": [
    {
     "name": "stdout",
     "output_type": "stream",
     "text": [
      "<class 'pandas.core.frame.DataFrame'>\n",
      "RangeIndex: 208 entries, 0 to 207\n",
      "Data columns (total 23 columns):\n",
      " #   Column                Non-Null Count  Dtype  \n",
      "---  ------                --------------  -----  \n",
      " 0   id                    208 non-null    object \n",
      " 1   age                   208 non-null    int64  \n",
      " 2   gender                208 non-null    object \n",
      " 3   diagnosis             208 non-null    object \n",
      " 4   occupation_status     167 non-null    object \n",
      " 5   vhi_score             208 non-null    int64  \n",
      " 6   rsi_score             208 non-null    int64  \n",
      " 7   smoker                208 non-null    object \n",
      " 8   cigarettes_pd         208 non-null    int64  \n",
      " 9   alcohol_consumption   208 non-null    object \n",
      " 10  alcohol_pd            208 non-null    float64\n",
      " 11  water_litres_pd       208 non-null    float64\n",
      " 12  carbonated_beverages  208 non-null    object \n",
      " 13  carbonated_pd         208 non-null    float64\n",
      " 14  tomatoes              208 non-null    object \n",
      " 15  coffee                208 non-null    object \n",
      " 16  coffee_pd             170 non-null    object \n",
      " 17  chocolate             208 non-null    object \n",
      " 18  chocolate_grams_pd    36 non-null     object \n",
      " 19  soft_cheese           208 non-null    object \n",
      " 20  soft_cheese_pd        33 non-null     object \n",
      " 21  citrus_fruits         208 non-null    object \n",
      " 22  citrus_fruits_pd      49 non-null     object \n",
      "dtypes: float64(3), int64(4), object(16)\n",
      "memory usage: 37.5+ KB\n"
     ]
    }
   ],
   "source": [
    "# Convert the column to a float with 2 decimal points\n",
    "clean_cat_df['carbonated_pd'] = clean_cat_df['carbonated_pd'].astype(float).round(2)\n",
    "\n",
    "# Confirm changes\n",
    "clean_cat_df.info()"
   ]
  },
  {
   "cell_type": "markdown",
   "id": "27785d04-e3fc-4f68-9fa2-c1824a3368ea",
   "metadata": {},
   "source": [
    "#### `coffee_pd` column"
   ]
  },
  {
   "cell_type": "code",
   "execution_count": 54,
   "id": "f8812e87-5ad1-4152-8ec1-34122f081ea3",
   "metadata": {},
   "outputs": [
    {
     "data": {
      "text/plain": [
       "coffee_pd\n",
       "3      61\n",
       "2      44\n",
       "NaN    38\n",
       "4      30\n",
       "1      20\n",
       "6       7\n",
       "5       6\n",
       "0       1\n",
       "8       1\n",
       "Name: count, dtype: int64"
      ]
     },
     "execution_count": 54,
     "metadata": {},
     "output_type": "execute_result"
    }
   ],
   "source": [
    "# Check the coffee_pd column\n",
    "clean_cat_df['coffee_pd'].value_counts(dropna=False)"
   ]
  },
  {
   "cell_type": "code",
   "execution_count": 56,
   "id": "d24222a9-f8ef-4670-9d8b-b60ad138bc8c",
   "metadata": {},
   "outputs": [
    {
     "data": {
      "text/plain": [
       "coffee         coffee_pd\n",
       "never          NaN          14\n",
       "almost never   NaN           7\n",
       "sometimes      NaN           7\n",
       "almost always  NaN           5\n",
       "always         NaN           5\n",
       "Name: count, dtype: int64"
      ]
     },
     "execution_count": 56,
     "metadata": {},
     "output_type": "execute_result"
    }
   ],
   "source": [
    "# Check the NaN values\n",
    "coffee_columns = ['coffee', 'coffee_pd']\n",
    "clean_cat_df.loc[clean_cat_df['coffee_pd'].isnull(), coffee_columns].value_counts(dropna=False)"
   ]
  },
  {
   "cell_type": "code",
   "execution_count": 57,
   "id": "a34a8063-d352-4cb3-8fcd-cd78c84b82dd",
   "metadata": {},
   "outputs": [
    {
     "name": "stdout",
     "output_type": "stream",
     "text": [
      "['always' 'almost always' 'sometimes' 'never' 'almost never']\n"
     ]
    },
    {
     "data": {
      "image/png": "[encoded data removed]",
      "text/plain": [
       "<Figure size 640x480 with 1 Axes>"
      ]
     },
     "metadata": {},
     "output_type": "display_data"
    },
    {
     "name": "stdout",
     "output_type": "stream",
     "text": [
      "Skewness: 0.86, use MEDIAN.\n",
      "Median value for \"always\": 3.0\n"
     ]
    },
    {
     "data": {
      "image/png": "[encoded data removed]",
      "text/plain": [
       "<Figure size 640x480 with 1 Axes>"
      ]
     },
     "metadata": {},
     "output_type": "display_data"
    },
    {
     "name": "stdout",
     "output_type": "stream",
     "text": [
      "Skewness: 0.0, use MEAN.\n",
      "Mean value for \"almost always\": 3.0\n"
     ]
    },
    {
     "data": {
      "image/png": "[encoded data removed]",
      "text/plain": [
       "<Figure size 640x480 with 1 Axes>"
      ]
     },
     "metadata": {},
     "output_type": "display_data"
    },
    {
     "name": "stdout",
     "output_type": "stream",
     "text": [
      "Skewness: 0.14, use MEAN.\n",
      "Mean value for \"sometimes\": 1.92\n"
     ]
    },
    {
     "data": {
      "image/png": "[encoded data removed]",
      "text/plain": [
       "<Figure size 640x480 with 1 Axes>"
      ]
     },
     "metadata": {},
     "output_type": "display_data"
    },
    {
     "name": "stdout",
     "output_type": "stream",
     "text": [
      "Skewness: 0.99, use MEDIAN.\n",
      "Median value for \"almost never\": 1.0\n"
     ]
    }
   ],
   "source": [
    "# Use the imputation() function\n",
    "imputation(clean_cat_df, 'coffee', 'coffee_pd')"
   ]
  },
  {
   "cell_type": "code",
   "execution_count": 59,
   "id": "a3ab3a60-70c8-461a-9efa-38a47ae14ae7",
   "metadata": {},
   "outputs": [
    {
     "name": "stdout",
     "output_type": "stream",
     "text": [
      "Total converted: 208\n",
      "coffee_pd\n",
      "3       61\n",
      "2       44\n",
      "4       30\n",
      "1       20\n",
      "0       14\n",
      "3.0     10\n",
      "1.92     7\n",
      "1.0      7\n",
      "6        7\n",
      "5        6\n",
      "0        1\n",
      "8        1\n",
      "Name: count, dtype: int64\n"
     ]
    }
   ],
   "source": [
    "# Check the distribution and confirm the count\n",
    "counts = clean_cat_df['coffee_pd'].value_counts(dropna=False)\n",
    "print(f'Total converted: {counts.sum()}\\n{counts}')"
   ]
  },
  {
   "cell_type": "code",
   "execution_count": 61,
   "id": "a566f965-d3f4-41cc-823d-21ed48561449",
   "metadata": {},
   "outputs": [
    {
     "name": "stdout",
     "output_type": "stream",
     "text": [
      "<class 'pandas.core.frame.DataFrame'>\n",
      "RangeIndex: 208 entries, 0 to 207\n",
      "Data columns (total 23 columns):\n",
      " #   Column                Non-Null Count  Dtype  \n",
      "---  ------                --------------  -----  \n",
      " 0   id                    208 non-null    object \n",
      " 1   age                   208 non-null    int64  \n",
      " 2   gender                208 non-null    object \n",
      " 3   diagnosis             208 non-null    object \n",
      " 4   occupation_status     167 non-null    object \n",
      " 5   vhi_score             208 non-null    int64  \n",
      " 6   rsi_score             208 non-null    int64  \n",
      " 7   smoker                208 non-null    object \n",
      " 8   cigarettes_pd         208 non-null    int64  \n",
      " 9   alcohol_consumption   208 non-null    object \n",
      " 10  alcohol_pd            208 non-null    float64\n",
      " 11  water_litres_pd       208 non-null    float64\n",
      " 12  carbonated_beverages  208 non-null    object \n",
      " 13  carbonated_pd         208 non-null    float64\n",
      " 14  tomatoes              208 non-null    object \n",
      " 15  coffee                208 non-null    object \n",
      " 16  coffee_pd             208 non-null    int64  \n",
      " 17  chocolate             208 non-null    object \n",
      " 18  chocolate_grams_pd    36 non-null     object \n",
      " 19  soft_cheese           208 non-null    object \n",
      " 20  soft_cheese_pd        33 non-null     object \n",
      " 21  citrus_fruits         208 non-null    object \n",
      " 22  citrus_fruits_pd      49 non-null     object \n",
      "dtypes: float64(3), int64(5), object(15)\n",
      "memory usage: 37.5+ KB\n"
     ]
    }
   ],
   "source": [
    "# Convert the column to a float\n",
    "clean_cat_df['coffee_pd'] = clean_cat_df['coffee_pd'].astype(float)\n",
    "\n",
    "# Since values are close to integers, cast to integers\n",
    "clean_cat_df['coffee_pd'] = clean_cat_df['coffee_pd'].round(0).astype(int)\n",
    "\n",
    "# Confirm changes\n",
    "clean_cat_df.info()"
   ]
  },
  {
   "cell_type": "code",
   "execution_count": null,
   "id": "a2d5a5ec-dc6c-48ec-a56b-96bfc7504ce2",
   "metadata": {},
   "outputs": [],
   "source": []
  }
 ],
 "metadata": {
  "kernelspec": {
   "display_name": "dev",
   "language": "python",
   "name": "dev"
  },
  "language_info": {
   "codemirror_mode": {
    "name": "ipython",
    "version": 3
   },
   "file_extension": ".py",
   "mimetype": "text/x-python",
   "name": "python",
   "nbconvert_exporter": "python",
   "pygments_lexer": "ipython3",
   "version": "3.10.13"
  }
 },
 "nbformat": 4,
 "nbformat_minor": 5
}

{
 "cells": [
  {
   "cell_type": "code",
   "execution_count": 1,
   "id": "4358200e-5177-4def-ba18-1c044ababeac",
   "metadata": {},
   "outputs": [],
   "source": [
    "# Import dependencies"
   ]
  },
  {
   "cell_type": "code",
   "execution_count": 15,
   "id": "b4a5a25d-4ec3-4265-8acb-3e898d9cee98",
   "metadata": {},
   "outputs": [],
   "source": [
    "import matplotlib.pyplot as plt\n",
    "import pandas as pd\n",
    "\n",
    "import sqlalchemy\n",
    "from sqlalchemy import create_engine, inspect\n",
    "\n",
    "import tensorflow as tf\n",
    "from tensorflow import keras\n",
    "from tensorflow.keras.models import Sequential"
   ]
  },
  {
   "cell_type": "code",
   "execution_count": 16,
   "id": "7c4927f1-bae9-4bc1-90c1-5b9b60c6c8a3",
   "metadata": {},
   "outputs": [
    {
     "data": {
      "text/plain": [
       "['demographic', 'diagnosis', 'habits', 'spectrogram']"
      ]
     },
     "execution_count": 16,
     "metadata": {},
     "output_type": "execute_result"
    }
   ],
   "source": [
    "# Import the data\n",
    "engine = create_engine(\"sqlite:///voice.sqlite\")\n",
    "\n",
    "# View all of the classes\n",
    "inspector = inspect(engine)\n",
    "table_names = inspector.get_table_names()\n",
    "table_names"
   ]
  },
  {
   "cell_type": "code",
   "execution_count": 17,
   "id": "bb3b03fe-e8de-4f96-a595-9f1052019baa",
   "metadata": {},
   "outputs": [],
   "source": [
    "# Initialise a dictionary to hold dataframes\n",
    "dataframes = dict()\n",
    "\n",
    "# Loop through each table\n",
    "for table in table_names:\n",
    "    \n",
    "    # Dataframe name\n",
    "    df_name = f'{table}_df'\n",
    "    \n",
    "    # Create dataframe\n",
    "    dataframes[df_name] = pd.read_sql(\n",
    "        f'SELECT * FROM {table}',\n",
    "        engine\n",
    "    )"
   ]
  },
  {
   "cell_type": "code",
   "execution_count": 19,
   "id": "02116f71-87c3-4212-9abe-df687942b51f",
   "metadata": {},
   "outputs": [
    {
     "data": {
      "text/html": [
       "<div>\n",
       "<style scoped>\n",
       "    .dataframe tbody tr th:only-of-type {\n",
       "        vertical-align: middle;\n",
       "    }\n",
       "\n",
       "    .dataframe tbody tr th {\n",
       "        vertical-align: top;\n",
       "    }\n",
       "\n",
       "    .dataframe thead th {\n",
       "        text-align: right;\n",
       "    }\n",
       "</style>\n",
       "<table border=\"1\" class=\"dataframe\">\n",
       "  <thead>\n",
       "    <tr style=\"text-align: right;\">\n",
       "      <th></th>\n",
       "      <th>id</th>\n",
       "      <th>format</th>\n",
       "      <th>mode</th>\n",
       "      <th>width_px</th>\n",
       "      <th>height_px</th>\n",
       "      <th>r</th>\n",
       "      <th>g</th>\n",
       "      <th>b</th>\n",
       "      <th>a</th>\n",
       "    </tr>\n",
       "  </thead>\n",
       "  <tbody>\n",
       "    <tr>\n",
       "      <th>0</th>\n",
       "      <td>voice156</td>\n",
       "      <td>PNG</td>\n",
       "      <td>RGBA</td>\n",
       "      <td>610</td>\n",
       "      <td>450</td>\n",
       "      <td>[ 45.  45.  45. ... 254. 254. 254.]</td>\n",
       "      <td>[ 17.  17.  17. ... 207. 207. 207.]</td>\n",
       "      <td>[ 97.  97.  97. ... 146. 146. 146.]</td>\n",
       "      <td>[255. 255. 255. ... 255. 255. 255.]</td>\n",
       "    </tr>\n",
       "    <tr>\n",
       "      <th>1</th>\n",
       "      <td>voice142</td>\n",
       "      <td>PNG</td>\n",
       "      <td>RGBA</td>\n",
       "      <td>610</td>\n",
       "      <td>450</td>\n",
       "      <td>[ 47.  47.  47. ... 254. 254. 254.]</td>\n",
       "      <td>[ 17.  17.  17. ... 207. 207. 207.]</td>\n",
       "      <td>[ 99.  99.  99. ... 146. 146. 146.]</td>\n",
       "      <td>[255. 255. 255. ... 255. 255. 255.]</td>\n",
       "    </tr>\n",
       "    <tr>\n",
       "      <th>2</th>\n",
       "      <td>voice195</td>\n",
       "      <td>PNG</td>\n",
       "      <td>RGBA</td>\n",
       "      <td>610</td>\n",
       "      <td>450</td>\n",
       "      <td>[ 47.  47.  47. ... 254. 254. 254.]</td>\n",
       "      <td>[ 17.  17.  17. ... 207. 207. 207.]</td>\n",
       "      <td>[ 99.  99.  99. ... 146. 146. 146.]</td>\n",
       "      <td>[255. 255. 255. ... 255. 255. 255.]</td>\n",
       "    </tr>\n",
       "  </tbody>\n",
       "</table>\n",
       "</div>"
      ],
      "text/plain": [
       "         id format  mode  width_px  height_px  \\\n",
       "0  voice156    PNG  RGBA       610        450   \n",
       "1  voice142    PNG  RGBA       610        450   \n",
       "2  voice195    PNG  RGBA       610        450   \n",
       "\n",
       "                                     r                                    g  \\\n",
       "0  [ 45.  45.  45. ... 254. 254. 254.]  [ 17.  17.  17. ... 207. 207. 207.]   \n",
       "1  [ 47.  47.  47. ... 254. 254. 254.]  [ 17.  17.  17. ... 207. 207. 207.]   \n",
       "2  [ 47.  47.  47. ... 254. 254. 254.]  [ 17.  17.  17. ... 207. 207. 207.]   \n",
       "\n",
       "                                     b                                    a  \n",
       "0  [ 97.  97.  97. ... 146. 146. 146.]  [255. 255. 255. ... 255. 255. 255.]  \n",
       "1  [ 99.  99.  99. ... 146. 146. 146.]  [255. 255. 255. ... 255. 255. 255.]  \n",
       "2  [ 99.  99.  99. ... 146. 146. 146.]  [255. 255. 255. ... 255. 255. 255.]  "
      ]
     },
     "execution_count": 19,
     "metadata": {},
     "output_type": "execute_result"
    }
   ],
   "source": [
    "spec_df = dataframes['spectrogram_df']\n",
    "spec_df"
   ]
  },
  {
   "cell_type": "code",
   "execution_count": 24,
   "id": "9a074541-cbaf-448e-a02d-7a70b1213c34",
   "metadata": {},
   "outputs": [],
   "source": [
    "img_width = spec_df['width_px'][0]\n",
    "img_height = spec_df['height_px'][0]\n",
    "\n",
    "img_shape = (img_width, img_height)"
   ]
  },
  {
   "cell_type": "code",
   "execution_count": 30,
   "id": "fdf9d796-c789-4908-9892-6da88eef1293",
   "metadata": {},
   "outputs": [
    {
     "data": {
      "text/plain": [
       "'[ 45.  45.  45. ... 254. 254. 254.]'"
      ]
     },
     "execution_count": 30,
     "metadata": {},
     "output_type": "execute_result"
    }
   ],
   "source": [
    "rgba_df = spec_df[['r', 'g', 'b', 'a']].copy()\n",
    "rgba_df['r'][0]"
   ]
  },
  {
   "cell_type": "code",
   "execution_count": 36,
   "id": "9c85e930-241c-41b1-8fcf-5fadafc94107",
   "metadata": {},
   "outputs": [
    {
     "name": "stdout",
     "output_type": "stream",
     "text": [
      "['', '45.', '', '45.', '', '45.', '...', '254.', '254.', '254.']\n",
      "10\n",
      "['', '47.', '', '47.', '', '47.', '...', '254.', '254.', '254.']\n",
      "10\n",
      "['', '47.', '', '47.', '', '47.', '...', '254.', '254.', '254.']\n",
      "10\n"
     ]
    }
   ],
   "source": [
    "for idx, row in rgba_df.iterrows():\n",
    "    val_string = row['r'].strip(\"[]\").split(\" \")\n",
    "    print(val_string)\n",
    "    print(len(val_string))"
   ]
  },
  {
   "cell_type": "code",
   "execution_count": 26,
   "id": "55e31a9b-48aa-44f0-9c47-e001a650902b",
   "metadata": {},
   "outputs": [
    {
     "ename": "ValueError",
     "evalue": "cannot reshape array of size 12 into shape (610,450,4)",
     "output_type": "error",
     "traceback": [
      "\u001b[0;31m---------------------------------------------------------------------------\u001b[0m",
      "\u001b[0;31mValueError\u001b[0m                                Traceback (most recent call last)",
      "Cell \u001b[0;32mIn[26], line 1\u001b[0m\n\u001b[0;32m----> 1\u001b[0m image_array \u001b[38;5;241m=\u001b[39m \u001b[43mspec_df\u001b[49m\u001b[43m[\u001b[49m\u001b[43m[\u001b[49m\u001b[38;5;124;43m'\u001b[39;49m\u001b[38;5;124;43mr\u001b[39;49m\u001b[38;5;124;43m'\u001b[39;49m\u001b[43m,\u001b[49m\u001b[43m \u001b[49m\u001b[38;5;124;43m'\u001b[39;49m\u001b[38;5;124;43mg\u001b[39;49m\u001b[38;5;124;43m'\u001b[39;49m\u001b[43m,\u001b[49m\u001b[43m \u001b[49m\u001b[38;5;124;43m'\u001b[39;49m\u001b[38;5;124;43mb\u001b[39;49m\u001b[38;5;124;43m'\u001b[39;49m\u001b[43m,\u001b[49m\u001b[43m \u001b[49m\u001b[38;5;124;43m'\u001b[39;49m\u001b[38;5;124;43ma\u001b[39;49m\u001b[38;5;124;43m'\u001b[39;49m\u001b[43m]\u001b[49m\u001b[43m]\u001b[49m\u001b[38;5;241;43m.\u001b[39;49m\u001b[43mvalues\u001b[49m\u001b[38;5;241;43m.\u001b[39;49m\u001b[43mreshape\u001b[49m\u001b[43m(\u001b[49m\u001b[38;5;241;43m*\u001b[39;49m\u001b[43mimg_shape\u001b[49m\u001b[43m,\u001b[49m\u001b[43m \u001b[49m\u001b[38;5;241;43m4\u001b[39;49m\u001b[43m)\u001b[49m\n\u001b[1;32m      2\u001b[0m image_array\n",
      "\u001b[0;31mValueError\u001b[0m: cannot reshape array of size 12 into shape (610,450,4)"
     ]
    }
   ],
   "source": [
    "image_array = spec_df[['r', 'g', 'b', 'a']].values.reshape(*img_shape, 4)\n",
    "image_array"
   ]
  },
  {
   "cell_type": "code",
   "execution_count": null,
   "id": "45195295-86df-44c5-a9b4-a9b0285d39a0",
   "metadata": {},
   "outputs": [],
   "source": []
  }
 ],
 "metadata": {
  "kernelspec": {
   "display_name": "dev",
   "language": "python",
   "name": "dev"
  },
  "language_info": {
   "codemirror_mode": {
    "name": "ipython",
    "version": 3
   },
   "file_extension": ".py",
   "mimetype": "text/x-python",
   "name": "python",
   "nbconvert_exporter": "python",
   "pygments_lexer": "ipython3",
   "version": "3.10.13"
  }
 },
 "nbformat": 4,
 "nbformat_minor": 5
}

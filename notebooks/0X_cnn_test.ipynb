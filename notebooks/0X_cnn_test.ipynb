{
 "cells": [
  {
   "cell_type": "markdown",
   "id": "dccec8ac-f581-43ac-9bc1-0f7990e2babb",
   "metadata": {},
   "source": [
    "# Spectrograms - CNN Test"
   ]
  },
  {
   "cell_type": "code",
   "execution_count": 31,
   "id": "73c08064-cefb-4825-8b08-22d6cf32cf1e",
   "metadata": {},
   "outputs": [],
   "source": [
    "# Import dependencies\n",
    "from sklearn.model_selection import train_test_split\n",
    "from sklearn.preprocessing import MinMaxScaler\n",
    "from tensorflow.keras.models import Sequential\n",
    "from tensorflow.keras.layers import Conv2D, MaxPooling2D, Flatten, Dense\n",
    "\n",
    "import sqlalchemy\n",
    "from sqlalchemy import create_engine, inspect\n",
    "\n",
    "import numpy as np\n",
    "import pandas as pd\n",
    "import tensorflow as tf\n",
    "import keras_tuner as kt\n",
    "from pprint import pprint\n",
    "\n",
    "import os\n",
    "import time\n",
    "from datetime import datetime\n",
    "\n",
    "%run functions.ipynb"
   ]
  },
  {
   "cell_type": "code",
   "execution_count": 5,
   "id": "d31b3c1b-40f0-435a-9d1b-87d9d0455829",
   "metadata": {},
   "outputs": [],
   "source": [
    "# Time the run\n",
    "start_time = time.time()"
   ]
  },
  {
   "cell_type": "markdown",
   "id": "ab375b12-84f6-4aa4-9143-3f53f1505185",
   "metadata": {},
   "source": [
    "## Import datasets"
   ]
  },
  {
   "cell_type": "code",
   "execution_count": 6,
   "id": "b40a6a3f-08bc-4e8d-93c3-52b14852386f",
   "metadata": {},
   "outputs": [
    {
     "data": {
      "text/plain": [
       "['aval',\n",
       " 'bval',\n",
       " 'demographic',\n",
       " 'diagnosis',\n",
       " 'gval',\n",
       " 'habits',\n",
       " 'rval',\n",
       " 'spectrogram']"
      ]
     },
     "execution_count": 6,
     "metadata": {},
     "output_type": "execute_result"
    }
   ],
   "source": [
    "# Import the data\n",
    "engine = create_engine(\"sqlite:///voice.sqlite\")\n",
    "\n",
    "# View all of the classes\n",
    "inspector = inspect(engine)\n",
    "table_names = inspector.get_table_names()\n",
    "table_names"
   ]
  },
  {
   "cell_type": "code",
   "execution_count": 7,
   "id": "7cfc2b81-fade-49ed-aa2f-801200d29cdf",
   "metadata": {},
   "outputs": [],
   "source": [
    "# Initialise a dictionary to hold dataframes\n",
    "dataframes = dict()\n",
    "\n",
    "# Loop through each table\n",
    "for table in table_names:\n",
    "    \n",
    "    # Dataframe name\n",
    "    df_name = f'{table}_df'\n",
    "    \n",
    "    # Create dataframe\n",
    "    dataframes[df_name] = pd.read_sql(\n",
    "        f'SELECT * FROM {table}',\n",
    "        engine\n",
    "    )"
   ]
  },
  {
   "cell_type": "markdown",
   "id": "ef3cbb4f-ef85-492b-b7ca-b2ee7d0fda0c",
   "metadata": {},
   "source": [
    "## Preprocessing"
   ]
  },
  {
   "cell_type": "markdown",
   "id": "0105ad46-1c1f-4581-963d-a861a1560fd3",
   "metadata": {},
   "source": [
    "### Define the target variable"
   ]
  },
  {
   "cell_type": "code",
   "execution_count": 22,
   "id": "8bc0cb4c-fb0e-494a-90a2-a0fcb56b1fdd",
   "metadata": {},
   "outputs": [
    {
     "data": {
      "text/plain": [
       "0      0\n",
       "1      0\n",
       "2      1\n",
       "3      1\n",
       "4      1\n",
       "      ..\n",
       "199    0\n",
       "200    1\n",
       "201    1\n",
       "202    0\n",
       "203    0\n",
       "Name: diagnosis, Length: 204, dtype: int64"
      ]
     },
     "execution_count": 22,
     "metadata": {},
     "output_type": "execute_result"
    }
   ],
   "source": [
    "# Isolate the diagnosis column\n",
    "y = dataframes['diagnosis_df']['diagnosis'].copy()\n",
    "\n",
    "# Encode the target variable, ignore subtype\n",
    "y = y.apply(encode_binary)\n",
    "y"
   ]
  },
  {
   "cell_type": "markdown",
   "id": "d34a8975-8836-4a4e-8006-5b739c42be76",
   "metadata": {},
   "source": [
    "### Reshape feature variables"
   ]
  },
  {
   "cell_type": "code",
   "execution_count": 56,
   "id": "ef90a24e-9a4d-4386-a5e0-20b856a60596",
   "metadata": {},
   "outputs": [],
   "source": [
    "# Input shape\n",
    "width_px = 225\n",
    "height_px = 166\n",
    "num_channels = 4 # since RGBA\n",
    "\n",
    "# Define inputs\n",
    "input_shape = (height_px, width_px, num_channels)\n",
    "input_reshape = (height_px, width_px)"
   ]
  },
  {
   "cell_type": "code",
   "execution_count": 57,
   "id": "3d270411-efd0-4040-a18f-ecf59480c215",
   "metadata": {
    "scrolled": true,
    "tags": []
   },
   "outputs": [
    {
     "data": {
      "text/plain": [
       "array([[[[ 47,  17,  99, 255],\n",
       "         [ 47,  17,  99, 255],\n",
       "         [ 43,  16,  93, 255],\n",
       "         ...,\n",
       "         [ 35,  11,  70, 255],\n",
       "         [ 47,  16,  90, 255],\n",
       "         [ 49,  17,  93, 255]],\n",
       "\n",
       "        [[ 45,  17,  97, 255],\n",
       "         [ 45,  17,  98, 255],\n",
       "         [ 41,  16,  90, 255],\n",
       "         ...,\n",
       "         [ 49,  15,  93, 255],\n",
       "         [ 59,  16, 108, 255],\n",
       "         [ 60,  15, 111, 255]],\n",
       "\n",
       "        [[ 46,  17,  98, 255],\n",
       "         [ 46,  17,  99, 255],\n",
       "         [ 43,  16,  92, 255],\n",
       "         ...,\n",
       "         [ 29,  13,  68, 255],\n",
       "         [ 51,  16,  99, 255],\n",
       "         [ 54,  16, 104, 255]],\n",
       "\n",
       "        ...,\n",
       "\n",
       "        [[215,  69, 107, 255],\n",
       "         [215,  69, 107, 255],\n",
       "         [211,  67, 109, 255],\n",
       "         ...,\n",
       "         [ 76,  18, 120, 255],\n",
       "         [184,  56, 115, 255],\n",
       "         [201,  62, 114, 255]],\n",
       "\n",
       "        [[235,  90,  96, 255],\n",
       "         [235,  90,  96, 255],\n",
       "         [231,  87,  98, 255],\n",
       "         ...,\n",
       "         [ 91,  20, 125, 255],\n",
       "         [206,  70, 105, 255],\n",
       "         [225,  77, 101, 255]],\n",
       "\n",
       "        [[250, 158, 116, 255],\n",
       "         [250, 158, 116, 255],\n",
       "         [249, 157, 116, 255],\n",
       "         ...,\n",
       "         [162, 103, 138, 255],\n",
       "         [236, 150, 123, 255],\n",
       "         [248, 157, 120, 255]]],\n",
       "\n",
       "\n",
       "       [[[ 47,  17,  99, 255],\n",
       "         [ 47,  17,  99, 255],\n",
       "         [ 43,  16,  93, 255],\n",
       "         ...,\n",
       "         [ 17,   9,  44, 255],\n",
       "         [ 22,  12,  56, 255],\n",
       "         [ 23,  12,  58, 255]],\n",
       "\n",
       "        [[ 47,  17,  99, 255],\n",
       "         [ 47,  17,  99, 255],\n",
       "         [ 43,  16,  93, 255],\n",
       "         ...,\n",
       "         [ 12,   6,  32, 255],\n",
       "         [ 18,  10,  47, 255],\n",
       "         [ 18,  11,  49, 255]],\n",
       "\n",
       "        [[ 47,  17,  99, 255],\n",
       "         [ 47,  17,  99, 255],\n",
       "         [ 43,  16,  93, 255],\n",
       "         ...,\n",
       "         [ 10,   8,  32, 255],\n",
       "         [ 18,  11,  49, 255],\n",
       "         [ 20,  12,  51, 255]],\n",
       "\n",
       "        ...,\n",
       "\n",
       "        [[215,  69, 107, 255],\n",
       "         [215,  69, 107, 255],\n",
       "         [211,  67, 109, 255],\n",
       "         ...,\n",
       "         [178,  53, 121, 255],\n",
       "         [206,  65, 110, 255],\n",
       "         [211,  67, 109, 255]],\n",
       "\n",
       "        [[235,  90,  96, 255],\n",
       "         [235,  90,  96, 255],\n",
       "         [231,  87,  98, 255],\n",
       "         ...,\n",
       "         [215,  68, 106, 255],\n",
       "         [234,  89,  96, 255],\n",
       "         [237,  92,  95, 255]],\n",
       "\n",
       "        [[250, 158, 116, 255],\n",
       "         [250, 158, 116, 255],\n",
       "         [249, 157, 116, 255],\n",
       "         ...,\n",
       "         [244, 147, 121, 255],\n",
       "         [250, 156, 116, 255],\n",
       "         [251, 158, 115, 255]]],\n",
       "\n",
       "\n",
       "       [[[ 47,  17,  99, 255],\n",
       "         [ 47,  17,  99, 255],\n",
       "         [ 43,  16,  93, 255],\n",
       "         ...,\n",
       "         [ 13,   8,  37, 255],\n",
       "         [ 53,  15, 100, 255],\n",
       "         [ 59,  16, 110, 255]],\n",
       "\n",
       "        [[ 47,  17,  99, 255],\n",
       "         [ 47,  17,  99, 255],\n",
       "         [ 43,  16,  93, 255],\n",
       "         ...,\n",
       "         [ 22,  12,  55, 255],\n",
       "         [ 64,  15, 109, 255],\n",
       "         [ 71,  16, 118, 255]],\n",
       "\n",
       "        [[ 47,  17,  99, 255],\n",
       "         [ 47,  17,  99, 255],\n",
       "         [ 43,  16,  92, 255],\n",
       "         ...,\n",
       "         [ 39,  16,  87, 255],\n",
       "         [ 61,  16, 109, 255],\n",
       "         [ 64,  16, 112, 255]],\n",
       "\n",
       "        ...,\n",
       "\n",
       "        [[215,  69, 107, 255],\n",
       "         [215,  69, 107, 255],\n",
       "         [211,  67, 109, 255],\n",
       "         ...,\n",
       "         [133,  38, 126, 255],\n",
       "         [190,  59, 116, 255],\n",
       "         [198,  62, 114, 255]],\n",
       "\n",
       "        [[235,  90,  96, 255],\n",
       "         [235,  90,  96, 255],\n",
       "         [231,  87,  98, 255],\n",
       "         ...,\n",
       "         [185,  54, 119, 255],\n",
       "         [228,  84,  98, 255],\n",
       "         [235,  89,  95, 255]],\n",
       "\n",
       "        [[250, 158, 116, 255],\n",
       "         [250, 158, 116, 255],\n",
       "         [249, 157, 116, 255],\n",
       "         ...,\n",
       "         [223, 126, 131, 255],\n",
       "         [246, 155, 121, 255],\n",
       "         [250, 160, 119, 255]]]])"
      ]
     },
     "execution_count": 57,
     "metadata": {},
     "output_type": "execute_result"
    }
   ],
   "source": [
    "# Rename the dataframes\n",
    "df_r = dataframes['rval_df']\n",
    "df_g = dataframes['gval_df']\n",
    "df_b = dataframes['bval_df']\n",
    "df_a = dataframes['aval_df']\n",
    "\n",
    "# Reshape each RGBA dataframe to original dimensions\n",
    "data_r = np.array([df_r[col].values.reshape(input_reshape) for col in df_r.columns])\n",
    "data_g = np.array([df_g[col].values.reshape(input_reshape) for col in df_g.columns])\n",
    "data_b = np.array([df_b[col].values.reshape(input_reshape) for col in df_b.columns])\n",
    "data_a = np.array([df_a[col].values.reshape(input_reshape) for col in df_a.columns])\n",
    "\n",
    "# Define the feature variables\n",
    "X = np.stack([\n",
    "    data_r,\n",
    "    data_g,\n",
    "    data_b,\n",
    "    data_a],\n",
    "    axis = -1\n",
    ")\n",
    "\n",
    "# Display the first 3 for confirmation\n",
    "X[:3]"
   ]
  },
  {
   "cell_type": "markdown",
   "id": "4a81b27a-6d69-4c62-ad0c-be03274b1c56",
   "metadata": {},
   "source": [
    "### Split and Scale"
   ]
  },
  {
   "cell_type": "code",
   "execution_count": 58,
   "id": "17852889-cc6f-45c1-9137-425699042d0e",
   "metadata": {},
   "outputs": [],
   "source": [
    "# Split the preprocessed data to training and testing datasets\n",
    "X_train, X_test, y_train, y_test = train_test_split(X, y, stratify=y)"
   ]
  },
  {
   "cell_type": "code",
   "execution_count": 59,
   "id": "63b7d129-5346-41e9-9f8f-0c00f43e7552",
   "metadata": {},
   "outputs": [
    {
     "data": {
      "text/plain": [
       "array([[ 47,  17,  99, ..., 161, 120, 255],\n",
       "       [ 47,  17,  99, ..., 162, 120, 255],\n",
       "       [ 47,  17,  99, ..., 162, 120, 255],\n",
       "       ...,\n",
       "       [ 46,  17,  98, ..., 162, 120, 255],\n",
       "       [ 47,  17,  99, ..., 162, 120, 255],\n",
       "       [ 47,  17,  99, ..., 160, 119, 255]])"
      ]
     },
     "execution_count": 59,
     "metadata": {},
     "output_type": "execute_result"
    }
   ],
   "source": [
    "# Reshape the data\n",
    "X_train_reshaped = X_train.reshape((\n",
    "    X_train.shape[0], # total number of samples\n",
    "    height_px * width_px * num_channels # total number flattened\n",
    "))\n",
    "\n",
    "X_test_reshaped = X_test.reshape((\n",
    "    X_test.shape[0],\n",
    "    height_px * width_px * num_channels\n",
    "    ))\n",
    "X_train_reshaped"
   ]
  },
  {
   "cell_type": "code",
   "execution_count": 60,
   "id": "d6bb194c-d93c-446f-be5f-e5f4874b28e2",
   "metadata": {},
   "outputs": [],
   "source": [
    "# Normalize training data to be between 0 and 1\n",
    "X_scaler = MinMaxScaler()\n",
    "\n",
    "# Scale the data\n",
    "X_train_scaled = X_scaler.fit_transform(X_train_reshaped)\n",
    "X_test_scaled = X_scaler.fit_transform(X_test_reshaped)\n",
    "\n",
    "# Reshape the data back to the original\n",
    "X_train_scaled = X_train_scaled.reshape((\n",
    "    X_train_scaled.shape[0],\n",
    "    height_px,\n",
    "    width_px,\n",
    "    num_channels\n",
    "))\n",
    "X_test_scaled = X_test_scaled.reshape((\n",
    "    X_test_scaled.shape[0],\n",
    "    height_px,\n",
    "    width_px,\n",
    "    num_channels\n",
    "))"
   ]
  },
  {
   "cell_type": "markdown",
   "id": "7b7a1eb6-3f65-4e03-96eb-4eeaef0e7ce2",
   "metadata": {},
   "source": [
    "## Hyperparameter Tuning"
   ]
  },
  {
   "cell_type": "code",
   "execution_count": null,
   "id": "2b5008b9-21ef-431b-9abb-6a9195d308de",
   "metadata": {},
   "outputs": [],
   "source": [
    "# Define the model parameters\n",
    "# max_conv_layers = "
   ]
  },
  {
   "cell_type": "code",
   "execution_count": 53,
   "id": "644acd4b-6766-4ba6-babe-0dd2c87ed333",
   "metadata": {},
   "outputs": [
    {
     "name": "stdout",
     "output_type": "stream",
     "text": [
      "Epoch 1/15\n",
      "5/5 [==============================] - 1s 253ms/step - loss: 1.4211 - accuracy: 0.5621\n",
      "Epoch 2/15\n",
      "5/5 [==============================] - 1s 236ms/step - loss: 0.6679 - accuracy: 0.7190\n",
      "Epoch 3/15\n",
      "5/5 [==============================] - 1s 231ms/step - loss: 0.6156 - accuracy: 0.7190\n",
      "Epoch 4/15\n",
      "5/5 [==============================] - 1s 229ms/step - loss: 0.5935 - accuracy: 0.7190\n",
      "Epoch 5/15\n",
      "5/5 [==============================] - 1s 228ms/step - loss: 0.5961 - accuracy: 0.7190\n",
      "Epoch 6/15\n",
      "5/5 [==============================] - 1s 225ms/step - loss: 0.5710 - accuracy: 0.7190\n",
      "Epoch 7/15\n",
      "5/5 [==============================] - 1s 228ms/step - loss: 0.5539 - accuracy: 0.7190\n",
      "Epoch 8/15\n",
      "5/5 [==============================] - 1s 230ms/step - loss: 0.5526 - accuracy: 0.7190\n",
      "Epoch 9/15\n",
      "5/5 [==============================] - 1s 231ms/step - loss: 0.5331 - accuracy: 0.7320\n",
      "Epoch 10/15\n",
      "5/5 [==============================] - 1s 230ms/step - loss: 0.4908 - accuracy: 0.7255\n",
      "Epoch 11/15\n",
      "5/5 [==============================] - 1s 232ms/step - loss: 0.4766 - accuracy: 0.8170\n",
      "Epoch 12/15\n",
      "5/5 [==============================] - 1s 228ms/step - loss: 0.4598 - accuracy: 0.7712\n",
      "Epoch 13/15\n",
      "5/5 [==============================] - 1s 230ms/step - loss: 0.3897 - accuracy: 0.8039\n",
      "Epoch 14/15\n",
      "5/5 [==============================] - 1s 244ms/step - loss: 0.3367 - accuracy: 0.8954\n",
      "Epoch 15/15\n",
      "5/5 [==============================] - 1s 234ms/step - loss: 0.3026 - accuracy: 0.8824\n"
     ]
    },
    {
     "data": {
      "text/plain": [
       "<keras.src.callbacks.History at 0x3e4c07cd0>"
      ]
     },
     "execution_count": 53,
     "metadata": {},
     "output_type": "execute_result"
    }
   ],
   "source": [
    "# Define the CNN model\n",
    "model = Sequential()\n",
    "\n",
    "# Add convolutional layers\n",
    "model.add(Conv2D(\n",
    "    32,\n",
    "    (3, 3),\n",
    "    activation='relu',\n",
    "    input_shape = (height_px, width_px, num_channels)\n",
    "))\n",
    "model.add(MaxPooling2D((2, 2)))\n",
    "\n",
    "model.add(Conv2D(\n",
    "    64,\n",
    "    (3, 3),\n",
    "    activation='relu'\n",
    "))\n",
    "\n",
    "model.add(MaxPooling2D((2, 2)))\n",
    "\n",
    "model.add(Conv2D(\n",
    "    128,\n",
    "    (3, 3),\n",
    "    activation='relu'\n",
    "))\n",
    "\n",
    "model.add(MaxPooling2D((2, 2)))\n",
    "\n",
    "# Flatten the output before feeding into the fully connected layers\n",
    "model.add(Flatten())\n",
    "\n",
    "# Add dense layers for classification\n",
    "model.add(Dense(128, activation='relu'))\n",
    "model.add(Dense(1, activation='sigmoid'))  # Binary classification\n",
    "\n",
    "# Compile the model\n",
    "model.compile(\n",
    "    optimizer='adam',\n",
    "    loss='binary_crossentropy',\n",
    "    metrics=['accuracy'])\n",
    "\n",
    "# Train the model\n",
    "model.fit(\n",
    "    X_train_scaled,\n",
    "    y_train,\n",
    "    epochs = 15,\n",
    "    verbose = 1\n",
    ")"
   ]
  },
  {
   "cell_type": "code",
   "execution_count": 54,
   "id": "fbbb5ccb-6a4b-4f15-8b58-e44678602258",
   "metadata": {},
   "outputs": [
    {
     "name": "stdout",
     "output_type": "stream",
     "text": [
      "WARNING:tensorflow:5 out of the last 29 calls to <function Model.make_test_function.<locals>.test_function at 0x3e48192d0> triggered tf.function retracing. Tracing is expensive and the excessive number of tracings could be due to (1) creating @tf.function repeatedly in a loop, (2) passing tensors with different shapes, (3) passing Python objects instead of tensors. For (1), please define your @tf.function outside of the loop. For (2), @tf.function has reduce_retracing=True option that can avoid unnecessary retracing. For (3), please refer to https://www.tensorflow.org/guide/function#controlling_retracing and https://www.tensorflow.org/api_docs/python/tf/function for  more details.\n",
      "2/2 - 0s - loss: 1.0612 - accuracy: 0.7255 - 161ms/epoch - 80ms/step\n",
      "Loss: 1.0612342357635498, Accuracy: 0.7254902124404907\n"
     ]
    }
   ],
   "source": [
    "# Evaluate the model using the test data\n",
    "model_loss, model_accuracy = model.evaluate(\n",
    "    X_test_scaled,\n",
    "    y_test,\n",
    "    verbose = 2\n",
    ")\n",
    "print(f\"Loss: {model_loss}, Accuracy: {model_accuracy}\")"
   ]
  },
  {
   "cell_type": "code",
   "execution_count": null,
   "id": "587e31b0-6a07-484d-8be6-9b27131656ff",
   "metadata": {},
   "outputs": [],
   "source": []
  }
 ],
 "metadata": {
  "kernelspec": {
   "display_name": "dev",
   "language": "python",
   "name": "dev"
  },
  "language_info": {
   "codemirror_mode": {
    "name": "ipython",
    "version": 3
   },
   "file_extension": ".py",
   "mimetype": "text/x-python",
   "name": "python",
   "nbconvert_exporter": "python",
   "pygments_lexer": "ipython3",
   "version": "3.10.13"
  }
 },
 "nbformat": 4,
 "nbformat_minor": 5
}

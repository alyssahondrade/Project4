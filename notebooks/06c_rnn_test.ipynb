{
 "cells": [
  {
   "cell_type": "markdown",
   "id": "1fe2e6ea-a3f8-44a1-82e2-00d128c550da",
   "metadata": {},
   "source": [
    "# Temporal Features - RNN Test"
   ]
  },
  {
   "cell_type": "code",
   "execution_count": 1,
   "id": "028aed2f-873d-4fa1-ae23-93b590bdfb6b",
   "metadata": {},
   "outputs": [],
   "source": [
    "# Import dependencies\n",
    "from sklearn.model_selection import train_test_split\n",
    "from sklearn.preprocessing import MinMaxScaler, StandardScaler\n",
    "from tensorflow.keras.models import Sequential\n",
    "from tensorflow.keras.layers import LSTM, Dense\n",
    "\n",
    "import sqlalchemy\n",
    "from sqlalchemy import create_engine, inspect\n",
    "\n",
    "import math\n",
    "import numpy as np\n",
    "import pandas as pd\n",
    "import tensorflow as tf\n",
    "import keras_tuner as kt\n",
    "from pprint import pprint\n",
    "\n",
    "import os\n",
    "import sys\n",
    "import time\n",
    "from datetime import datetime\n",
    "from contextlib import redirect_stdout\n",
    "\n",
    "%run functions.ipynb"
   ]
  },
  {
   "cell_type": "code",
   "execution_count": 2,
   "id": "879cf4ad-b667-4d63-b572-275279596f32",
   "metadata": {},
   "outputs": [],
   "source": [
    "# Time the run\n",
    "start_time = time.time()"
   ]
  },
  {
   "cell_type": "markdown",
   "id": "6ec7696a-743d-4244-ba9b-7348d5009485",
   "metadata": {},
   "source": [
    "## Import datasets"
   ]
  },
  {
   "cell_type": "code",
   "execution_count": 3,
   "id": "b89f9165-2db3-4ab8-b989-2f5096680ee9",
   "metadata": {},
   "outputs": [
    {
     "data": {
      "text/plain": [
       "['alexaval',\n",
       " 'alexbval',\n",
       " 'alexgval',\n",
       " 'alexrval',\n",
       " 'aval',\n",
       " 'bval',\n",
       " 'chroma1',\n",
       " 'chroma10',\n",
       " 'chroma11',\n",
       " 'chroma12',\n",
       " 'chroma2',\n",
       " 'chroma3',\n",
       " 'chroma4',\n",
       " 'chroma5',\n",
       " 'chroma6',\n",
       " 'chroma7',\n",
       " 'chroma8',\n",
       " 'chroma9',\n",
       " 'chromastd',\n",
       " 'delta',\n",
       " 'deltachroma1',\n",
       " 'deltachroma10',\n",
       " 'deltachroma11',\n",
       " 'deltachroma12',\n",
       " 'deltachroma2',\n",
       " 'deltachroma3',\n",
       " 'deltachroma4',\n",
       " 'deltachroma5',\n",
       " 'deltachroma6',\n",
       " 'deltachroma7',\n",
       " 'deltachroma8',\n",
       " 'deltachroma9',\n",
       " 'deltachromastd',\n",
       " 'deltaenergy',\n",
       " 'deltaenergyentropy',\n",
       " 'deltamfcc1',\n",
       " 'deltamfcc10',\n",
       " 'deltamfcc11',\n",
       " 'deltamfcc12',\n",
       " 'deltamfcc13',\n",
       " 'deltamfcc2',\n",
       " 'deltamfcc3',\n",
       " 'deltamfcc4',\n",
       " 'deltamfcc5',\n",
       " 'deltamfcc6',\n",
       " 'deltamfcc7',\n",
       " 'deltamfcc8',\n",
       " 'deltamfcc9',\n",
       " 'deltaspectralcentroid',\n",
       " 'deltaspectralentropy',\n",
       " 'deltaspectralflux',\n",
       " 'deltaspectralrolloff',\n",
       " 'deltaspectralspread',\n",
       " 'deltazcr',\n",
       " 'demographic',\n",
       " 'diagnosis',\n",
       " 'energy',\n",
       " 'energyentropy',\n",
       " 'gval',\n",
       " 'habits',\n",
       " 'mfcc1',\n",
       " 'mfcc10',\n",
       " 'mfcc11',\n",
       " 'mfcc12',\n",
       " 'mfcc13',\n",
       " 'mfcc2',\n",
       " 'mfcc3',\n",
       " 'mfcc4',\n",
       " 'mfcc5',\n",
       " 'mfcc6',\n",
       " 'mfcc7',\n",
       " 'mfcc8',\n",
       " 'mfcc9',\n",
       " 'pylabaval',\n",
       " 'pylabbval',\n",
       " 'pylabgval',\n",
       " 'pylabrval',\n",
       " 'rval',\n",
       " 'spectralcentroid',\n",
       " 'spectralentropy',\n",
       " 'spectralflux',\n",
       " 'spectralrolloff',\n",
       " 'spectralspread',\n",
       " 'zcr']"
      ]
     },
     "execution_count": 3,
     "metadata": {},
     "output_type": "execute_result"
    }
   ],
   "source": [
    "# Import the data\n",
    "engine = create_engine(\"sqlite:///voice.sqlite\")\n",
    "\n",
    "# View all of the classes\n",
    "inspector = inspect(engine)\n",
    "table_names = inspector.get_table_names()\n",
    "table_names"
   ]
  },
  {
   "cell_type": "code",
   "execution_count": 4,
   "id": "2c51d2fc-87ba-4738-8f0a-e0d6e426feec",
   "metadata": {},
   "outputs": [],
   "source": [
    "# Initialise a dictionary to hold dataframes\n",
    "dataframes = dict()\n",
    "\n",
    "# Loop through each table\n",
    "for table in table_names:\n",
    "    \n",
    "    # Dataframe name\n",
    "    df_name = f'{table}_df'\n",
    "    \n",
    "    # Create dataframe\n",
    "    dataframes[df_name] = pd.read_sql(\n",
    "        f'SELECT * FROM {table}',\n",
    "        engine\n",
    "    )"
   ]
  },
  {
   "cell_type": "markdown",
   "id": "e87cc641-3a09-4fda-9182-2beee95a1691",
   "metadata": {},
   "source": [
    "## Preprocessing"
   ]
  },
  {
   "cell_type": "markdown",
   "id": "33722cab-07f6-4394-b119-3e4a857d68ef",
   "metadata": {},
   "source": [
    "### Define the target variable"
   ]
  },
  {
   "cell_type": "code",
   "execution_count": 5,
   "id": "d75a95e3-6157-487d-ad9c-f9efb9401dfa",
   "metadata": {},
   "outputs": [
    {
     "data": {
      "text/plain": [
       "0      1\n",
       "1      0\n",
       "2      1\n",
       "3      1\n",
       "4      1\n",
       "      ..\n",
       "199    0\n",
       "200    1\n",
       "201    0\n",
       "202    0\n",
       "203    1\n",
       "Name: diagnosis, Length: 204, dtype: int64"
      ]
     },
     "execution_count": 5,
     "metadata": {},
     "output_type": "execute_result"
    }
   ],
   "source": [
    "# Isolate the diagnosis column\n",
    "diagnosis_df = dataframes['diagnosis_df'].sort_values(by='id').reset_index(drop=True)\n",
    "y = diagnosis_df['diagnosis'].copy()\n",
    "\n",
    "# Encode the target variable, ignore subtype\n",
    "y = y.apply(encode_binary)\n",
    "y"
   ]
  },
  {
   "cell_type": "markdown",
   "id": "f0cf2364-2503-4759-8675-89833eca597b",
   "metadata": {},
   "source": [
    "### Recombine the feature variables"
   ]
  },
  {
   "cell_type": "code",
   "execution_count": 6,
   "id": "599056cd-c897-4473-aa3b-6fba067ac9f9",
   "metadata": {
    "tags": []
   },
   "outputs": [
    {
     "data": {
      "text/html": [
       "<div>\n",
       "<style scoped>\n",
       "    .dataframe tbody tr th:only-of-type {\n",
       "        vertical-align: middle;\n",
       "    }\n",
       "\n",
       "    .dataframe tbody tr th {\n",
       "        vertical-align: top;\n",
       "    }\n",
       "\n",
       "    .dataframe thead th {\n",
       "        text-align: right;\n",
       "    }\n",
       "</style>\n",
       "<table border=\"1\" class=\"dataframe\">\n",
       "  <thead>\n",
       "    <tr style=\"text-align: right;\">\n",
       "      <th></th>\n",
       "      <th>chroma10</th>\n",
       "      <th>chroma11</th>\n",
       "      <th>chroma12</th>\n",
       "      <th>chroma1</th>\n",
       "      <th>chroma2</th>\n",
       "      <th>chroma3</th>\n",
       "      <th>chroma4</th>\n",
       "      <th>chroma5</th>\n",
       "      <th>chroma6</th>\n",
       "      <th>chroma7</th>\n",
       "      <th>...</th>\n",
       "      <th>mfcc6</th>\n",
       "      <th>mfcc7</th>\n",
       "      <th>mfcc8</th>\n",
       "      <th>mfcc9</th>\n",
       "      <th>spectralcentroid</th>\n",
       "      <th>spectralentropy</th>\n",
       "      <th>spectralflux</th>\n",
       "      <th>spectralrolloff</th>\n",
       "      <th>spectralspread</th>\n",
       "      <th>zcr</th>\n",
       "    </tr>\n",
       "  </thead>\n",
       "  <tbody>\n",
       "    <tr>\n",
       "      <th>0</th>\n",
       "      <td>[8.160939658571425e-36, 8.160939658571425e-36,...</td>\n",
       "      <td>[6.259135778625184e-35, 6.259135778625184e-35,...</td>\n",
       "      <td>[6.521327966022236e-37, 6.521327966022236e-37,...</td>\n",
       "      <td>[1.981977565762179e-36, 1.981977565762179e-36,...</td>\n",
       "      <td>[1.3575144582002011e-36, 1.3575144582002011e-3...</td>\n",
       "      <td>[0.2, 0.2, 0.2, 0.0083557589856543, 0.00571074...</td>\n",
       "      <td>[4.104873703767106e-36, 4.104873703767106e-36,...</td>\n",
       "      <td>[2.155332585060541e-35, 2.155332585060541e-35,...</td>\n",
       "      <td>[5.559684454245396e-36, 5.559684454245396e-36,...</td>\n",
       "      <td>[1.3576749403691584e-33, 1.3576749403691584e-3...</td>\n",
       "      <td>...</td>\n",
       "      <td>[1.1190399446969557e-07, 1.1190399446969557e-0...</td>\n",
       "      <td>[8.413179620042933e-08, 8.413179620042933e-08,...</td>\n",
       "      <td>[6.508014845220068e-08, 6.508014845220068e-08,...</td>\n",
       "      <td>[4.8439279586533656e-08, 4.8439279586533656e-0...</td>\n",
       "      <td>[0.005, 0.005, 0.005, 0.3465049654087774, 0.28...</td>\n",
       "      <td>[1.223008975714376e-10, 1.223008975714376e-10,...</td>\n",
       "      <td>[0.0, 0.0, 0.0, 0.9996124728099652, 0.00645907...</td>\n",
       "      <td>[0.0, 0.0, 0.0, 0.42, 0.325, 0.33, 0.325, 0.32...</td>\n",
       "      <td>[4.770690588753296e-09, 4.770690588753296e-09,...</td>\n",
       "      <td>[0.0, 0.0, 0.0, 0.0701754385964912, 0.20300751...</td>\n",
       "    </tr>\n",
       "    <tr>\n",
       "      <th>1</th>\n",
       "      <td>[7.013453879267504e-36, 7.013453879267504e-36,...</td>\n",
       "      <td>[0.0, 0.0, 0.0, 0.0166532558508933, 0.07869997...</td>\n",
       "      <td>[0.0, 0.0, 0.0, 0.0129537558999756, 0.00446014...</td>\n",
       "      <td>[0.0, 0.0, 0.0, 0.0030468925055301, 0.00093043...</td>\n",
       "      <td>[7.408793082486265e-37, 7.408793082486265e-37,...</td>\n",
       "      <td>[0.1999999999999999, 0.1999999999999999, 0.199...</td>\n",
       "      <td>[3.4822079082192796e-36, 3.4822079082192796e-3...</td>\n",
       "      <td>[3.341581545922013e-36, 3.341581545922013e-36,...</td>\n",
       "      <td>[0.0, 0.0, 0.0, 0.0251245180249349, 0.02791182...</td>\n",
       "      <td>[8.629140939612992e-35, 8.629140939612992e-35,...</td>\n",
       "      <td>...</td>\n",
       "      <td>[5.570574598767376e-09, 5.570574598767376e-09,...</td>\n",
       "      <td>[2.3875995972436553e-09, 2.3875995972436553e-0...</td>\n",
       "      <td>[2.749349885292186e-10, 2.749349885292186e-10,...</td>\n",
       "      <td>[-1.6617109241744871e-09, -1.6617109241744871e...</td>\n",
       "      <td>[0.005, 0.005, 0.005, 0.2686992943604466, 0.24...</td>\n",
       "      <td>[1.6891478942563823e-09, 1.6891478942563823e-0...</td>\n",
       "      <td>[0.0, 0.0, 0.0, 1.015672065306574, 0.012061107...</td>\n",
       "      <td>[0.0, 0.0, 0.0, 0.305, 0.295, 0.295, 0.295, 0....</td>\n",
       "      <td>[3.0750895132596103e-09, 3.0750895132596103e-0...</td>\n",
       "      <td>[0.0, 0.0, 0.0, 0.0701754385964912, 0.18045112...</td>\n",
       "    </tr>\n",
       "    <tr>\n",
       "      <th>2</th>\n",
       "      <td>[0.0, 0.0, 0.0, 0.0254328104050869, 0.00097298...</td>\n",
       "      <td>[0.0, 0.0, 0.0, 0.0193505451629107, 0.00262743...</td>\n",
       "      <td>[0.0, 0.0, 0.0, 0.0083292562363225, 0.00160357...</td>\n",
       "      <td>[0.0, 0.0, 0.0, 0.0080703610497697, 0.01283563...</td>\n",
       "      <td>[0.0, 0.0, 0.0, 0.0070286755905986, 0.00614136...</td>\n",
       "      <td>[0.2, 0.2, 0.2, 0.0085329179281302, 0.00461212...</td>\n",
       "      <td>[0.0, 0.0, 0.0, 0.0052980532581862, 0.00109933...</td>\n",
       "      <td>[0.0, 0.0, 0.0, 0.00504925682982, 0.0052632757...</td>\n",
       "      <td>[0.0, 0.0, 0.0, 0.0059614712279919, 0.01369267...</td>\n",
       "      <td>[0.0, 0.0, 0.0, 0.0128160916733445, 0.01380721...</td>\n",
       "      <td>...</td>\n",
       "      <td>[0.0, 0.0, 0.0, -0.2599778999084198, -0.290567...</td>\n",
       "      <td>[0.0, 0.0, 0.0, 0.1582810230304283, 0.22599124...</td>\n",
       "      <td>[0.0, 0.0, 0.0, -0.1396072459697239, -0.235683...</td>\n",
       "      <td>[0.0, 0.0, 0.0, -0.2101056367575636, -0.212658...</td>\n",
       "      <td>[0.0049999999999999, 0.0049999999999999, 0.004...</td>\n",
       "      <td>[7.084185505857156e-10, 7.084185505857156e-10,...</td>\n",
       "      <td>[0.0, 0.0, 0.0, 1.0014504084715852, 0.01066764...</td>\n",
       "      <td>[0.0, 0.0, 0.0, 0.33, 0.32, 0.32, 0.32, 0.32, ...</td>\n",
       "      <td>[8.88178419700125e-19, 8.88178419700125e-19, 8...</td>\n",
       "      <td>[0.0, 0.0, 0.0, 0.0651629072681704, 0.17293233...</td>\n",
       "    </tr>\n",
       "    <tr>\n",
       "      <th>3</th>\n",
       "      <td>[2.702574583604019e-36, 2.702574583604019e-36,...</td>\n",
       "      <td>[4.776934641543469e-37, 4.776934641543469e-37,...</td>\n",
       "      <td>[0.0, 0.0, 0.0, 0.0090083795612209, 0.00081537...</td>\n",
       "      <td>[1.1698336326834081e-34, 1.1698336326834081e-3...</td>\n",
       "      <td>[7.2024558647616085e-37, 7.2024558647616085e-3...</td>\n",
       "      <td>[0.2, 0.2, 0.2, 0.0356911864166217, 0.00370847...</td>\n",
       "      <td>[1.3418390923476396e-36, 1.3418390923476396e-3...</td>\n",
       "      <td>[1.2876499240617028e-36, 1.2876499240617028e-3...</td>\n",
       "      <td>[0.0, 0.0, 0.0, 0.0065263846329425, 0.00703412...</td>\n",
       "      <td>[7.234653246625582e-35, 7.234653246625582e-35,...</td>\n",
       "      <td>...</td>\n",
       "      <td>[-9.094534884871259e-08, -9.094534884871259e-0...</td>\n",
       "      <td>[-5.831674649803382e-07, -5.831674649803382e-0...</td>\n",
       "      <td>[-8.326572895673644e-07, -8.326572895673644e-0...</td>\n",
       "      <td>[-6.521214770955914e-07, -6.521214770955914e-0...</td>\n",
       "      <td>[0.005, 0.005, 0.005, 0.2888106496790997, 0.29...</td>\n",
       "      <td>[1.0169918121625369e-11, 1.0169918121625369e-1...</td>\n",
       "      <td>[0.0, 0.0, 0.0, 0.9866939562783864, 0.00961743...</td>\n",
       "      <td>[0.0, 0.0, 0.0, 0.425, 0.425, 0.43, 0.385, 0.3...</td>\n",
       "      <td>[3.904414395649892e-09, 3.904414395649892e-09,...</td>\n",
       "      <td>[0.0, 0.0, 0.0, 0.025062656641604, 0.082706766...</td>\n",
       "    </tr>\n",
       "    <tr>\n",
       "      <th>4</th>\n",
       "      <td>[0.0, 0.0, 0.0, 0.0041882695402504, 0.02049149...</td>\n",
       "      <td>[0.0, 0.0, 0.0, 0.0040731803154477, 0.00261262...</td>\n",
       "      <td>[0.0, 0.0, 0.0, 0.0026445650113565, 0.00700864...</td>\n",
       "      <td>[0.0, 0.0, 0.0, 0.0029177614915496, 0.01259147...</td>\n",
       "      <td>[0.0, 0.0, 0.0, 0.0023704152160725, 0.00010023...</td>\n",
       "      <td>[0.2, 0.2, 0.2, 0.0093191724292075, 0.01320134...</td>\n",
       "      <td>[0.0, 0.0, 0.0, 0.0110916645774918, 0.00755240...</td>\n",
       "      <td>[0.0, 0.0, 0.0, 0.021437601576933, 0.009915651...</td>\n",
       "      <td>[0.0, 0.0, 0.0, 0.0344103741912122, 0.00904430...</td>\n",
       "      <td>[0.0, 0.0, 0.0, 0.0300217717324319, 0.06891515...</td>\n",
       "      <td>...</td>\n",
       "      <td>[0.0, 0.0, 0.0, 0.1528818094724874, 0.05941509...</td>\n",
       "      <td>[0.0, 0.0, 0.0, 0.5976081964535674, 0.33569853...</td>\n",
       "      <td>[0.0, 0.0, 0.0, 0.1015572440453905, 0.04580434...</td>\n",
       "      <td>[0.0, 0.0, 0.0, -0.9055532969635782, -0.709582...</td>\n",
       "      <td>[0.0049999999999999, 0.0049999999999999, 0.004...</td>\n",
       "      <td>[9.842672086828249e-11, 9.842672086828249e-11,...</td>\n",
       "      <td>[0.0, 0.0, 0.0, 1.0073867109950227, 0.00740300...</td>\n",
       "      <td>[0.0, 0.0, 0.0, 0.305, 0.31, 0.285, 0.305, 0.3...</td>\n",
       "      <td>[8.88178419700125e-19, 8.88178419700125e-19, 8...</td>\n",
       "      <td>[0.0, 0.0, 0.0, 0.0275689223057644, 0.11528822...</td>\n",
       "    </tr>\n",
       "  </tbody>\n",
       "</table>\n",
       "<p>5 rows × 69 columns</p>\n",
       "</div>"
      ],
      "text/plain": [
       "                                            chroma10  \\\n",
       "0  [8.160939658571425e-36, 8.160939658571425e-36,...   \n",
       "1  [7.013453879267504e-36, 7.013453879267504e-36,...   \n",
       "2  [0.0, 0.0, 0.0, 0.0254328104050869, 0.00097298...   \n",
       "3  [2.702574583604019e-36, 2.702574583604019e-36,...   \n",
       "4  [0.0, 0.0, 0.0, 0.0041882695402504, 0.02049149...   \n",
       "\n",
       "                                            chroma11  \\\n",
       "0  [6.259135778625184e-35, 6.259135778625184e-35,...   \n",
       "1  [0.0, 0.0, 0.0, 0.0166532558508933, 0.07869997...   \n",
       "2  [0.0, 0.0, 0.0, 0.0193505451629107, 0.00262743...   \n",
       "3  [4.776934641543469e-37, 4.776934641543469e-37,...   \n",
       "4  [0.0, 0.0, 0.0, 0.0040731803154477, 0.00261262...   \n",
       "\n",
       "                                            chroma12  \\\n",
       "0  [6.521327966022236e-37, 6.521327966022236e-37,...   \n",
       "1  [0.0, 0.0, 0.0, 0.0129537558999756, 0.00446014...   \n",
       "2  [0.0, 0.0, 0.0, 0.0083292562363225, 0.00160357...   \n",
       "3  [0.0, 0.0, 0.0, 0.0090083795612209, 0.00081537...   \n",
       "4  [0.0, 0.0, 0.0, 0.0026445650113565, 0.00700864...   \n",
       "\n",
       "                                             chroma1  \\\n",
       "0  [1.981977565762179e-36, 1.981977565762179e-36,...   \n",
       "1  [0.0, 0.0, 0.0, 0.0030468925055301, 0.00093043...   \n",
       "2  [0.0, 0.0, 0.0, 0.0080703610497697, 0.01283563...   \n",
       "3  [1.1698336326834081e-34, 1.1698336326834081e-3...   \n",
       "4  [0.0, 0.0, 0.0, 0.0029177614915496, 0.01259147...   \n",
       "\n",
       "                                             chroma2  \\\n",
       "0  [1.3575144582002011e-36, 1.3575144582002011e-3...   \n",
       "1  [7.408793082486265e-37, 7.408793082486265e-37,...   \n",
       "2  [0.0, 0.0, 0.0, 0.0070286755905986, 0.00614136...   \n",
       "3  [7.2024558647616085e-37, 7.2024558647616085e-3...   \n",
       "4  [0.0, 0.0, 0.0, 0.0023704152160725, 0.00010023...   \n",
       "\n",
       "                                             chroma3  \\\n",
       "0  [0.2, 0.2, 0.2, 0.0083557589856543, 0.00571074...   \n",
       "1  [0.1999999999999999, 0.1999999999999999, 0.199...   \n",
       "2  [0.2, 0.2, 0.2, 0.0085329179281302, 0.00461212...   \n",
       "3  [0.2, 0.2, 0.2, 0.0356911864166217, 0.00370847...   \n",
       "4  [0.2, 0.2, 0.2, 0.0093191724292075, 0.01320134...   \n",
       "\n",
       "                                             chroma4  \\\n",
       "0  [4.104873703767106e-36, 4.104873703767106e-36,...   \n",
       "1  [3.4822079082192796e-36, 3.4822079082192796e-3...   \n",
       "2  [0.0, 0.0, 0.0, 0.0052980532581862, 0.00109933...   \n",
       "3  [1.3418390923476396e-36, 1.3418390923476396e-3...   \n",
       "4  [0.0, 0.0, 0.0, 0.0110916645774918, 0.00755240...   \n",
       "\n",
       "                                             chroma5  \\\n",
       "0  [2.155332585060541e-35, 2.155332585060541e-35,...   \n",
       "1  [3.341581545922013e-36, 3.341581545922013e-36,...   \n",
       "2  [0.0, 0.0, 0.0, 0.00504925682982, 0.0052632757...   \n",
       "3  [1.2876499240617028e-36, 1.2876499240617028e-3...   \n",
       "4  [0.0, 0.0, 0.0, 0.021437601576933, 0.009915651...   \n",
       "\n",
       "                                             chroma6  \\\n",
       "0  [5.559684454245396e-36, 5.559684454245396e-36,...   \n",
       "1  [0.0, 0.0, 0.0, 0.0251245180249349, 0.02791182...   \n",
       "2  [0.0, 0.0, 0.0, 0.0059614712279919, 0.01369267...   \n",
       "3  [0.0, 0.0, 0.0, 0.0065263846329425, 0.00703412...   \n",
       "4  [0.0, 0.0, 0.0, 0.0344103741912122, 0.00904430...   \n",
       "\n",
       "                                             chroma7  ...  \\\n",
       "0  [1.3576749403691584e-33, 1.3576749403691584e-3...  ...   \n",
       "1  [8.629140939612992e-35, 8.629140939612992e-35,...  ...   \n",
       "2  [0.0, 0.0, 0.0, 0.0128160916733445, 0.01380721...  ...   \n",
       "3  [7.234653246625582e-35, 7.234653246625582e-35,...  ...   \n",
       "4  [0.0, 0.0, 0.0, 0.0300217717324319, 0.06891515...  ...   \n",
       "\n",
       "                                               mfcc6  \\\n",
       "0  [1.1190399446969557e-07, 1.1190399446969557e-0...   \n",
       "1  [5.570574598767376e-09, 5.570574598767376e-09,...   \n",
       "2  [0.0, 0.0, 0.0, -0.2599778999084198, -0.290567...   \n",
       "3  [-9.094534884871259e-08, -9.094534884871259e-0...   \n",
       "4  [0.0, 0.0, 0.0, 0.1528818094724874, 0.05941509...   \n",
       "\n",
       "                                               mfcc7  \\\n",
       "0  [8.413179620042933e-08, 8.413179620042933e-08,...   \n",
       "1  [2.3875995972436553e-09, 2.3875995972436553e-0...   \n",
       "2  [0.0, 0.0, 0.0, 0.1582810230304283, 0.22599124...   \n",
       "3  [-5.831674649803382e-07, -5.831674649803382e-0...   \n",
       "4  [0.0, 0.0, 0.0, 0.5976081964535674, 0.33569853...   \n",
       "\n",
       "                                               mfcc8  \\\n",
       "0  [6.508014845220068e-08, 6.508014845220068e-08,...   \n",
       "1  [2.749349885292186e-10, 2.749349885292186e-10,...   \n",
       "2  [0.0, 0.0, 0.0, -0.1396072459697239, -0.235683...   \n",
       "3  [-8.326572895673644e-07, -8.326572895673644e-0...   \n",
       "4  [0.0, 0.0, 0.0, 0.1015572440453905, 0.04580434...   \n",
       "\n",
       "                                               mfcc9  \\\n",
       "0  [4.8439279586533656e-08, 4.8439279586533656e-0...   \n",
       "1  [-1.6617109241744871e-09, -1.6617109241744871e...   \n",
       "2  [0.0, 0.0, 0.0, -0.2101056367575636, -0.212658...   \n",
       "3  [-6.521214770955914e-07, -6.521214770955914e-0...   \n",
       "4  [0.0, 0.0, 0.0, -0.9055532969635782, -0.709582...   \n",
       "\n",
       "                                    spectralcentroid  \\\n",
       "0  [0.005, 0.005, 0.005, 0.3465049654087774, 0.28...   \n",
       "1  [0.005, 0.005, 0.005, 0.2686992943604466, 0.24...   \n",
       "2  [0.0049999999999999, 0.0049999999999999, 0.004...   \n",
       "3  [0.005, 0.005, 0.005, 0.2888106496790997, 0.29...   \n",
       "4  [0.0049999999999999, 0.0049999999999999, 0.004...   \n",
       "\n",
       "                                     spectralentropy  \\\n",
       "0  [1.223008975714376e-10, 1.223008975714376e-10,...   \n",
       "1  [1.6891478942563823e-09, 1.6891478942563823e-0...   \n",
       "2  [7.084185505857156e-10, 7.084185505857156e-10,...   \n",
       "3  [1.0169918121625369e-11, 1.0169918121625369e-1...   \n",
       "4  [9.842672086828249e-11, 9.842672086828249e-11,...   \n",
       "\n",
       "                                        spectralflux  \\\n",
       "0  [0.0, 0.0, 0.0, 0.9996124728099652, 0.00645907...   \n",
       "1  [0.0, 0.0, 0.0, 1.015672065306574, 0.012061107...   \n",
       "2  [0.0, 0.0, 0.0, 1.0014504084715852, 0.01066764...   \n",
       "3  [0.0, 0.0, 0.0, 0.9866939562783864, 0.00961743...   \n",
       "4  [0.0, 0.0, 0.0, 1.0073867109950227, 0.00740300...   \n",
       "\n",
       "                                     spectralrolloff  \\\n",
       "0  [0.0, 0.0, 0.0, 0.42, 0.325, 0.33, 0.325, 0.32...   \n",
       "1  [0.0, 0.0, 0.0, 0.305, 0.295, 0.295, 0.295, 0....   \n",
       "2  [0.0, 0.0, 0.0, 0.33, 0.32, 0.32, 0.32, 0.32, ...   \n",
       "3  [0.0, 0.0, 0.0, 0.425, 0.425, 0.43, 0.385, 0.3...   \n",
       "4  [0.0, 0.0, 0.0, 0.305, 0.31, 0.285, 0.305, 0.3...   \n",
       "\n",
       "                                      spectralspread  \\\n",
       "0  [4.770690588753296e-09, 4.770690588753296e-09,...   \n",
       "1  [3.0750895132596103e-09, 3.0750895132596103e-0...   \n",
       "2  [8.88178419700125e-19, 8.88178419700125e-19, 8...   \n",
       "3  [3.904414395649892e-09, 3.904414395649892e-09,...   \n",
       "4  [8.88178419700125e-19, 8.88178419700125e-19, 8...   \n",
       "\n",
       "                                                 zcr  \n",
       "0  [0.0, 0.0, 0.0, 0.0701754385964912, 0.20300751...  \n",
       "1  [0.0, 0.0, 0.0, 0.0701754385964912, 0.18045112...  \n",
       "2  [0.0, 0.0, 0.0, 0.0651629072681704, 0.17293233...  \n",
       "3  [0.0, 0.0, 0.0, 0.025062656641604, 0.082706766...  \n",
       "4  [0.0, 0.0, 0.0, 0.0275689223057644, 0.11528822...  \n",
       "\n",
       "[5 rows x 69 columns]"
      ]
     },
     "execution_count": 6,
     "metadata": {},
     "output_type": "execute_result"
    }
   ],
   "source": [
    "# Define non-temporal features\n",
    "non_temporal = [\n",
    "    'rval_df', 'gval_df', 'bval_df', 'aval_df',\n",
    "    'demographic_df', 'diagnosis_df', 'habits_df',\n",
    "    'alexrval_df', 'alexgval_df', 'alexbval_df', 'alexaval_df',\n",
    "    'pylabrval_df', 'pylabgval_df', 'pylabbval_df', 'pylabaval_df'\n",
    "]\n",
    "\n",
    "# Define subset of only temporal features\n",
    "temporal_tables = list(set(dataframes.keys()).difference(set(non_temporal)))\n",
    "\n",
    "# Initialise a dictionary to hold all features\n",
    "all_feats = dict()\n",
    "\n",
    "# Loop through each temporal feature\n",
    "for table in sorted(temporal_tables):\n",
    "    \n",
    "    # Get the dataframe\n",
    "    df = dataframes[table]\n",
    "    \n",
    "    # Get the feature array and voice IDs\n",
    "    feat_array = df.values[:, 1:]\n",
    "    voice_list = df.values[:, 0]\n",
    "    \n",
    "    # Initialise a feature dictionary\n",
    "    feat_dict = dict()\n",
    "    \n",
    "    # Use a for-loop to populate the dictionary\n",
    "    for idx, feat in enumerate(feat_array):\n",
    "        feat_dict[voice_list[idx]] = feat\n",
    "        # if len(feat) != 192:\n",
    "            # print(len(feat))\n",
    "    \n",
    "    # Append to the all feature dictionary\n",
    "    feat_name = table.split(\"_\")[0]\n",
    "    all_feats[feat_name] = feat_dict\n",
    "\n",
    "# Convert to a dataframe\n",
    "X = pd.DataFrame(all_feats).sort_index().reset_index(drop=True)\n",
    "# X = pd.DataFrame(all_feats)\n",
    "X.head()"
   ]
  },
  {
   "cell_type": "code",
   "execution_count": 7,
   "id": "31a32204-4d1c-4474-af44-74e8c6460ca9",
   "metadata": {},
   "outputs": [],
   "source": [
    "# Split the preprocessed data to training and testing datasets\n",
    "X_train, X_test, y_train, y_test = train_test_split(X, y, stratify=y)"
   ]
  },
  {
   "cell_type": "code",
   "execution_count": 9,
   "id": "470deaf6-6971-4bbc-a000-125285912d9b",
   "metadata": {},
   "outputs": [],
   "source": [
    "X_train = X_train.to_numpy()\n",
    "X_test = X_test.to_numpy()"
   ]
  },
  {
   "cell_type": "code",
   "execution_count": 15,
   "id": "4cd5faf5-1157-492e-b3f1-ae7da9b245c4",
   "metadata": {},
   "outputs": [
    {
     "data": {
      "text/plain": [
       "51"
      ]
     },
     "execution_count": 15,
     "metadata": {},
     "output_type": "execute_result"
    }
   ],
   "source": [
    "len(X_test)"
   ]
  },
  {
   "cell_type": "code",
   "execution_count": 11,
   "id": "5cfa8d6e-42d4-467a-b129-83edceff852b",
   "metadata": {},
   "outputs": [],
   "source": [
    "X_train = np.array([X[feature][i] for feature in X.keys() for i in range(len(X_train))])"
   ]
  },
  {
   "cell_type": "code",
   "execution_count": 14,
   "id": "7bd80f3d-fb99-4a83-80e6-abb0f4b737e1",
   "metadata": {},
   "outputs": [
    {
     "data": {
      "text/plain": [
       "(10557, 192)"
      ]
     },
     "execution_count": 14,
     "metadata": {},
     "output_type": "execute_result"
    }
   ],
   "source": [
    "X_train.shape"
   ]
  },
  {
   "cell_type": "code",
   "execution_count": 16,
   "id": "b68aa2b9-b12b-418c-885b-ce12f28a1952",
   "metadata": {},
   "outputs": [],
   "source": [
    "X_test = np.array([X[feature][i] for feature in X.keys() for i in range(len(X_test))])"
   ]
  },
  {
   "cell_type": "code",
   "execution_count": 17,
   "id": "c1b9058b-32d0-4131-adaa-6fd2c562c465",
   "metadata": {},
   "outputs": [
    {
     "data": {
      "text/plain": [
       "(3519, 192)"
      ]
     },
     "execution_count": 17,
     "metadata": {},
     "output_type": "execute_result"
    }
   ],
   "source": [
    "X_test.shape"
   ]
  },
  {
   "cell_type": "code",
   "execution_count": 18,
   "id": "e747154b-dbc4-47be-9e27-3ade04c796c0",
   "metadata": {},
   "outputs": [],
   "source": [
    "# Initialize the MinMaxScaler\n",
    "scaler = MinMaxScaler()"
   ]
  },
  {
   "cell_type": "code",
   "execution_count": 20,
   "id": "9676536e-d2b4-4a62-a2a1-167246360e9b",
   "metadata": {},
   "outputs": [],
   "source": [
    "X_train = scaler.fit_transform(\n",
    "    X_train.reshape(153*69*192, -1)).reshape(153, 69, 192)"
   ]
  },
  {
   "cell_type": "code",
   "execution_count": null,
   "id": "734b6193-7032-4ed7-a8fc-ccd1941e0b11",
   "metadata": {},
   "outputs": [],
   "source": [
    "X_train.shape"
   ]
  },
  {
   "cell_type": "code",
   "execution_count": 21,
   "id": "9c9e8c09-a4be-42ac-be32-502b7cb6100c",
   "metadata": {},
   "outputs": [],
   "source": [
    "X_test = scaler.transform(X_test.reshape(51*69*192, -1)).reshape(51, 69, 192)"
   ]
  },
  {
   "cell_type": "code",
   "execution_count": 59,
   "id": "8b7e0b41-4da1-4746-ab6d-3a20241d6753",
   "metadata": {},
   "outputs": [
    {
     "name": "stdout",
     "output_type": "stream",
     "text": [
      "Model: \"sequential_2\"\n",
      "_________________________________________________________________\n",
      " Layer (type)                Output Shape              Param #   \n",
      "=================================================================\n",
      " lstm_2 (LSTM)               (None, 128)               164352    \n",
      "                                                                 \n",
      " dense_2 (Dense)             (None, 1)                 129       \n",
      "                                                                 \n",
      "=================================================================\n",
      "Total params: 164481 (642.50 KB)\n",
      "Trainable params: 164481 (642.50 KB)\n",
      "Non-trainable params: 0 (0.00 Byte)\n",
      "_________________________________________________________________\n"
     ]
    }
   ],
   "source": [
    "rnn = Sequential()\n",
    "# rnn.add(LSTM(units=50, input_shape=(X_train.shape[1], 1), activation='relu'))\n",
    "rnn.add(LSTM(\n",
    "    units = 128,\n",
    "    input_shape = (69, 192)\n",
    "    # return_sequences = True\n",
    "))\n",
    "rnn.add(Dense(units=1, activation='sigmoid'))\n",
    "rnn.summary()"
   ]
  },
  {
   "cell_type": "code",
   "execution_count": 60,
   "id": "34da7cb0-db85-43fe-b491-8bd696139c28",
   "metadata": {},
   "outputs": [],
   "source": [
    "# Compile the model\n",
    "rnn.compile(\n",
    "    loss = \"binary_crossentropy\",\n",
    "    optimizer = \"adam\",\n",
    "    metrics = [\"accuracy\"]\n",
    ")"
   ]
  },
  {
   "cell_type": "code",
   "execution_count": 61,
   "id": "f572af5d-2eb1-4026-921d-940175a9079d",
   "metadata": {},
   "outputs": [
    {
     "name": "stdout",
     "output_type": "stream",
     "text": [
      "Epoch 1/20\n",
      "5/5 [==============================] - 1s 51ms/step - loss: 0.7052 - accuracy: 0.7190\n",
      "Epoch 2/20\n",
      "5/5 [==============================] - 0s 56ms/step - loss: 0.6448 - accuracy: 0.7190\n",
      "Epoch 3/20\n",
      "5/5 [==============================] - 0s 52ms/step - loss: 0.5978 - accuracy: 0.7190\n",
      "Epoch 4/20\n",
      "5/5 [==============================] - 0s 46ms/step - loss: 0.6075 - accuracy: 0.7190\n",
      "Epoch 5/20\n",
      "5/5 [==============================] - 0s 46ms/step - loss: 0.6022 - accuracy: 0.7190\n",
      "Epoch 6/20\n",
      "5/5 [==============================] - 0s 49ms/step - loss: 0.5933 - accuracy: 0.7190\n",
      "Epoch 7/20\n",
      "5/5 [==============================] - 0s 54ms/step - loss: 0.5966 - accuracy: 0.7190\n",
      "Epoch 8/20\n",
      "5/5 [==============================] - 0s 49ms/step - loss: 0.5972 - accuracy: 0.7190\n",
      "Epoch 9/20\n",
      "5/5 [==============================] - 0s 47ms/step - loss: 0.5946 - accuracy: 0.7190\n",
      "Epoch 10/20\n",
      "5/5 [==============================] - 0s 49ms/step - loss: 0.5960 - accuracy: 0.7190\n",
      "Epoch 11/20\n",
      "5/5 [==============================] - 0s 51ms/step - loss: 0.5945 - accuracy: 0.7190\n",
      "Epoch 12/20\n",
      "5/5 [==============================] - 0s 49ms/step - loss: 0.5946 - accuracy: 0.7190\n",
      "Epoch 13/20\n",
      "5/5 [==============================] - 0s 46ms/step - loss: 0.5940 - accuracy: 0.7190\n",
      "Epoch 14/20\n",
      "5/5 [==============================] - 0s 42ms/step - loss: 0.5948 - accuracy: 0.7190\n",
      "Epoch 15/20\n",
      "5/5 [==============================] - 0s 46ms/step - loss: 0.5958 - accuracy: 0.7190\n",
      "Epoch 16/20\n",
      "5/5 [==============================] - 0s 47ms/step - loss: 0.5955 - accuracy: 0.7190\n",
      "Epoch 17/20\n",
      "5/5 [==============================] - 0s 45ms/step - loss: 0.5946 - accuracy: 0.7190\n",
      "Epoch 18/20\n",
      "5/5 [==============================] - 0s 46ms/step - loss: 0.5950 - accuracy: 0.7190\n",
      "Epoch 19/20\n",
      "5/5 [==============================] - 0s 59ms/step - loss: 0.5989 - accuracy: 0.7190\n",
      "Epoch 20/20\n",
      "5/5 [==============================] - 0s 60ms/step - loss: 0.5937 - accuracy: 0.7190\n"
     ]
    }
   ],
   "source": [
    "fit_model = rnn.fit(\n",
    "    X_train,\n",
    "    y_train,\n",
    "    shuffle = True,\n",
    "    epochs = 20,\n",
    "    verbose = 1\n",
    ")"
   ]
  },
  {
   "cell_type": "code",
   "execution_count": 62,
   "id": "dbd8dc29-da22-46f0-aba6-8e332c833af8",
   "metadata": {},
   "outputs": [
    {
     "name": "stdout",
     "output_type": "stream",
     "text": [
      "2/2 - 0s - loss: 0.5878 - accuracy: 0.7255 - 188ms/epoch - 94ms/step\n",
      "Loss: 0.5878248810768127, Accuracy: 0.7254902124404907\n"
     ]
    }
   ],
   "source": [
    "# Evaluate the model using the test data\n",
    "model_loss, model_accuracy = rnn.evaluate(\n",
    "    X_test,\n",
    "    y_test,\n",
    "    verbose = 2\n",
    ")\n",
    "print(f\"Loss: {model_loss}, Accuracy: {model_accuracy}\")"
   ]
  },
  {
   "cell_type": "code",
   "execution_count": 64,
   "id": "d20d853b-6cc2-4f81-8ba3-2f43d37e6d3b",
   "metadata": {},
   "outputs": [
    {
     "name": "stdout",
     "output_type": "stream",
     "text": [
      "2/2 [==============================] - 0s 20ms/step\n"
     ]
    },
    {
     "data": {
      "text/html": [
       "<div>\n",
       "<style scoped>\n",
       "    .dataframe tbody tr th:only-of-type {\n",
       "        vertical-align: middle;\n",
       "    }\n",
       "\n",
       "    .dataframe tbody tr th {\n",
       "        vertical-align: top;\n",
       "    }\n",
       "\n",
       "    .dataframe thead th {\n",
       "        text-align: right;\n",
       "    }\n",
       "</style>\n",
       "<table border=\"1\" class=\"dataframe\">\n",
       "  <thead>\n",
       "    <tr style=\"text-align: right;\">\n",
       "      <th></th>\n",
       "      <th>Actual</th>\n",
       "      <th>Predicted</th>\n",
       "      <th>Probability</th>\n",
       "    </tr>\n",
       "  </thead>\n",
       "  <tbody>\n",
       "    <tr>\n",
       "      <th>177</th>\n",
       "      <td>0</td>\n",
       "      <td>1</td>\n",
       "      <td>0.72</td>\n",
       "    </tr>\n",
       "    <tr>\n",
       "      <th>196</th>\n",
       "      <td>1</td>\n",
       "      <td>1</td>\n",
       "      <td>0.72</td>\n",
       "    </tr>\n",
       "    <tr>\n",
       "      <th>140</th>\n",
       "      <td>1</td>\n",
       "      <td>1</td>\n",
       "      <td>0.72</td>\n",
       "    </tr>\n",
       "    <tr>\n",
       "      <th>64</th>\n",
       "      <td>1</td>\n",
       "      <td>1</td>\n",
       "      <td>0.72</td>\n",
       "    </tr>\n",
       "    <tr>\n",
       "      <th>137</th>\n",
       "      <td>1</td>\n",
       "      <td>1</td>\n",
       "      <td>0.72</td>\n",
       "    </tr>\n",
       "    <tr>\n",
       "      <th>37</th>\n",
       "      <td>0</td>\n",
       "      <td>1</td>\n",
       "      <td>0.72</td>\n",
       "    </tr>\n",
       "    <tr>\n",
       "      <th>95</th>\n",
       "      <td>0</td>\n",
       "      <td>1</td>\n",
       "      <td>0.72</td>\n",
       "    </tr>\n",
       "    <tr>\n",
       "      <th>32</th>\n",
       "      <td>1</td>\n",
       "      <td>1</td>\n",
       "      <td>0.72</td>\n",
       "    </tr>\n",
       "    <tr>\n",
       "      <th>188</th>\n",
       "      <td>1</td>\n",
       "      <td>1</td>\n",
       "      <td>0.72</td>\n",
       "    </tr>\n",
       "    <tr>\n",
       "      <th>108</th>\n",
       "      <td>1</td>\n",
       "      <td>1</td>\n",
       "      <td>0.72</td>\n",
       "    </tr>\n",
       "  </tbody>\n",
       "</table>\n",
       "</div>"
      ],
      "text/plain": [
       "     Actual  Predicted  Probability\n",
       "177       0          1         0.72\n",
       "196       1          1         0.72\n",
       "140       1          1         0.72\n",
       "64        1          1         0.72\n",
       "137       1          1         0.72\n",
       "37        0          1         0.72\n",
       "95        0          1         0.72\n",
       "32        1          1         0.72\n",
       "188       1          1         0.72\n",
       "108       1          1         0.72"
      ]
     },
     "execution_count": 64,
     "metadata": {},
     "output_type": "execute_result"
    }
   ],
   "source": [
    "# Check the prediction's output probabilities\n",
    "predicted_prob = rnn.predict(X_test)\n",
    "clean_prob = np.round(predicted_prob, 2)\n",
    "\n",
    "# Round to the nearest integer and flatten\n",
    "clean_predicted = np.round(predicted_prob).astype(int).flatten()\n",
    "\n",
    "# Convert to a dataframe for readability\n",
    "output_prob = pd.DataFrame({\n",
    "    'Actual': y_test,\n",
    "    'Predicted': clean_predicted,\n",
    "    'Probability': clean_prob.flatten()\n",
    "})\n",
    "\n",
    "output_prob.head(10)"
   ]
  },
  {
   "cell_type": "code",
   "execution_count": null,
   "id": "ff9cfed8-13ca-4453-8448-9c6ce6c1f211",
   "metadata": {},
   "outputs": [],
   "source": []
  },
  {
   "cell_type": "code",
   "execution_count": null,
   "id": "f4559d6c-e660-4ce9-affb-53596f526549",
   "metadata": {},
   "outputs": [],
   "source": []
  },
  {
   "cell_type": "code",
   "execution_count": null,
   "id": "c3e1a30c-36d0-4aae-8cbe-e34f20db668c",
   "metadata": {},
   "outputs": [],
   "source": []
  },
  {
   "cell_type": "code",
   "execution_count": null,
   "id": "2f4a0e52-c489-40d7-a177-a452beee3b3e",
   "metadata": {},
   "outputs": [],
   "source": []
  },
  {
   "cell_type": "code",
   "execution_count": null,
   "id": "924a7a88-57f5-43cb-a048-01d9d5a0cf5c",
   "metadata": {},
   "outputs": [],
   "source": []
  },
  {
   "cell_type": "code",
   "execution_count": null,
   "id": "3c09514f-42c3-4b3e-9300-659723b17002",
   "metadata": {},
   "outputs": [],
   "source": []
  },
  {
   "cell_type": "code",
   "execution_count": null,
   "id": "77e98838-673d-4360-ac23-eaa52d67d547",
   "metadata": {},
   "outputs": [],
   "source": []
  },
  {
   "cell_type": "code",
   "execution_count": null,
   "id": "24f3e6ff-ebf8-4518-b237-aa4894cf8f97",
   "metadata": {},
   "outputs": [],
   "source": []
  },
  {
   "cell_type": "code",
   "execution_count": null,
   "id": "0d5eb6e3-ac36-4314-81e0-a52c0bbd5b3d",
   "metadata": {},
   "outputs": [],
   "source": []
  },
  {
   "cell_type": "code",
   "execution_count": null,
   "id": "491067f5-fc51-4c5a-b540-2983f03b286d",
   "metadata": {},
   "outputs": [],
   "source": []
  },
  {
   "cell_type": "code",
   "execution_count": null,
   "id": "bafe04b1-8143-4930-bae3-eda36f2e0850",
   "metadata": {},
   "outputs": [],
   "source": []
  },
  {
   "cell_type": "code",
   "execution_count": null,
   "id": "21c199d1-3faa-4e4f-8ff7-b6a83e28a1fb",
   "metadata": {},
   "outputs": [],
   "source": []
  },
  {
   "cell_type": "code",
   "execution_count": null,
   "id": "f10f45c5-2c1e-435a-b767-e7372a066910",
   "metadata": {},
   "outputs": [],
   "source": [
    "X.shape"
   ]
  },
  {
   "cell_type": "code",
   "execution_count": null,
   "id": "faba05a5-ec15-444d-b5e8-76f557c22d7b",
   "metadata": {},
   "outputs": [],
   "source": []
  },
  {
   "cell_type": "code",
   "execution_count": null,
   "id": "65854e81-56ba-4ef9-918a-ba0dbc7be506",
   "metadata": {},
   "outputs": [],
   "source": [
    "type(X_train.to_numpy())"
   ]
  },
  {
   "cell_type": "code",
   "execution_count": null,
   "id": "dd12bcc8-d600-4480-9030-bc2d9b7b7ee9",
   "metadata": {},
   "outputs": [],
   "source": [
    "X_train.to_numpy().shape"
   ]
  },
  {
   "cell_type": "code",
   "execution_count": null,
   "id": "282cc2d8-ba01-40aa-96f6-649fa4f4114d",
   "metadata": {
    "tags": []
   },
   "outputs": [],
   "source": [
    "X_train.to_numpy()[0]"
   ]
  },
  {
   "cell_type": "code",
   "execution_count": null,
   "id": "2d1e7d5d-6a2c-4d28-bc0c-18b8dbc95aa5",
   "metadata": {},
   "outputs": [],
   "source": [
    "# Initialize the MinMaxScaler\n",
    "scaler = MinMaxScaler()\n",
    "\n",
    "# Reshape the 1D arrays into 2D arrays and apply the scaler\n",
    "# X_train_reshaped = np.stack([x.reshape(-1, 1) for x in X_train.values.flatten()])\n",
    "# X_train_scaled = scaler.fit_transform(X_train_reshaped)\n",
    "# X_test_reshaped = np.stack([x.reshape(-1, 1) for x in X_test.values.flatten()])\n",
    "# X_test_scaled = scaler.transform(X_test_reshaped)\n",
    "\n",
    "# Reshape the 1D arrays into 2D arrays and apply the scaler\n",
    "X_train_scaled = np.array([scaler.fit_transform(x.reshape(-1, 1)) for x in X_train.values.flatten()])\n",
    "X_test_scaled = np.array([scaler.transform(x.reshape(-1, 1)) for x in X_test.values.flatten()])\n",
    "                          \n",
    "# Reshape the scaled 2D arrays back into 1D arrays\n",
    "# X_train_scaled = np.concatenate([x.flatten() for x in X_train_scaled])\n",
    "# X_test_scaled = np.concatenate([x.flatten() for x in X_test_scaled])\n",
    "# X_train_scaled = X_train_scaled.reshape(153, 69, 192)\n",
    "# X_test_scaled = X_test_scaled.reshape(51, 69, 192)"
   ]
  },
  {
   "cell_type": "code",
   "execution_count": null,
   "id": "09008749-48ba-4873-8a68-61bc622200ea",
   "metadata": {},
   "outputs": [],
   "source": [
    "X_train_scaled"
   ]
  },
  {
   "cell_type": "code",
   "execution_count": null,
   "id": "7ab06271-5bd6-4e86-8880-01c1e67afa6f",
   "metadata": {},
   "outputs": [],
   "source": [
    "X_train_scaled.shape"
   ]
  },
  {
   "cell_type": "code",
   "execution_count": null,
   "id": "1ab3f0e2-42c2-4cf2-929a-fcac2ab66d8e",
   "metadata": {},
   "outputs": [],
   "source": [
    "X_test_scaled.shape"
   ]
  },
  {
   "cell_type": "code",
   "execution_count": null,
   "id": "d96aabaf-a170-4b32-9cb7-1eacb09f1284",
   "metadata": {},
   "outputs": [],
   "source": [
    "model = Sequential()\n",
    "model.add(LSTM(units=50, input_shape=(X_train_scaled.shape[1], 1), activation='relu'))\n",
    "model.add(Dense(units=1, activation='sigmoid'))"
   ]
  },
  {
   "cell_type": "code",
   "execution_count": null,
   "id": "63398499-2176-4594-8f0a-a67264885cdc",
   "metadata": {},
   "outputs": [],
   "source": [
    "# Compile the model\n",
    "model.compile(optimizer='adam', loss='mse')\n",
    "\n",
    "# Train the model\n",
    "model.fit(X_train_scaled, y_train, epochs=10, verbose=2)"
   ]
  },
  {
   "cell_type": "code",
   "execution_count": null,
   "id": "29afeaf2-6e78-4878-93bc-8c1ccf7c357e",
   "metadata": {},
   "outputs": [],
   "source": []
  },
  {
   "cell_type": "code",
   "execution_count": null,
   "id": "43d8bc95-d9e8-4713-9b1e-8712961d7274",
   "metadata": {},
   "outputs": [],
   "source": []
  },
  {
   "cell_type": "code",
   "execution_count": null,
   "id": "a871ec40-332e-4d9e-851f-f634ab5d7184",
   "metadata": {},
   "outputs": [],
   "source": []
  },
  {
   "cell_type": "code",
   "execution_count": null,
   "id": "a5113f44-63de-4d66-974b-c0b45713728d",
   "metadata": {},
   "outputs": [],
   "source": []
  },
  {
   "cell_type": "code",
   "execution_count": null,
   "id": "80f2606b-e9be-4b2d-93ff-b4cead5db7bd",
   "metadata": {},
   "outputs": [],
   "source": []
  },
  {
   "cell_type": "code",
   "execution_count": null,
   "id": "7cfe07b1-ccbd-47dc-8d02-4d3c3e476c63",
   "metadata": {},
   "outputs": [],
   "source": []
  },
  {
   "cell_type": "code",
   "execution_count": null,
   "id": "1fd649a3-d04b-4f60-9d9a-def165b6d605",
   "metadata": {},
   "outputs": [],
   "source": []
  },
  {
   "cell_type": "code",
   "execution_count": null,
   "id": "c735ac8e-82f4-47b6-bef6-19702f61e075",
   "metadata": {},
   "outputs": [],
   "source": [
    "# Reshape the data\n",
    "X_train_reshaped = X_train.to_numpy().reshape((\n",
    "    X_train.shape[0], # total number of samples\n",
    "    -1 # total number flattened\n",
    "))\n",
    "\n",
    "X_test_reshaped = X_test.to_numpy().reshape((\n",
    "    X_test.shape[0],\n",
    "    -1\n",
    "))"
   ]
  },
  {
   "cell_type": "code",
   "execution_count": null,
   "id": "6cc87d91-415c-4766-a47f-5a29ebbae25e",
   "metadata": {},
   "outputs": [],
   "source": [
    "X_train_reshaped.shape"
   ]
  },
  {
   "cell_type": "code",
   "execution_count": null,
   "id": "87b084fe-0a1e-442a-99c3-b56b9704c713",
   "metadata": {},
   "outputs": [],
   "source": [
    "reshaped_array = np.array(X.apply(lambda x: np.array(x)).tolist())"
   ]
  },
  {
   "cell_type": "code",
   "execution_count": null,
   "id": "dd041170-b888-4c98-afb4-ae575c22f518",
   "metadata": {},
   "outputs": [],
   "source": []
  },
  {
   "cell_type": "code",
   "execution_count": null,
   "id": "5ae3e3a5-2b36-4023-a053-d39899f5b8fe",
   "metadata": {},
   "outputs": [],
   "source": []
  },
  {
   "cell_type": "code",
   "execution_count": null,
   "id": "eb57f89d-c011-4233-b302-e0ffa35358b0",
   "metadata": {},
   "outputs": [],
   "source": []
  },
  {
   "cell_type": "code",
   "execution_count": null,
   "id": "b94907dc-6ec3-4298-9252-b961730e4717",
   "metadata": {},
   "outputs": [],
   "source": []
  },
  {
   "cell_type": "code",
   "execution_count": null,
   "id": "6eb553ee-562b-4d11-beef-6ce768af12b6",
   "metadata": {},
   "outputs": [],
   "source": []
  },
  {
   "cell_type": "code",
   "execution_count": null,
   "id": "16fd7c59-ca88-41a8-88dd-048f33650d9b",
   "metadata": {},
   "outputs": [],
   "source": []
  },
  {
   "cell_type": "code",
   "execution_count": null,
   "id": "c01bcfac-cd7b-4ee8-996b-8842ea03db73",
   "metadata": {},
   "outputs": [],
   "source": []
  },
  {
   "cell_type": "code",
   "execution_count": null,
   "id": "55e1bb6a-74ee-41c1-bb4b-65ce7b35e742",
   "metadata": {},
   "outputs": [],
   "source": []
  },
  {
   "cell_type": "code",
   "execution_count": null,
   "id": "c5e03ebf-feff-4aee-b515-d1706460547b",
   "metadata": {},
   "outputs": [],
   "source": [
    "min_max_scaler = MinMaxScaler()\n",
    "standard_scaler = StandardScaler()\n",
    "\n",
    "# Flatten the 2D arrays into 1D arrays\n",
    "flat_df = X.values.flatten()\n",
    "\n",
    "# Apply the MinMaxScaler and StandardScaler to the flattened 1D arrays\n",
    "flat_df_normalized = min_max_scaler.fit_transform(flat_df)\n",
    "flat_df_standardized = standard_scaler.fit_transform(flat_df)\n",
    "\n",
    "# Reshape the scaled 1D arrays back into 2D arrays\n",
    "df_normalized = flat_df_normalized.reshape(X.shape)\n",
    "df_standardized = flat_df_standardized.reshape(X.shape)"
   ]
  },
  {
   "cell_type": "code",
   "execution_count": null,
   "id": "5d630efe-9407-4f78-823b-4cc8578637eb",
   "metadata": {},
   "outputs": [],
   "source": []
  },
  {
   "cell_type": "code",
   "execution_count": null,
   "id": "47b8dc8e-25c7-4788-aa59-3d60db3b5bb1",
   "metadata": {},
   "outputs": [],
   "source": []
  },
  {
   "cell_type": "code",
   "execution_count": null,
   "id": "a6dfb4b9-a621-480c-89e4-616795cc2ee3",
   "metadata": {},
   "outputs": [],
   "source": []
  },
  {
   "cell_type": "code",
   "execution_count": null,
   "id": "d4ac3839-7011-4f82-a715-6425f140e1ad",
   "metadata": {},
   "outputs": [],
   "source": []
  },
  {
   "cell_type": "code",
   "execution_count": null,
   "id": "39577503-043e-4584-836e-936b51bd6fd4",
   "metadata": {},
   "outputs": [],
   "source": []
  },
  {
   "cell_type": "code",
   "execution_count": null,
   "id": "a8d42580-7476-414b-ad4f-19e3efcafc9c",
   "metadata": {},
   "outputs": [],
   "source": []
  },
  {
   "cell_type": "code",
   "execution_count": null,
   "id": "c0d1c9cc-5bd0-4ff5-be25-0b9e486e66fa",
   "metadata": {},
   "outputs": [],
   "source": []
  },
  {
   "cell_type": "code",
   "execution_count": null,
   "id": "720ff8bb-3ac1-41cb-8f2f-6afc461c7170",
   "metadata": {},
   "outputs": [],
   "source": []
  },
  {
   "cell_type": "code",
   "execution_count": null,
   "id": "8df59f86-c5e0-4f44-9034-a3ede708861f",
   "metadata": {},
   "outputs": [],
   "source": []
  },
  {
   "cell_type": "code",
   "execution_count": null,
   "id": "34373ae2-98b2-4eab-859c-d66fa74a911e",
   "metadata": {},
   "outputs": [],
   "source": []
  },
  {
   "cell_type": "code",
   "execution_count": null,
   "id": "894d158e-3a45-4858-9678-8f8043e737e8",
   "metadata": {},
   "outputs": [],
   "source": []
  },
  {
   "cell_type": "code",
   "execution_count": null,
   "id": "183e490e-5cb1-4402-bbaa-1ed3029dca63",
   "metadata": {},
   "outputs": [],
   "source": []
  },
  {
   "cell_type": "code",
   "execution_count": null,
   "id": "c2a60c18-9482-45d7-a169-d6b280d74947",
   "metadata": {},
   "outputs": [],
   "source": []
  },
  {
   "cell_type": "code",
   "execution_count": null,
   "id": "37685761-18e4-4a82-99db-1f0c0c0cd2d2",
   "metadata": {},
   "outputs": [],
   "source": []
  },
  {
   "cell_type": "code",
   "execution_count": null,
   "id": "a7792306-6ec6-4b35-9265-583ea7ec6692",
   "metadata": {},
   "outputs": [],
   "source": []
  },
  {
   "cell_type": "code",
   "execution_count": null,
   "id": "b26a16e9-c44e-411a-9b90-ab6b4f7b4241",
   "metadata": {},
   "outputs": [],
   "source": []
  },
  {
   "cell_type": "code",
   "execution_count": null,
   "id": "308a828c-85fa-41da-887b-7ba725e5d7fd",
   "metadata": {},
   "outputs": [],
   "source": []
  },
  {
   "cell_type": "code",
   "execution_count": null,
   "id": "8dce3ea9-99fc-4fb1-8796-bb8f6a134332",
   "metadata": {},
   "outputs": [],
   "source": []
  },
  {
   "cell_type": "code",
   "execution_count": null,
   "id": "2e5fdf71-2ee3-4420-b7f9-cbb8f85be860",
   "metadata": {},
   "outputs": [],
   "source": [
    "X.columns"
   ]
  },
  {
   "cell_type": "code",
   "execution_count": null,
   "id": "28b1a739-d020-4157-aefd-701f105f810b",
   "metadata": {},
   "outputs": [],
   "source": [
    "X_train, X_test, y_train, y_test = train_test_split(X, y, stratify=y)\n",
    "min_max_scaler = MinMaxScaler()\n",
    "standard_scaler = StandardScaler()\n",
    "\n",
    "# Apply the MinMaxScaler and StandardScaler to each cell in the DataFrame\n",
    "df_normalized = df.apply(lambda x: min_max_scaler.fit_transform(np.expand_dims(x, axis=0)), axis=1)\n",
    "df_standardized = df.apply(lambda x: standard_scaler.fit_transform(np.expand_dims(x, axis=0)), axis=1)"
   ]
  },
  {
   "cell_type": "code",
   "execution_count": null,
   "id": "8ed1404d-6668-420a-bd40-ec644bb5853f",
   "metadata": {},
   "outputs": [],
   "source": [
    "def find_string(df, target):\n",
    "    for i, item in df.iterrows():\n",
    "        for j, elem in item.items():\n",
    "            if isinstance(elem, np.ndarray):\n",
    "                if target in elem:\n",
    "                    print(f\"Found '{target}' in {i}, {j}\")\n",
    "                else:\n",
    "                    find_string(pd.DataFrame([elem]), target)\n",
    "            else:\n",
    "                print(f\"Unexpected type: {type(elem)}\")"
   ]
  },
  {
   "cell_type": "code",
   "execution_count": null,
   "id": "86237269-c7bf-429f-b7f8-e0d869b4a73b",
   "metadata": {},
   "outputs": [],
   "source": [
    "find_string(X, 'voice094')"
   ]
  },
  {
   "cell_type": "code",
   "execution_count": null,
   "id": "6dc72949-2da7-441d-bdfb-3de78f2160b5",
   "metadata": {},
   "outputs": [],
   "source": []
  },
  {
   "cell_type": "code",
   "execution_count": null,
   "id": "04376454-0fca-4347-9fc3-b78a38407681",
   "metadata": {},
   "outputs": [],
   "source": []
  },
  {
   "cell_type": "code",
   "execution_count": null,
   "id": "d313d06c-1269-4e16-8687-f989ef82ad4b",
   "metadata": {},
   "outputs": [],
   "source": []
  },
  {
   "cell_type": "code",
   "execution_count": null,
   "id": "47bce79f-6779-48a1-baa7-634506b9ce02",
   "metadata": {},
   "outputs": [],
   "source": []
  },
  {
   "cell_type": "code",
   "execution_count": null,
   "id": "37bafc4d-81ad-49da-a7ba-07c0de33c329",
   "metadata": {},
   "outputs": [],
   "source": [
    "X_train, X_test, y_train, y_test = train_test_split(X, y, stratify=y)\n",
    "\n",
    "# Initialize the MinMaxScaler and StandardScaler\n",
    "min_max_scaler = MinMaxScaler()\n",
    "standard_scaler = StandardScaler()\n",
    "\n",
    "# Apply the MinMaxScaler and StandardScaler to the training data\n",
    "X_train_normalized = X_train.apply(lambda x: min_max_scaler.fit_transform(x.values.reshape(1, -1)))\n",
    "X_train_standardized = X_train.apply(lambda x: standard_scaler.fit_transform(x.values.reshape(1, -1)))\n",
    "\n",
    "# Use the same scalers to transform the testing data\n",
    "X_test_normalized = X_test.apply(lambda x: min_max_scaler.transform(x.values.reshape(1, -1)))\n",
    "X_test_standardized = X_test.apply(lambda x: standard_scaler.transform(x.values.reshape(1, -1)))"
   ]
  },
  {
   "cell_type": "code",
   "execution_count": null,
   "id": "7740fdb2-f70e-4862-ba5f-11b53430f93e",
   "metadata": {},
   "outputs": [],
   "source": []
  },
  {
   "cell_type": "code",
   "execution_count": null,
   "id": "68c6afa7-738f-45b9-af6b-361b5b16d6d5",
   "metadata": {},
   "outputs": [],
   "source": []
  },
  {
   "cell_type": "code",
   "execution_count": null,
   "id": "433b99fa-58d7-4e15-b4a3-1cb3c8e8bda4",
   "metadata": {},
   "outputs": [],
   "source": []
  },
  {
   "cell_type": "code",
   "execution_count": null,
   "id": "87f06145-dec4-4819-9f93-e616c1d8dda7",
   "metadata": {},
   "outputs": [],
   "source": []
  },
  {
   "cell_type": "code",
   "execution_count": null,
   "id": "caa7dafa-5d47-43ca-90b0-bdb54605a286",
   "metadata": {},
   "outputs": [],
   "source": []
  },
  {
   "cell_type": "code",
   "execution_count": null,
   "id": "649a3509-954f-4571-a144-20c745db9fb9",
   "metadata": {},
   "outputs": [],
   "source": []
  },
  {
   "cell_type": "code",
   "execution_count": null,
   "id": "367d611f-cd49-4042-a089-9ffff33f9e4e",
   "metadata": {},
   "outputs": [],
   "source": []
  },
  {
   "cell_type": "code",
   "execution_count": null,
   "id": "9de538f7-15cd-4bd2-aab6-9dc74af465c2",
   "metadata": {},
   "outputs": [],
   "source": []
  },
  {
   "cell_type": "code",
   "execution_count": null,
   "id": "64ab6aee-659d-4a3f-a7e6-deaa881e7d34",
   "metadata": {},
   "outputs": [],
   "source": []
  },
  {
   "cell_type": "code",
   "execution_count": null,
   "id": "039068aa-57da-4d54-99f5-48d9b7f8383c",
   "metadata": {},
   "outputs": [],
   "source": []
  },
  {
   "cell_type": "code",
   "execution_count": null,
   "id": "f6a816dc-28dc-470a-9fe5-438c1eab7cd8",
   "metadata": {},
   "outputs": [],
   "source": [
    "# Combine the data and labels to a single 2D array\n",
    "combined = np.column_stack((X.values, y))"
   ]
  },
  {
   "cell_type": "code",
   "execution_count": null,
   "id": "887e2d73-1b82-485e-85b1-804a08849df8",
   "metadata": {},
   "outputs": [],
   "source": [
    "# Split the preprocessed data to training and testing datasets\n",
    "X_train, X_test, y_train, y_test = train_test_split(\n",
    "    combined[:, :-1],\n",
    "    combined[:, -1],\n",
    "    stratify = y\n",
    ")"
   ]
  },
  {
   "cell_type": "code",
   "execution_count": null,
   "id": "ea1eaa77-61f9-45f2-bf1e-fe7f61042acf",
   "metadata": {},
   "outputs": [],
   "source": [
    "# Normalize training data to be between 0 and 1\n",
    "X_scaler = StandardScaler()\n",
    "\n",
    "# Scale the data\n",
    "X_train_scaled = X_scaler.fit_transform(X_train)\n",
    "X_test_scaled = X_scaler.fit_transform(X_test)"
   ]
  },
  {
   "cell_type": "code",
   "execution_count": null,
   "id": "6b119364-bfb2-43b9-bf9f-07d27f31b8b9",
   "metadata": {},
   "outputs": [],
   "source": []
  },
  {
   "cell_type": "code",
   "execution_count": null,
   "id": "3423ed52-04a7-4a6a-ab1c-11711cd2630c",
   "metadata": {},
   "outputs": [],
   "source": []
  },
  {
   "cell_type": "code",
   "execution_count": null,
   "id": "729f71b7-b820-4e67-bf2f-38fc1e554102",
   "metadata": {},
   "outputs": [],
   "source": []
  },
  {
   "cell_type": "code",
   "execution_count": null,
   "id": "a0476af6-1aee-4823-aac9-d159910866cc",
   "metadata": {},
   "outputs": [],
   "source": []
  },
  {
   "cell_type": "code",
   "execution_count": null,
   "id": "1678953b-7b99-4a41-b93b-9e380bd3f387",
   "metadata": {},
   "outputs": [],
   "source": []
  },
  {
   "cell_type": "code",
   "execution_count": null,
   "id": "ccc01963-256f-469f-a349-4958caf256cb",
   "metadata": {},
   "outputs": [],
   "source": []
  },
  {
   "cell_type": "code",
   "execution_count": null,
   "id": "ba2c835a-5a48-4a5f-82a5-c3d156cc2d7d",
   "metadata": {},
   "outputs": [],
   "source": []
  },
  {
   "cell_type": "code",
   "execution_count": null,
   "id": "d9240454-807c-4d82-87c1-fe0bc3f86814",
   "metadata": {},
   "outputs": [],
   "source": []
  },
  {
   "cell_type": "code",
   "execution_count": null,
   "id": "7932a50c-c644-46dd-9c50-c52dcad79a26",
   "metadata": {},
   "outputs": [],
   "source": [
    "# Flatten the features dataframe\n",
    "flat_df = X.values.flatten().reshape((df.shape[0], -1))"
   ]
  },
  {
   "cell_type": "code",
   "execution_count": null,
   "id": "9eb2c297-15ed-4d98-9292-d692bef34a6a",
   "metadata": {},
   "outputs": [],
   "source": [
    "# Split the preprocessed data to training and testing datasets\n",
    "X_train, X_test, y_train, y_test = train_test_split(flat_df, y, stratify=y)"
   ]
  },
  {
   "cell_type": "code",
   "execution_count": null,
   "id": "882b7cd6-e08a-4756-8a93-4c2c3877d7d5",
   "metadata": {},
   "outputs": [],
   "source": [
    "# Normalize training data to be between 0 and 1\n",
    "X_scaler = MinMaxScaler()\n",
    "\n",
    "# Scale the data\n",
    "X_train_scaled = X_scaler.fit_transform(X_train)\n",
    "X_test_scaled = X_scaler.fit_transform(X_test)"
   ]
  },
  {
   "cell_type": "code",
   "execution_count": null,
   "id": "9a766309-2b86-4544-9020-07ba0c2d9875",
   "metadata": {},
   "outputs": [],
   "source": []
  },
  {
   "cell_type": "code",
   "execution_count": null,
   "id": "4cff5c92-6e8b-4878-9212-a1646b579d62",
   "metadata": {},
   "outputs": [],
   "source": []
  },
  {
   "cell_type": "code",
   "execution_count": null,
   "id": "c4628904-a285-4e8c-b951-86d74244311d",
   "metadata": {},
   "outputs": [],
   "source": []
  },
  {
   "cell_type": "code",
   "execution_count": null,
   "id": "2ff59bf4-f282-401e-92f8-e3ee749790f1",
   "metadata": {},
   "outputs": [],
   "source": []
  },
  {
   "cell_type": "code",
   "execution_count": null,
   "id": "da2318b2-af4b-4ef0-9721-f881aa8c93f3",
   "metadata": {},
   "outputs": [],
   "source": []
  },
  {
   "cell_type": "code",
   "execution_count": null,
   "id": "11478d50-3b2b-4325-9099-7bae64ca7565",
   "metadata": {},
   "outputs": [],
   "source": []
  },
  {
   "cell_type": "code",
   "execution_count": null,
   "id": "7a5294bb-c434-49bf-8ab3-7155f5e8898e",
   "metadata": {},
   "outputs": [],
   "source": [
    "# Convert to numpy arrays\n",
    "X_train_array = X_train.to_numpy()\n",
    "X_test_array = X_test.to_numpy()"
   ]
  },
  {
   "cell_type": "code",
   "execution_count": null,
   "id": "c741ba3d-d76e-48c2-adeb-736b2a8a3312",
   "metadata": {},
   "outputs": [],
   "source": [
    "# Reshape the data\n",
    "X_train_reshaped = X_train_array.reshape((X_train_array.shape[0], -1))\n",
    "X_test_reshaped = X_test_array.reshape((X_test_array.shape[0], -1))"
   ]
  },
  {
   "cell_type": "code",
   "execution_count": null,
   "id": "b022b52d-fdf2-4aa0-a7a4-6db01b461c6c",
   "metadata": {},
   "outputs": [],
   "source": [
    "# Normalize training data to be between 0 and 1\n",
    "X_scaler = MinMaxScaler()\n",
    "\n",
    "# Scale the data\n",
    "X_train_scaled = X_scaler.fit_transform(X_train_reshaped)\n",
    "X_test_scaled = X_scaler.fit_transform(X_test_reshaped)\n",
    "\n",
    "# # Reshape the data back to the original\n",
    "# X_train_scaled = X_train_scaled.reshape(())\n",
    "\n",
    "# X_test_scaled = X_test_scaled.reshape(())"
   ]
  },
  {
   "cell_type": "code",
   "execution_count": null,
   "id": "f6a75fd4-ef7a-4da7-8397-4f9ec28e3a55",
   "metadata": {},
   "outputs": [],
   "source": []
  }
 ],
 "metadata": {
  "kernelspec": {
   "display_name": "dev",
   "language": "python",
   "name": "dev"
  },
  "language_info": {
   "codemirror_mode": {
    "name": "ipython",
    "version": 3
   },
   "file_extension": ".py",
   "mimetype": "text/x-python",
   "name": "python",
   "nbconvert_exporter": "python",
   "pygments_lexer": "ipython3",
   "version": "3.10.13"
  }
 },
 "nbformat": 4,
 "nbformat_minor": 5
}

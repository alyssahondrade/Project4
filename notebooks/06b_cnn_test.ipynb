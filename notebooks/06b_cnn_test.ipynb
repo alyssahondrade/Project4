{
 "cells": [
  {
   "cell_type": "markdown",
   "id": "b0315dbc-359f-46ef-bb03-5c55ad8f7d89",
   "metadata": {},
   "source": [
    "# Spectrograms - CNN Test"
   ]
  },
  {
   "cell_type": "code",
   "execution_count": 1,
   "id": "ef9fa8e4-1d6e-4d44-985e-2bb2f74edb2e",
   "metadata": {},
   "outputs": [],
   "source": [
    "# Import dependencies\n",
    "from sklearn.model_selection import train_test_split\n",
    "from sklearn.preprocessing import MinMaxScaler\n",
    "from tensorflow.keras.models import Sequential\n",
    "from tensorflow.keras.layers import Conv2D, MaxPooling2D, Flatten, Dense, Dropout\n",
    "\n",
    "import sqlalchemy\n",
    "from sqlalchemy import create_engine, inspect\n",
    "\n",
    "import math\n",
    "import numpy as np\n",
    "import pandas as pd\n",
    "import tensorflow as tf\n",
    "import keras_tuner as kt\n",
    "from pprint import pprint\n",
    "\n",
    "import os\n",
    "import sys\n",
    "import time\n",
    "from datetime import datetime\n",
    "from contextlib import redirect_stdout\n",
    "\n",
    "%run functions.ipynb"
   ]
  },
  {
   "cell_type": "code",
   "execution_count": 2,
   "id": "27da9635-2bec-410d-ae28-056be6bfcca7",
   "metadata": {},
   "outputs": [],
   "source": [
    "# Time the run\n",
    "start_time = time.time()"
   ]
  },
  {
   "cell_type": "markdown",
   "id": "7a61a686-d623-4f56-b457-b05d07f8a1fc",
   "metadata": {},
   "source": [
    "## Import datasets"
   ]
  },
  {
   "cell_type": "code",
   "execution_count": 3,
   "id": "280d822a-ec18-4e46-a284-3fd9a0953c47",
   "metadata": {},
   "outputs": [
    {
     "data": {
      "text/plain": [
       "['aval',\n",
       " 'bval',\n",
       " 'chroma1',\n",
       " 'chroma10',\n",
       " 'chroma11',\n",
       " 'chroma12',\n",
       " 'chroma2',\n",
       " 'chroma3',\n",
       " 'chroma4',\n",
       " 'chroma5',\n",
       " 'chroma6',\n",
       " 'chroma7',\n",
       " 'chroma8',\n",
       " 'chroma9',\n",
       " 'chromastd',\n",
       " 'delta',\n",
       " 'demographic',\n",
       " 'diagnosis',\n",
       " 'energy',\n",
       " 'energyentropy',\n",
       " 'gval',\n",
       " 'habits',\n",
       " 'mfcc1',\n",
       " 'mfcc10',\n",
       " 'mfcc11',\n",
       " 'mfcc12',\n",
       " 'mfcc13',\n",
       " 'mfcc2',\n",
       " 'mfcc3',\n",
       " 'mfcc4',\n",
       " 'mfcc5',\n",
       " 'mfcc6',\n",
       " 'mfcc7',\n",
       " 'mfcc8',\n",
       " 'mfcc9',\n",
       " 'rval',\n",
       " 'spectralcentroid',\n",
       " 'spectralentropy',\n",
       " 'spectralflux',\n",
       " 'spectralrolloff',\n",
       " 'spectralspread',\n",
       " 'zcr']"
      ]
     },
     "execution_count": 3,
     "metadata": {},
     "output_type": "execute_result"
    }
   ],
   "source": [
    "# Import the data\n",
    "engine = create_engine(\"sqlite:///voice.sqlite\")\n",
    "\n",
    "# View all of the classes\n",
    "inspector = inspect(engine)\n",
    "table_names = inspector.get_table_names()\n",
    "table_names"
   ]
  },
  {
   "cell_type": "code",
   "execution_count": 4,
   "id": "e5b42f04-e984-4db5-a4d1-53ad7c4e1b13",
   "metadata": {},
   "outputs": [],
   "source": [
    "# Initialise a dictionary to hold dataframes\n",
    "dataframes = dict()\n",
    "\n",
    "# Loop through each table\n",
    "for table in table_names:\n",
    "    \n",
    "    # Dataframe name\n",
    "    df_name = f'{table}_df'\n",
    "    \n",
    "    # Create dataframe\n",
    "    dataframes[df_name] = pd.read_sql(\n",
    "        f'SELECT * FROM {table}',\n",
    "        engine\n",
    "    )"
   ]
  },
  {
   "cell_type": "markdown",
   "id": "b987cb55-0b86-48cf-b436-b5624577f1ed",
   "metadata": {},
   "source": [
    "## Preprocessing"
   ]
  },
  {
   "cell_type": "markdown",
   "id": "075473b9-9750-459c-be18-97755fc5637f",
   "metadata": {},
   "source": [
    "### Define the target variable"
   ]
  },
  {
   "cell_type": "code",
   "execution_count": 5,
   "id": "da3f842a-e9c2-4ca4-ad15-3d8bb4837157",
   "metadata": {},
   "outputs": [
    {
     "data": {
      "text/plain": [
       "0      0\n",
       "1      0\n",
       "2      1\n",
       "3      1\n",
       "4      1\n",
       "      ..\n",
       "199    0\n",
       "200    1\n",
       "201    1\n",
       "202    0\n",
       "203    0\n",
       "Name: diagnosis, Length: 204, dtype: int64"
      ]
     },
     "execution_count": 5,
     "metadata": {},
     "output_type": "execute_result"
    }
   ],
   "source": [
    "# Isolate the diagnosis column\n",
    "y = dataframes['diagnosis_df']['diagnosis'].copy()\n",
    "\n",
    "# Encode the target variable, ignore subtype\n",
    "y = y.apply(encode_binary)\n",
    "y"
   ]
  },
  {
   "cell_type": "markdown",
   "id": "2a8d9885-6a93-4229-b3ce-03b172e62e0b",
   "metadata": {},
   "source": [
    "### Reshape the feature variables"
   ]
  },
  {
   "cell_type": "code",
   "execution_count": 6,
   "id": "2061a3aa-5b45-4f07-bf6d-e1264a8d68b6",
   "metadata": {},
   "outputs": [],
   "source": [
    "# Input shape\n",
    "width_px = 225\n",
    "height_px = 166\n",
    "num_channels = 4 # since RGBA\n",
    "\n",
    "# Define inputs\n",
    "input_shape = (height_px, width_px, num_channels)\n",
    "input_reshape = (height_px, width_px)"
   ]
  },
  {
   "cell_type": "code",
   "execution_count": 7,
   "id": "fd6eb688-b89c-4614-8bb6-a395546cd8d2",
   "metadata": {},
   "outputs": [
    {
     "data": {
      "text/plain": [
       "array([[[ 47,  17,  99, 255],\n",
       "        [ 47,  17,  99, 255],\n",
       "        [ 43,  16,  93, 255],\n",
       "        ...,\n",
       "        [ 35,  11,  70, 255],\n",
       "        [ 47,  16,  90, 255],\n",
       "        [ 49,  17,  93, 255]],\n",
       "\n",
       "       [[ 45,  17,  97, 255],\n",
       "        [ 45,  17,  98, 255],\n",
       "        [ 41,  16,  90, 255],\n",
       "        ...,\n",
       "        [ 49,  15,  93, 255],\n",
       "        [ 59,  16, 108, 255],\n",
       "        [ 60,  15, 111, 255]],\n",
       "\n",
       "       [[ 46,  17,  98, 255],\n",
       "        [ 46,  17,  99, 255],\n",
       "        [ 43,  16,  92, 255],\n",
       "        ...,\n",
       "        [ 29,  13,  68, 255],\n",
       "        [ 51,  16,  99, 255],\n",
       "        [ 54,  16, 104, 255]],\n",
       "\n",
       "       ...,\n",
       "\n",
       "       [[215,  69, 107, 255],\n",
       "        [215,  69, 107, 255],\n",
       "        [211,  67, 109, 255],\n",
       "        ...,\n",
       "        [ 76,  18, 120, 255],\n",
       "        [184,  56, 115, 255],\n",
       "        [201,  62, 114, 255]],\n",
       "\n",
       "       [[235,  90,  96, 255],\n",
       "        [235,  90,  96, 255],\n",
       "        [231,  87,  98, 255],\n",
       "        ...,\n",
       "        [ 91,  20, 125, 255],\n",
       "        [206,  70, 105, 255],\n",
       "        [225,  77, 101, 255]],\n",
       "\n",
       "       [[250, 158, 116, 255],\n",
       "        [250, 158, 116, 255],\n",
       "        [249, 157, 116, 255],\n",
       "        ...,\n",
       "        [162, 103, 138, 255],\n",
       "        [236, 150, 123, 255],\n",
       "        [248, 157, 120, 255]]])"
      ]
     },
     "execution_count": 7,
     "metadata": {},
     "output_type": "execute_result"
    }
   ],
   "source": [
    "# Dataframe order\n",
    "rgba_order = ['rval_df', 'gval_df', 'bval_df', 'aval_df']\n",
    "\n",
    "# Initialise list to hold the dataframes\n",
    "rgba_df_list = []\n",
    "\n",
    "# Loop through all the dataframes\n",
    "for df in rgba_order:\n",
    "    \n",
    "    # Define the df columns\n",
    "    df_cols = dataframes[df].columns\n",
    "\n",
    "    # Reshape to its original dimensions\n",
    "    data = np.array(\n",
    "        [dataframes[df][col].values.reshape(input_reshape) for col in df_cols]\n",
    "    )\n",
    "\n",
    "    # Append to the list\n",
    "    rgba_df_list.append(data)\n",
    "\n",
    "# Define the feature variables\n",
    "X = np.stack(rgba_df_list, axis=-1)\n",
    "\n",
    "# Display the first for confirmation\n",
    "X[0]"
   ]
  },
  {
   "cell_type": "markdown",
   "id": "050f9776-eac2-4eaa-a8d4-fb862aea67d0",
   "metadata": {},
   "source": [
    "### Split and Scale"
   ]
  },
  {
   "cell_type": "code",
   "execution_count": 8,
   "id": "93026db2-4f60-426a-9be9-89c669c30b83",
   "metadata": {},
   "outputs": [],
   "source": [
    "# Split the preprocessed data to training and testing datasets\n",
    "X_train, X_test, y_train, y_test = train_test_split(X, y, stratify=y)"
   ]
  },
  {
   "cell_type": "code",
   "execution_count": 9,
   "id": "e818da95-d81e-4df7-b4aa-6c8e8f3896e7",
   "metadata": {},
   "outputs": [],
   "source": [
    "# Reshape the data\n",
    "X_train_reshaped = X_train.reshape((\n",
    "    X_train.shape[0], # total number of samples\n",
    "    height_px * width_px * num_channels # total number flattened\n",
    "))\n",
    "\n",
    "X_test_reshaped = X_test.reshape((\n",
    "    X_test.shape[0],\n",
    "    height_px * width_px * num_channels\n",
    "    ))"
   ]
  },
  {
   "cell_type": "code",
   "execution_count": 10,
   "id": "fe9751b7-f7c9-4071-8745-dc39a000f215",
   "metadata": {},
   "outputs": [],
   "source": [
    "# Normalize training data to be between 0 and 1\n",
    "X_scaler = MinMaxScaler()\n",
    "\n",
    "# Scale the data\n",
    "X_train_scaled = X_scaler.fit_transform(X_train_reshaped)\n",
    "X_test_scaled = X_scaler.fit_transform(X_test_reshaped)\n",
    "\n",
    "# Reshape the data back to the original\n",
    "X_train_scaled = X_train_scaled.reshape((\n",
    "    X_train_scaled.shape[0],\n",
    "    height_px,\n",
    "    width_px,\n",
    "    num_channels\n",
    "))\n",
    "\n",
    "X_test_scaled = X_test_scaled.reshape((\n",
    "    X_test_scaled.shape[0],\n",
    "    height_px,\n",
    "    width_px,\n",
    "    num_channels\n",
    "))"
   ]
  },
  {
   "cell_type": "markdown",
   "id": "543476ca-4a81-48bd-8b2b-91851f9b2811",
   "metadata": {},
   "source": [
    "## Initial Test Model"
   ]
  },
  {
   "cell_type": "markdown",
   "id": "d5227b15-08ae-4b2e-850d-2ca05755fbc8",
   "metadata": {},
   "source": [
    "__GUIDELINES__\n",
    "\n",
    "- The number of filters for convolutional layers should:\n",
    "    - Be a value to the power of 2\n",
    "    - Increase for each following layer (i.e. `32`, `64`, `128`)\n",
    "- The number of neurons for the fully connected layers should:\n",
    "    - Be a value to the power of 2\n",
    "    - Decrease for each following layer (i.e. `64`, `32`)\n",
    "- Kernel size must be an odd integer"
   ]
  },
  {
   "cell_type": "code",
   "execution_count": 11,
   "id": "e088f86e-3626-4f40-8858-dda232755f38",
   "metadata": {},
   "outputs": [
    {
     "name": "stdout",
     "output_type": "stream",
     "text": [
      "Model: \"sequential\"\n",
      "_________________________________________________________________\n",
      " Layer (type)                Output Shape              Param #   \n",
      "=================================================================\n",
      " conv2d (Conv2D)             (None, 39, 54, 96)        46560     \n",
      "                                                                 \n",
      " max_pooling2d (MaxPooling2  (None, 19, 26, 96)        0         \n",
      " D)                                                              \n",
      "                                                                 \n",
      " conv2d_1 (Conv2D)           (None, 19, 26, 384)       332160    \n",
      "                                                                 \n",
      " conv2d_2 (Conv2D)           (None, 19, 26, 384)       1327488   \n",
      "                                                                 \n",
      " conv2d_3 (Conv2D)           (None, 19, 26, 256)       884992    \n",
      "                                                                 \n",
      " max_pooling2d_1 (MaxPoolin  (None, 9, 12, 256)        0         \n",
      " g2D)                                                            \n",
      "                                                                 \n",
      " flatten (Flatten)           (None, 27648)             0         \n",
      "                                                                 \n",
      " dense (Dense)               (None, 4096)              113250304 \n",
      "                                                                 \n",
      " dropout (Dropout)           (None, 4096)              0         \n",
      "                                                                 \n",
      " dense_1 (Dense)             (None, 4096)              16781312  \n",
      "                                                                 \n",
      " dropout_1 (Dropout)         (None, 4096)              0         \n",
      "                                                                 \n",
      " dense_2 (Dense)             (None, 1)                 4097      \n",
      "                                                                 \n",
      "=================================================================\n",
      "Total params: 132626913 (505.93 MB)\n",
      "Trainable params: 132626913 (505.93 MB)\n",
      "Non-trainable params: 0 (0.00 Byte)\n",
      "_________________________________________________________________\n"
     ]
    }
   ],
   "source": [
    "def alexnet(input_shape, num_classes):\n",
    "    model = Sequential()\n",
    "\n",
    "    # Layer 1: Update input_shape\n",
    "    model.add(Conv2D(\n",
    "        filters = 96,\n",
    "        kernel_size = (11, 11),\n",
    "        strides = (4, 4),\n",
    "        activation = 'relu',\n",
    "        input_shape=input_shape\n",
    "    ))\n",
    "    model.add(MaxPooling2D(\n",
    "        pool_size = (3, 3),\n",
    "        strides = (2, 2)\n",
    "    ))\n",
    "\n",
    "    # Layer 2\n",
    "    # model.add(Conv2D(\n",
    "    #     filters = 256,\n",
    "    #     kernel_size = (5, 5),\n",
    "    #     padding = 'same',\n",
    "    #     activation = 'relu'\n",
    "    # ))\n",
    "    # model.add(MaxPooling2D(\n",
    "    #     pool_size = (3, 3),\n",
    "    #     strides = (2, 2)\n",
    "    # ))\n",
    "\n",
    "    # Layer 3\n",
    "    model.add(Conv2D(\n",
    "        filters = 384,\n",
    "        kernel_size = (3, 3),\n",
    "        padding = 'same',\n",
    "        activation = 'relu'\n",
    "    ))\n",
    "\n",
    "    # Layer 4\n",
    "    model.add(Conv2D(\n",
    "        filters = 384,\n",
    "        kernel_size = (3, 3),\n",
    "        padding = 'same',\n",
    "        activation = 'relu'\n",
    "    ))\n",
    "\n",
    "    # Layer 5\n",
    "    model.add(Conv2D(\n",
    "        filters = 256,\n",
    "        kernel_size = (3, 3),\n",
    "        padding = 'same',\n",
    "        activation = 'relu'\n",
    "    ))\n",
    "    model.add(MaxPooling2D(\n",
    "        pool_size = (3, 3),\n",
    "        strides=(2, 2)\n",
    "    ))\n",
    "\n",
    "    # Flatten\n",
    "    model.add(Flatten())\n",
    "\n",
    "    # Fully connected layers\n",
    "    model.add(Dense(\n",
    "        units = 4096,\n",
    "        activation = 'relu'\n",
    "    ))\n",
    "    model.add(Dropout(0.5))\n",
    "\n",
    "    model.add(Dense(\n",
    "        units = 4096,\n",
    "        activation = 'relu'\n",
    "    ))\n",
    "    model.add(Dropout(0.5))\n",
    "\n",
    "    # Output layer: Adjust num_classes\n",
    "    model.add(Dense(\n",
    "        units = num_classes,\n",
    "        activation = 'sigmoid'\n",
    "    ))\n",
    "\n",
    "    return model\n",
    "\n",
    "# Since binary classification\n",
    "num_classes = 1\n",
    "\n",
    "# Create the model\n",
    "cnn = alexnet(input_shape, num_classes)\n",
    "\n",
    "# Display the summary\n",
    "cnn.summary()"
   ]
  },
  {
   "cell_type": "code",
   "execution_count": 12,
   "id": "7d3b9fb1-bbc1-444b-8c6f-67e50f2176c9",
   "metadata": {},
   "outputs": [],
   "source": [
    "# Compile the model\n",
    "cnn.compile(\n",
    "    optimizer = 'adam',\n",
    "    loss = 'binary_crossentropy',\n",
    "    metrics = ['accuracy']\n",
    ")"
   ]
  },
  {
   "cell_type": "code",
   "execution_count": 13,
   "id": "46a90f68-bf6a-45d9-9b02-e83c4bdbf346",
   "metadata": {},
   "outputs": [
    {
     "name": "stdout",
     "output_type": "stream",
     "text": [
      "Epoch 1/15\n",
      "5/5 [==============================] - 4s 711ms/step - loss: 4.1134 - accuracy: 0.5033\n",
      "Epoch 2/15\n",
      "5/5 [==============================] - 4s 699ms/step - loss: 0.6555 - accuracy: 0.7190\n",
      "Epoch 3/15\n",
      "5/5 [==============================] - 3s 692ms/step - loss: 0.6003 - accuracy: 0.7190\n",
      "Epoch 4/15\n",
      "5/5 [==============================] - 4s 718ms/step - loss: 0.6028 - accuracy: 0.7190\n",
      "Epoch 5/15\n",
      "5/5 [==============================] - 4s 699ms/step - loss: 0.6105 - accuracy: 0.7190\n",
      "Epoch 6/15\n",
      "5/5 [==============================] - 3s 692ms/step - loss: 0.6141 - accuracy: 0.7190\n",
      "Epoch 7/15\n",
      "5/5 [==============================] - 3s 690ms/step - loss: 0.6088 - accuracy: 0.7190\n",
      "Epoch 8/15\n",
      "5/5 [==============================] - 3s 691ms/step - loss: 0.6050 - accuracy: 0.7190\n",
      "Epoch 9/15\n",
      "5/5 [==============================] - 3s 689ms/step - loss: 0.5986 - accuracy: 0.7190\n",
      "Epoch 10/15\n",
      "5/5 [==============================] - 4s 695ms/step - loss: 0.6027 - accuracy: 0.7190\n",
      "Epoch 11/15\n",
      "5/5 [==============================] - 4s 699ms/step - loss: 0.5979 - accuracy: 0.7190\n",
      "Epoch 12/15\n",
      "5/5 [==============================] - 4s 710ms/step - loss: 0.6299 - accuracy: 0.7190\n",
      "Epoch 13/15\n",
      "5/5 [==============================] - 4s 699ms/step - loss: 0.5997 - accuracy: 0.7190\n",
      "Epoch 14/15\n",
      "5/5 [==============================] - 4s 699ms/step - loss: 0.6009 - accuracy: 0.7190\n",
      "Epoch 15/15\n",
      "5/5 [==============================] - 4s 729ms/step - loss: 0.5894 - accuracy: 0.7190\n"
     ]
    },
    {
     "data": {
      "text/plain": [
       "<keras.src.callbacks.History at 0x2991a08b0>"
      ]
     },
     "execution_count": 13,
     "metadata": {},
     "output_type": "execute_result"
    }
   ],
   "source": [
    "# Train the model\n",
    "cnn.fit(\n",
    "    X_train_scaled,\n",
    "    y_train,\n",
    "    epochs = 15,\n",
    "    shuffle = True, # reduce risk of overfitting\n",
    "    verbose = 1\n",
    ")"
   ]
  },
  {
   "cell_type": "code",
   "execution_count": 14,
   "id": "7cbff7c9-8aad-4bff-b2e0-dd36b6f608f0",
   "metadata": {},
   "outputs": [
    {
     "name": "stdout",
     "output_type": "stream",
     "text": [
      "2/2 - 0s - loss: 0.5866 - accuracy: 0.7255 - 367ms/epoch - 183ms/step\n",
      "Loss: 0.5866355895996094, Accuracy: 0.7254902124404907\n"
     ]
    }
   ],
   "source": [
    "# Evaluate the model using the test data\n",
    "model_loss, model_accuracy = cnn.evaluate(\n",
    "    X_test_scaled,\n",
    "    y_test,\n",
    "    verbose = 2\n",
    ")\n",
    "print(f\"Loss: {model_loss}, Accuracy: {model_accuracy}\")"
   ]
  },
  {
   "cell_type": "markdown",
   "id": "18731a54-ea22-4ae8-97c6-51b4adaa0245",
   "metadata": {},
   "source": [
    "## Save Results to Performance Tracker"
   ]
  },
  {
   "cell_type": "code",
   "execution_count": 15,
   "id": "1962f241-3698-4dab-8e2d-94a33952ea60",
   "metadata": {},
   "outputs": [],
   "source": [
    "# Create dictionary to save the results\n",
    "results_dict = dict()\n",
    "\n",
    "current_time = datetime.now()\n",
    "results_dict['timestamp'] = current_time\n",
    "results_dict['runtime'] = time.time() - start_time\n",
    "results_dict['model_loss'] = model_loss\n",
    "results_dict['model_accuracy'] = model_accuracy"
   ]
  },
  {
   "cell_type": "code",
   "execution_count": 16,
   "id": "208cba64-5c33-4448-966d-46da37c166fc",
   "metadata": {},
   "outputs": [
    {
     "name": "stdin",
     "output_type": "stream",
     "text": [
      "Changes from previous iteration:  removed layer 2\n"
     ]
    }
   ],
   "source": [
    "# Change message\n",
    "change_message = input(\"Changes from previous iteration: \")\n",
    "\n",
    "# Append to results_dict\n",
    "results_dict['change_message'] = change_message"
   ]
  },
  {
   "cell_type": "code",
   "execution_count": 17,
   "id": "371f1f37-6f4e-49d0-8454-c19b1ee75fee",
   "metadata": {},
   "outputs": [
    {
     "data": {
      "text/plain": [
       "{'timestamp': datetime.datetime(2024, 1, 6, 14, 39, 28, 461956),\n",
       " 'runtime': 61.03074812889099,\n",
       " 'model_loss': 0.5866355895996094,\n",
       " 'model_accuracy': 0.7254902124404907,\n",
       " 'change_message': 'removed layer 2'}"
      ]
     },
     "execution_count": 17,
     "metadata": {},
     "output_type": "execute_result"
    }
   ],
   "source": [
    "# Display the dictionary\n",
    "results_dict"
   ]
  },
  {
   "cell_type": "code",
   "execution_count": 18,
   "id": "e76a6d16-c4f6-4a3f-af16-fca4cdb59737",
   "metadata": {},
   "outputs": [],
   "source": [
    "# Model summary folder path\n",
    "summary_path = '../resources/tracker/cnn_summary/'\n",
    "num_files = len(os.listdir(summary_path))\n",
    "\n",
    "# Export summary to text file\n",
    "with open(f'{summary_path}cnn_summary_{num_files}.txt', 'w') as f:\n",
    "    with redirect_stdout(f):\n",
    "        cnn.summary()\n",
    "        pprint(results_dict)"
   ]
  },
  {
   "cell_type": "code",
   "execution_count": 19,
   "id": "ffdd429a-69d6-4e3b-97dd-aece8056cc29",
   "metadata": {},
   "outputs": [
    {
     "data": {
      "text/html": [
       "<div>\n",
       "<style scoped>\n",
       "    .dataframe tbody tr th:only-of-type {\n",
       "        vertical-align: middle;\n",
       "    }\n",
       "\n",
       "    .dataframe tbody tr th {\n",
       "        vertical-align: top;\n",
       "    }\n",
       "\n",
       "    .dataframe thead th {\n",
       "        text-align: right;\n",
       "    }\n",
       "</style>\n",
       "<table border=\"1\" class=\"dataframe\">\n",
       "  <thead>\n",
       "    <tr style=\"text-align: right;\">\n",
       "      <th></th>\n",
       "      <th>timestamp</th>\n",
       "      <th>runtime</th>\n",
       "      <th>model_loss</th>\n",
       "      <th>model_accuracy</th>\n",
       "      <th>change_message</th>\n",
       "    </tr>\n",
       "  </thead>\n",
       "  <tbody>\n",
       "    <tr>\n",
       "      <th>0</th>\n",
       "      <td>2024-01-06 14:39:28.461956</td>\n",
       "      <td>61.030748</td>\n",
       "      <td>0.586636</td>\n",
       "      <td>0.72549</td>\n",
       "      <td>removed layer 2</td>\n",
       "    </tr>\n",
       "  </tbody>\n",
       "</table>\n",
       "</div>"
      ],
      "text/plain": [
       "                   timestamp    runtime  model_loss  model_accuracy  \\\n",
       "0 2024-01-06 14:39:28.461956  61.030748    0.586636         0.72549   \n",
       "\n",
       "    change_message  \n",
       "0  removed layer 2  "
      ]
     },
     "execution_count": 19,
     "metadata": {},
     "output_type": "execute_result"
    }
   ],
   "source": [
    "# Convert the dictionary to a dataframe\n",
    "results_df = pd.DataFrame(results_dict, index=[0])\n",
    "results_df.head()"
   ]
  },
  {
   "cell_type": "code",
   "execution_count": 20,
   "id": "a415fcf5-1154-47ef-99db-e0da052f88fd",
   "metadata": {},
   "outputs": [
    {
     "name": "stderr",
     "output_type": "stream",
     "text": [
      "/Users/alyssahondrade/anaconda3/envs/dev/lib/python3.10/site-packages/keras/src/engine/training.py:3103: UserWarning: You are saving your model as an HDF5 file via `model.save()`. This file format is considered legacy. We recommend using instead the native Keras format, e.g. `model.save('my_model.keras')`.\n",
      "  saving_api.save_model(\n"
     ]
    }
   ],
   "source": [
    "# Performance tracker\n",
    "tracker_path = \"../resources/tracker/cnn_performance_tracker.csv\"\n",
    "\n",
    "# Model percentage\n",
    "model_pct = round(model_accuracy, 3)\n",
    "\n",
    "# Check if the CSV exists\n",
    "if os.path.exists(tracker_path):\n",
    "    \n",
    "    # Read the existing CSV\n",
    "    tracker_df = pd.read_csv(tracker_path)\n",
    "    \n",
    "    # Append the new row of data\n",
    "    updated_df = pd.concat([tracker_df, results_df], ignore_index=True)\n",
    "    \n",
    "    # Update the CSV file\n",
    "    updated_df.to_csv(tracker_path, index=False)\n",
    "    \n",
    "    # Export model to HDF5 file\n",
    "    cnn.save(f'../models/cnn/run_{len(tracker_df)}_{model_pct}.h5', save_format='h5')\n",
    "\n",
    "else:    \n",
    "    # Export to CSV\n",
    "    results_df.to_csv(tracker_path, index=False)\n",
    "    \n",
    "    # Export model to HDF5 file\n",
    "    cnn.save(f'../models/cnn/run_0_{model_pct}.h5', save_format='h5')"
   ]
  },
  {
   "cell_type": "code",
   "execution_count": null,
   "id": "9603f9ff-fbac-46d0-88d7-74d5e2200c30",
   "metadata": {},
   "outputs": [],
   "source": []
  }
 ],
 "metadata": {
  "kernelspec": {
   "display_name": "dev",
   "language": "python",
   "name": "dev"
  },
  "language_info": {
   "codemirror_mode": {
    "name": "ipython",
    "version": 3
   },
   "file_extension": ".py",
   "mimetype": "text/x-python",
   "name": "python",
   "nbconvert_exporter": "python",
   "pygments_lexer": "ipython3",
   "version": "3.10.13"
  }
 },
 "nbformat": 4,
 "nbformat_minor": 5
}

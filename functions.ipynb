{
 "cells": [
  {
   "cell_type": "markdown",
   "id": "b0004cc8-d835-4205-8624-99d5d9e1062c",
   "metadata": {},
   "source": [
    "# Functions"
   ]
  },
  {
   "cell_type": "code",
   "execution_count": 2,
   "id": "7766ab96-7a3e-46d2-a9ee-93ed73573024",
   "metadata": {},
   "outputs": [],
   "source": [
    "# Create a function that will convert the values\n",
    "def convert_perday(value):\n",
    "    \"\"\"\n",
    "    The purpose of this function is to clean non-null\n",
    "    values in the alcohol_pd column.\n",
    "    \n",
    "    This function is used with 'apply'.\n",
    "    \"\"\"\n",
    "    \n",
    "    # Convert value to a string\n",
    "    value = str(value)\n",
    "    \n",
    "    # Check if 'per week' is in the value\n",
    "    if ' per week' in value:\n",
    "        # Remove the ' per week' string and convert to int\n",
    "        converted = value.replace(\" per week\", \"\")\n",
    "\n",
    "        # Get the per day value\n",
    "        per_day = round(int(converted)/7, 1)\n",
    "\n",
    "        return per_day\n",
    "\n",
    "    # Check values with a comma\n",
    "    elif ',' in value:\n",
    "        # Replace with a full stop and convert to int\n",
    "        return value.replace(\",\", \".\")\n",
    "\n",
    "    # Check values with a fraction\n",
    "    elif '/' in value:\n",
    "        # Split the value to separate values\n",
    "        sep_values = value.split(\"/\")\n",
    "        \n",
    "        # Convert each value to an integer\n",
    "        sep_values = [int(val) for val in sep_values]\n",
    "\n",
    "        # Calculate the mean value\n",
    "        return mean(sep_values)\n",
    "    \n",
    "    # Catchall\n",
    "    else:\n",
    "        return value"
   ]
  },
  {
   "cell_type": "code",
   "execution_count": null,
   "id": "1a0324b4-71bc-47a7-abd0-c22e9ccf597c",
   "metadata": {},
   "outputs": [],
   "source": []
  }
 ],
 "metadata": {
  "kernelspec": {
   "display_name": "dev",
   "language": "python",
   "name": "dev"
  },
  "language_info": {
   "codemirror_mode": {
    "name": "ipython",
    "version": 3
   },
   "file_extension": ".py",
   "mimetype": "text/x-python",
   "name": "python",
   "nbconvert_exporter": "python",
   "pygments_lexer": "ipython3",
   "version": "3.10.13"
  }
 },
 "nbformat": 4,
 "nbformat_minor": 5
}

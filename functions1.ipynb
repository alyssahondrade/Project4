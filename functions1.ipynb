{
 "cells": [
  {
   "cell_type": "markdown",
   "id": "00d1d7a7-19c6-485b-b91f-3b70469c6911",
   "metadata": {},
   "source": [
    "# Functions"
   ]
  },
  {
   "cell_type": "code",
   "execution_count": 2,
   "id": "11c56aca-1669-4303-93bf-6d166f8c561f",
   "metadata": {},
   "outputs": [],
   "source": [
    "def clean_pd(value):\n",
    "    \"\"\"\n",
    "    Purpose:\n",
    "    - Clean numerical 'X_pd' columns.\n",
    "    - To be used with `apply()`.\n",
    "    \n",
    "    Pipeline:\n",
    "    - Convert to a string for manipulation.\n",
    "    - Strip non-numerical values.\n",
    "    - Calculate averages as required.\n",
    "    - Return an int value.\n",
    "    \"\"\"\n",
    "    \n",
    "    # Convert value to a string\n",
    "    value = str(value)\n",
    "    \n",
    "    # Check if ' per week' is in the value\n",
    "    if ' per week' in value:\n",
    "        # Remove the ' per week' string\n",
    "        converted = value.replace(\" per week\", \"\").strip()\n",
    "        \n",
    "        # Get the per day value\n",
    "        per_day = round(int(converted)/7, 1)\n",
    "        \n",
    "        return per_day"
   ]
  },
  {
   "cell_type": "code",
   "execution_count": null,
   "id": "4a9393fa-29b3-43a5-ae5a-b8f7b88c5928",
   "metadata": {},
   "outputs": [],
   "source": []
  }
 ],
 "metadata": {
  "kernelspec": {
   "display_name": "dev",
   "language": "python",
   "name": "dev"
  },
  "language_info": {
   "codemirror_mode": {
    "name": "ipython",
    "version": 3
   },
   "file_extension": ".py",
   "mimetype": "text/x-python",
   "name": "python",
   "nbconvert_exporter": "python",
   "pygments_lexer": "ipython3",
   "version": "3.10.13"
  }
 },
 "nbformat": 4,
 "nbformat_minor": 5
}

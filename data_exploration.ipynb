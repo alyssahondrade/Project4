{
 "cells": [
  {
   "cell_type": "code",
   "execution_count": 39,
   "id": "5bf7092a-affd-4793-9811-ced8be5456b4",
   "metadata": {},
   "outputs": [],
   "source": [
    "# Import dependencies\n",
    "import os\n",
    "import pandas as pd"
   ]
  },
  {
   "cell_type": "code",
   "execution_count": 60,
   "id": "a41b27f0-c343-4ad0-8bb3-9329582b7a1b",
   "metadata": {},
   "outputs": [],
   "source": [
    "import wfdb\n",
    "import numpy as np\n",
    "import matplotlib.pyplot as plt"
   ]
  },
  {
   "cell_type": "code",
   "execution_count": 41,
   "id": "907ab4f6-4653-4f2a-880f-4554d515bcd5",
   "metadata": {},
   "outputs": [],
   "source": [
    "voiced_dataset = \"resources/voiced_dataset/\""
   ]
  },
  {
   "cell_type": "code",
   "execution_count": 42,
   "id": "5bf4d17c-4f89-473c-860e-1ad0a1f564a1",
   "metadata": {},
   "outputs": [
    {
     "name": "stdout",
     "output_type": "stream",
     "text": [
      "Info File: 208\n",
      "Signal File: 208\n"
     ]
    }
   ],
   "source": [
    "# Get all the files in the directory\n",
    "files = os.listdir(voiced_dataset)\n",
    "\n",
    "# Create lists to check dataset\n",
    "voice_info = []\n",
    "voice_file = []\n",
    "\n",
    "# Loop through each file\n",
    "for file in files:\n",
    "    # Look through voice files only\n",
    "    if file.startswith(\"voice\"):\n",
    "        \n",
    "        # Isolate the info text files\n",
    "        if file.endswith(\"-info.txt\"):\n",
    "            voice_id = file.split(\"-\")[0]\n",
    "            voice_info.append(voice_id)\n",
    "        \n",
    "        # Isolate the voice text files\n",
    "        elif file.endswith(\".txt\"):\n",
    "            voice_id = file.split(\".\")[0]\n",
    "            voice_file.append(voice_id)\n",
    "\n",
    "# Confirm each sample has a signal and info file\n",
    "print(f'Info File: {len(voice_info)}')\n",
    "print(f'Signal File: {len(voice_file)}')"
   ]
  },
  {
   "cell_type": "code",
   "execution_count": 64,
   "id": "5b66251d-593b-40bb-b04f-72c7b358c94e",
   "metadata": {
    "scrolled": true,
    "tags": []
   },
   "outputs": [],
   "source": [
    "# Read in the raw data as a signal using wfdb\n",
    "for file in files:\n",
    "    if file.startswith(\"voice\") and file.endswith(\"-info.txt\"):\n",
    "        voice_id = file.split(\"-\")[0]\n",
    "        record_name = voiced_dataset + voice_id\n",
    "        \n",
    "        record = wfdb.rdrecord(record_name)\n",
    "        \n",
    "        # Access the signal data\n",
    "        signal_data = record.p_signal\n",
    "        \n",
    "        # Access the metadata from the header\n",
    "        sampling_frequency = record.fs\n",
    "        signal_names = record.sig_name\n",
    "        \n",
    "        # print(f'Sampling frequency: {sampling_frequency} Hz') # all 8000 Hz\n",
    "        # print(f'Signal name: {signal_names}') # all voice files\n",
    "        \n",
    "        # Plot the signal data\n",
    "        # plt.figure(figsize=(12, 6))\n",
    "        # plt.plot(signal_data)\n",
    "        # plt.title('Signal Data')\n",
    "        # plt.xlabel('Sample Index')\n",
    "        # plt.ylabel('Amplitude')\n",
    "        # plt.show()"
   ]
  },
  {
   "cell_type": "code",
   "execution_count": null,
   "id": "53babc6f-a178-4584-8839-ec98f63b646c",
   "metadata": {},
   "outputs": [],
   "source": []
  }
 ],
 "metadata": {
  "kernelspec": {
   "display_name": "dev",
   "language": "python",
   "name": "dev"
  },
  "language_info": {
   "codemirror_mode": {
    "name": "ipython",
    "version": 3
   },
   "file_extension": ".py",
   "mimetype": "text/x-python",
   "name": "python",
   "nbconvert_exporter": "python",
   "pygments_lexer": "ipython3",
   "version": "3.10.13"
  }
 },
 "nbformat": 4,
 "nbformat_minor": 5
}
